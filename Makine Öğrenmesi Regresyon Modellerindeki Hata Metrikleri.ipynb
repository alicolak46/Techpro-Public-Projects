{
 "cells": [
  {
   "cell_type": "code",
   "execution_count": 1,
   "id": "eb81b244",
   "metadata": {
    "ExecuteTime": {
     "end_time": "2024-02-02T09:20:48.308952Z",
     "start_time": "2024-02-02T09:20:45.325552Z"
    }
   },
   "outputs": [],
   "source": [
    "import math  \n",
    "import numpy as np\n",
    "from sklearn.metrics import mean_absolute_error as mae\n",
    "from sklearn.metrics import mean_squared_error as mse\n",
    "from sklearn.metrics import r2_score\n",
    "from math import sqrt"
   ]
  },
  {
   "cell_type": "code",
   "execution_count": 3,
   "id": "3250ea2c",
   "metadata": {
    "ExecuteTime": {
     "end_time": "2024-02-02T09:21:09.476910Z",
     "start_time": "2024-02-02T09:21:09.465123Z"
    }
   },
   "outputs": [
    {
     "name": "stdout",
     "output_type": "stream",
     "text": [
      "Mean Absolute Error :  1000.0\n"
     ]
    }
   ],
   "source": [
    "actual = [50000, 50000]  \n",
    "predicted = [49000, 51000]\n",
    "\n",
    "MAE = mae(actual, predicted)\n",
    "\n",
    "print(f\"Mean Absolute Error : \", MAE)\n"
   ]
  },
  {
   "cell_type": "code",
   "execution_count": 4,
   "id": "2bc27a0c",
   "metadata": {
    "ExecuteTime": {
     "end_time": "2024-02-02T09:21:17.975232Z",
     "start_time": "2024-02-02T09:21:17.968120Z"
    }
   },
   "outputs": [
    {
     "name": "stdout",
     "output_type": "stream",
     "text": [
      "Mean Squared Error :  1000000.0\n"
     ]
    }
   ],
   "source": [
    "actual = [50000, 50000]  \n",
    "predicted = [49000, 51000]\n",
    "\n",
    "MSE = mse(actual, predicted)\n",
    "\n",
    "print(f\"Mean Squared Error : \", MSE)"
   ]
  },
  {
   "cell_type": "code",
   "execution_count": 5,
   "id": "66778085",
   "metadata": {
    "ExecuteTime": {
     "end_time": "2024-02-02T09:21:29.179830Z",
     "start_time": "2024-02-02T09:21:29.160503Z"
    }
   },
   "outputs": [
    {
     "name": "stdout",
     "output_type": "stream",
     "text": [
      "Root Mean Squared Error :  1000.0\n"
     ]
    }
   ],
   "source": [
    "actual = [50000, 50000]  \n",
    "predicted = [49000, 51000]\n",
    "   \n",
    "RMSE = sqrt(mse(actual, predicted))\n",
    "\n",
    "print(f\"Root Mean Squared Error : \", RMSE)"
   ]
  },
  {
   "cell_type": "code",
   "execution_count": 6,
   "id": "2ed4a9ef",
   "metadata": {
    "ExecuteTime": {
     "end_time": "2024-02-02T09:21:39.616184Z",
     "start_time": "2024-02-02T09:21:39.606841Z"
    }
   },
   "outputs": [
    {
     "name": "stdout",
     "output_type": "stream",
     "text": [
      "Coefficient of Determination :  0.7857142857142857\n"
     ]
    }
   ],
   "source": [
    "actual = [50000, 51000, 53000]  \n",
    "predicted = [49000, 51000, 53000]\n",
    "   \n",
    "R_square = r2_score(actual, predicted)\n",
    "\n",
    "print(f\"Coefficient of Determination : \", R_square)"
   ]
  },
  {
   "cell_type": "code",
   "execution_count": null,
   "id": "a351dbe6",
   "metadata": {},
   "outputs": [],
   "source": []
  }
 ],
 "metadata": {
  "hide_input": false,
  "kernelspec": {
   "display_name": "Python 3 (ipykernel)",
   "language": "python",
   "name": "python3"
  },
  "language_info": {
   "codemirror_mode": {
    "name": "ipython",
    "version": 3
   },
   "file_extension": ".py",
   "mimetype": "text/x-python",
   "name": "python",
   "nbconvert_exporter": "python",
   "pygments_lexer": "ipython3",
   "version": "3.9.13"
  },
  "toc": {
   "base_numbering": 1,
   "nav_menu": {},
   "number_sections": true,
   "sideBar": true,
   "skip_h1_title": false,
   "title_cell": "Table of Contents",
   "title_sidebar": "Contents",
   "toc_cell": false,
   "toc_position": {},
   "toc_section_display": true,
   "toc_window_display": false
  }
 },
 "nbformat": 4,
 "nbformat_minor": 5
}
