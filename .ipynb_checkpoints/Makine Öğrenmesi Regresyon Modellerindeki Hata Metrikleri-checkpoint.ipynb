{
 "cells": [
  {
   "cell_type": "code",
   "execution_count": 1,
   "id": "3e8e3b41",
   "metadata": {
    "ExecuteTime": {
     "end_time": "2024-02-02T09:20:48.308952Z",
     "start_time": "2024-02-02T09:20:45.325552Z"
    }
   },
   "outputs": [],
   "source": [
    "import math  \n",
    "import numpy as np\n",
    "from sklearn.metrics import mean_absolute_error as mae\n",
    "from sklearn.metrics import mean_squared_error as mse\n",
    "from sklearn.metrics import r2_score\n",
    "from math import sqrt"
   ]
  },
  {
   "cell_type": "code",
   "execution_count": 3,
   "id": "be9268c7",
   "metadata": {
    "ExecuteTime": {
     "end_time": "2024-02-02T09:21:09.476910Z",
     "start_time": "2024-02-02T09:21:09.465123Z"
    }
   },
   "outputs": [
    {
     "name": "stdout",
     "output_type": "stream",
     "text": [
      "Mean Absolute Error :  1000.0\n"
     ]
    }
   ],
   "source": [
    "actual = [50000, 50000]  \n",
    "predicted = [49000, 51000]\n",
    "\n",
    "MAE = mae(actual, predicted)\n",
    "\n",
    "print(f\"Mean Absolute Error : \", MAE)\n"
   ]
  },
  {
   "cell_type": "code",
   "execution_count": 4,
   "id": "ed6aae03",
   "metadata": {
    "ExecuteTime": {
     "end_time": "2024-02-02T09:21:17.975232Z",
     "start_time": "2024-02-02T09:21:17.968120Z"
    }
   },
   "outputs": [
    {
     "name": "stdout",
     "output_type": "stream",
     "text": [
      "Mean Squared Error :  1000000.0\n"
     ]
    }
   ],
   "source": [
    "actual = [50000, 50000]  \n",
    "predicted = [49000, 51000]\n",
    "\n",
    "MSE = mse(actual, predicted)\n",
    "\n",
    "print(f\"Mean Squared Error : \", MSE)"
   ]
  },
  {
   "cell_type": "code",
   "execution_count": 5,
   "id": "766dac11",
   "metadata": {
    "ExecuteTime": {
     "end_time": "2024-02-02T09:21:29.179830Z",
     "start_time": "2024-02-02T09:21:29.160503Z"
    }
   },
   "outputs": [
    {
     "name": "stdout",
     "output_type": "stream",
     "text": [
      "Root Mean Squared Error :  1000.0\n"
     ]
    }
   ],
   "source": [
    "actual = [50000, 50000]  \n",
    "predicted = [49000, 51000]\n",
    "   \n",
    "RMSE = sqrt(mse(actual, predicted))\n",
    "\n",
    "print(f\"Root Mean Squared Error : \", RMSE)"
   ]
  },
  {
   "cell_type": "code",
   "execution_count": 6,
   "id": "6e73ae70",
   "metadata": {
    "ExecuteTime": {
     "end_time": "2024-02-02T09:21:39.616184Z",
     "start_time": "2024-02-02T09:21:39.606841Z"
    }
   },
   "outputs": [
    {
     "name": "stdout",
     "output_type": "stream",
     "text": [
      "Coefficient of Determination :  0.7857142857142857\n"
     ]
    }
   ],
   "source": [
    "actual = [50000, 51000, 53000]  \n",
    "predicted = [49000, 51000, 53000]\n",
    "   \n",
    "R_square = r2_score(actual, predicted)\n",
    "\n",
    "print(f\"Coefficient of Determination : \", R_square)"
   ]
  },
  {
   "cell_type": "markdown",
   "id": "6b094505",
   "metadata": {},
   "source": [
    "**Peki Hangi Metrik Daha Önemli?**\n",
    "\n",
    "Hangi hata metriğinin önemli olduğuna dair soruya en güzel cevap, modelin kullanım amaçlarına ve veri setinin özelliklerine göre bu durumun değişkenlik gösterebileceğidir. Örneğin amacımız, ev fiyatlarını mümkün olan en doğru şekilde tahmin etmekse, RMSE metriği bizim için önemli olacaktır. Öte yandan modelimiz bir yatırım stratejisi için kullanılacaksa, R-Kare metriği bizim için önemli olabilir çünkü bu, modelimizin verileri ne kadar iyi açıkladığını gösterir ve yatırım kararlarımızı bu bilgiye göre alabiliriz. Aynı şekilde, MAE özellikle aykırı değerlerin olduğu veri setlerinde daha iyi model performansının ölçülmesinde faydalı iken, MSE ise MAE nin aksine aykırı verilerin olmadığı data setlerinde modelimizin performansını değerlendirmede faydalı olabilir.\n",
    "\n",
    "Sonuç olarak tüm bu açıklamalar doğrultusunda Machine Learning Regresyon modellerinde modelin performansının değerlendirilmesinde kullanılan hata metrikleri modelin amaçlarına ve veri setinin özelliğine göre hepsi bir bütün olarak değerlendirilmelidir. Ayrıca R-kare değerinin 1'e yakın olması beklenirken MAE, MSE ve RMSE skorlarının ise 0'a yakın olması beklenmektedir. Bu skorlar ise model uyum iyiliğinin olumlu yönde yorumlanacağı varsayılabilir."
   ]
  },
  {
   "cell_type": "code",
   "execution_count": null,
   "id": "a79239ec",
   "metadata": {},
   "outputs": [],
   "source": []
  }
 ],
 "metadata": {
  "hide_input": false,
  "kernelspec": {
   "display_name": "Python 3 (ipykernel)",
   "language": "python",
   "name": "python3"
  },
  "language_info": {
   "codemirror_mode": {
    "name": "ipython",
    "version": 3
   },
   "file_extension": ".py",
   "mimetype": "text/x-python",
   "name": "python",
   "nbconvert_exporter": "python",
   "pygments_lexer": "ipython3",
   "version": "3.9.13"
  },
  "toc": {
   "base_numbering": 1,
   "nav_menu": {},
   "number_sections": true,
   "sideBar": true,
   "skip_h1_title": false,
   "title_cell": "Table of Contents",
   "title_sidebar": "Contents",
   "toc_cell": false,
   "toc_position": {},
   "toc_section_display": true,
   "toc_window_display": false
  }
 },
 "nbformat": 4,
 "nbformat_minor": 5
}
