{
 "cells": [
  {
   "cell_type": "markdown",
   "id": "6608d87a-1718-4198-aa94-5018bed4a106",
   "metadata": {
    "id": "6608d87a-1718-4198-aa94-5018bed4a106"
   },
   "source": [
    "# Raisin Class Prediction"
   ]
  },
  {
   "cell_type": "markdown",
   "id": "392a02f0-fdda-44ae-a0fc-97f3b03924a9",
   "metadata": {
    "id": "392a02f0-fdda-44ae-a0fc-97f3b03924a9"
   },
   "source": [
    "Data Set Information:\n",
    "\n",
    "Images of Kecimen and Besni raisin varieties grown in Turkey were obtained with CVS. A total of 900 raisin grains were used, including 450 pieces from both varieties. These images were subjected to various stages of pre-processing and 7 morphological features were extracted. These features have been classified using three different artificial intelligence techniques.\n",
    "\n",
    "\n",
    "Attribute Information:\n",
    "\n",
    "1. Area: Gives the number of pixels within the boundaries of the raisin.\n",
    "2. Perimeter: It measures the environment by calculating the distance between the boundaries of the raisin and the pixels around it.\n",
    "3. MajorAxisLength: Gives the length of the main axis, which is the longest line that can be drawn on the raisin.\n",
    "4. MinorAxisLength: Gives the length of the small axis, which is the shortest line that can be drawn on the raisin.\n",
    "5. Eccentricity: It gives a measure of the eccentricity of the ellipse, which has the same moments as raisins.\n",
    "6. ConvexArea: Gives the number of pixels of the smallest convex shell of the region formed by the raisin.\n",
    "7. Extent: Gives the ratio of the region formed by the raisin to the total pixels in the bounding box.\n",
    "8. Class: Kecimen and Besni raisin."
   ]
  },
  {
   "cell_type": "markdown",
   "id": "9f64a47c-5aa7-4653-98ea-6c645df4572b",
   "metadata": {
    "id": "9f64a47c-5aa7-4653-98ea-6c645df4572b"
   },
   "source": [
    "# Import libraries"
   ]
  },
  {
   "cell_type": "code",
   "execution_count": 1,
   "id": "8ecb3841",
   "metadata": {
    "ExecuteTime": {
     "end_time": "2024-02-21T16:41:40.054199Z",
     "start_time": "2024-02-21T16:41:38.597625Z"
    }
   },
   "outputs": [],
   "source": [
    "import numpy as np\n",
    "import pandas as pd\n",
    "import seaborn as sns\n",
    "import matplotlib.pyplot as plt\n",
    "\n",
    "#%matplotlib inline\n",
    "#%matplotlib notebook\n",
    "plt.rcParams[\"figure.figsize\"] = (10,6)\n",
    "import warnings\n",
    "warnings.filterwarnings(\"ignore\")\n",
    "warnings.warn(\"this will not show\")\n",
    "pd.set_option('display.float_format', lambda x: '%.3f' % x)\n",
    "#pd.options.display.float_format = '{:.3f}'.format"
   ]
  },
  {
   "cell_type": "markdown",
   "id": "a589228f-f7be-4c79-94fd-e45cb2c473f4",
   "metadata": {
    "id": "a589228f-f7be-4c79-94fd-e45cb2c473f4",
    "tags": []
   },
   "source": [
    "## Exploratory Data Analysis and Visualization"
   ]
  },
  {
   "cell_type": "code",
   "execution_count": 2,
   "id": "46c8964d",
   "metadata": {
    "ExecuteTime": {
     "end_time": "2024-02-21T16:41:40.526505Z",
     "start_time": "2024-02-21T16:41:40.054199Z"
    },
    "scrolled": true
   },
   "outputs": [
    {
     "data": {
      "text/html": [
       "<div>\n",
       "<style scoped>\n",
       "    .dataframe tbody tr th:only-of-type {\n",
       "        vertical-align: middle;\n",
       "    }\n",
       "\n",
       "    .dataframe tbody tr th {\n",
       "        vertical-align: top;\n",
       "    }\n",
       "\n",
       "    .dataframe thead th {\n",
       "        text-align: right;\n",
       "    }\n",
       "</style>\n",
       "<table border=\"1\" class=\"dataframe\">\n",
       "  <thead>\n",
       "    <tr style=\"text-align: right;\">\n",
       "      <th></th>\n",
       "      <th>Area</th>\n",
       "      <th>MajorAxisLength</th>\n",
       "      <th>MinorAxisLength</th>\n",
       "      <th>Eccentricity</th>\n",
       "      <th>ConvexArea</th>\n",
       "      <th>Extent</th>\n",
       "      <th>Perimeter</th>\n",
       "      <th>Class</th>\n",
       "    </tr>\n",
       "  </thead>\n",
       "  <tbody>\n",
       "    <tr>\n",
       "      <th>0</th>\n",
       "      <td>87524</td>\n",
       "      <td>442.246</td>\n",
       "      <td>253.291</td>\n",
       "      <td>0.820</td>\n",
       "      <td>90546</td>\n",
       "      <td>0.759</td>\n",
       "      <td>1184.040</td>\n",
       "      <td>Kecimen</td>\n",
       "    </tr>\n",
       "    <tr>\n",
       "      <th>1</th>\n",
       "      <td>75166</td>\n",
       "      <td>406.691</td>\n",
       "      <td>243.032</td>\n",
       "      <td>0.802</td>\n",
       "      <td>78789</td>\n",
       "      <td>0.684</td>\n",
       "      <td>1121.786</td>\n",
       "      <td>Kecimen</td>\n",
       "    </tr>\n",
       "    <tr>\n",
       "      <th>2</th>\n",
       "      <td>90856</td>\n",
       "      <td>442.267</td>\n",
       "      <td>266.328</td>\n",
       "      <td>0.798</td>\n",
       "      <td>93717</td>\n",
       "      <td>0.638</td>\n",
       "      <td>1208.575</td>\n",
       "      <td>Kecimen</td>\n",
       "    </tr>\n",
       "    <tr>\n",
       "      <th>3</th>\n",
       "      <td>45928</td>\n",
       "      <td>286.541</td>\n",
       "      <td>208.760</td>\n",
       "      <td>0.685</td>\n",
       "      <td>47336</td>\n",
       "      <td>0.700</td>\n",
       "      <td>844.162</td>\n",
       "      <td>Kecimen</td>\n",
       "    </tr>\n",
       "    <tr>\n",
       "      <th>4</th>\n",
       "      <td>79408</td>\n",
       "      <td>352.191</td>\n",
       "      <td>290.828</td>\n",
       "      <td>0.564</td>\n",
       "      <td>81463</td>\n",
       "      <td>0.793</td>\n",
       "      <td>1073.251</td>\n",
       "      <td>Kecimen</td>\n",
       "    </tr>\n",
       "  </tbody>\n",
       "</table>\n",
       "</div>"
      ],
      "text/plain": [
       "    Area  MajorAxisLength  MinorAxisLength  Eccentricity  ConvexArea  Extent  \\\n",
       "0  87524          442.246          253.291         0.820       90546   0.759   \n",
       "1  75166          406.691          243.032         0.802       78789   0.684   \n",
       "2  90856          442.267          266.328         0.798       93717   0.638   \n",
       "3  45928          286.541          208.760         0.685       47336   0.700   \n",
       "4  79408          352.191          290.828         0.564       81463   0.793   \n",
       "\n",
       "   Perimeter    Class  \n",
       "0   1184.040  Kecimen  \n",
       "1   1121.786  Kecimen  \n",
       "2   1208.575  Kecimen  \n",
       "3    844.162  Kecimen  \n",
       "4   1073.251  Kecimen  "
      ]
     },
     "execution_count": 2,
     "metadata": {},
     "output_type": "execute_result"
    }
   ],
   "source": [
    "df = pd.read_excel('Raisin_Dataset.xlsx')\n",
    "df.head()"
   ]
  },
  {
   "cell_type": "code",
   "execution_count": 3,
   "id": "5f260524",
   "metadata": {
    "ExecuteTime": {
     "end_time": "2024-02-21T16:41:40.540486Z",
     "start_time": "2024-02-21T16:41:40.528984Z"
    }
   },
   "outputs": [
    {
     "data": {
      "text/plain": [
       "(900, 8)"
      ]
     },
     "execution_count": 3,
     "metadata": {},
     "output_type": "execute_result"
    }
   ],
   "source": [
    "df.shape"
   ]
  },
  {
   "cell_type": "code",
   "execution_count": 4,
   "id": "c7b9e830",
   "metadata": {
    "ExecuteTime": {
     "end_time": "2024-02-21T16:41:40.567960Z",
     "start_time": "2024-02-21T16:41:40.541771Z"
    }
   },
   "outputs": [
    {
     "name": "stdout",
     "output_type": "stream",
     "text": [
      "<class 'pandas.core.frame.DataFrame'>\n",
      "RangeIndex: 900 entries, 0 to 899\n",
      "Data columns (total 8 columns):\n",
      " #   Column           Non-Null Count  Dtype  \n",
      "---  ------           --------------  -----  \n",
      " 0   Area             900 non-null    int64  \n",
      " 1   MajorAxisLength  900 non-null    float64\n",
      " 2   MinorAxisLength  900 non-null    float64\n",
      " 3   Eccentricity     900 non-null    float64\n",
      " 4   ConvexArea       900 non-null    int64  \n",
      " 5   Extent           900 non-null    float64\n",
      " 6   Perimeter        900 non-null    float64\n",
      " 7   Class            900 non-null    object \n",
      "dtypes: float64(5), int64(2), object(1)\n",
      "memory usage: 56.4+ KB\n"
     ]
    }
   ],
   "source": [
    "df.info()"
   ]
  },
  {
   "cell_type": "code",
   "execution_count": 5,
   "id": "14c47a52",
   "metadata": {
    "ExecuteTime": {
     "end_time": "2024-02-21T16:41:40.597310Z",
     "start_time": "2024-02-21T16:41:40.569784Z"
    }
   },
   "outputs": [
    {
     "data": {
      "text/html": [
       "<div>\n",
       "<style scoped>\n",
       "    .dataframe tbody tr th:only-of-type {\n",
       "        vertical-align: middle;\n",
       "    }\n",
       "\n",
       "    .dataframe tbody tr th {\n",
       "        vertical-align: top;\n",
       "    }\n",
       "\n",
       "    .dataframe thead th {\n",
       "        text-align: right;\n",
       "    }\n",
       "</style>\n",
       "<table border=\"1\" class=\"dataframe\">\n",
       "  <thead>\n",
       "    <tr style=\"text-align: right;\">\n",
       "      <th></th>\n",
       "      <th>count</th>\n",
       "      <th>mean</th>\n",
       "      <th>std</th>\n",
       "      <th>min</th>\n",
       "      <th>25%</th>\n",
       "      <th>50%</th>\n",
       "      <th>75%</th>\n",
       "      <th>max</th>\n",
       "    </tr>\n",
       "  </thead>\n",
       "  <tbody>\n",
       "    <tr>\n",
       "      <th>Area</th>\n",
       "      <td>900.000</td>\n",
       "      <td>87804.128</td>\n",
       "      <td>39002.111</td>\n",
       "      <td>25387.000</td>\n",
       "      <td>59348.000</td>\n",
       "      <td>78902.000</td>\n",
       "      <td>105028.250</td>\n",
       "      <td>235047.000</td>\n",
       "    </tr>\n",
       "    <tr>\n",
       "      <th>MajorAxisLength</th>\n",
       "      <td>900.000</td>\n",
       "      <td>430.930</td>\n",
       "      <td>116.035</td>\n",
       "      <td>225.630</td>\n",
       "      <td>345.443</td>\n",
       "      <td>407.804</td>\n",
       "      <td>494.187</td>\n",
       "      <td>997.292</td>\n",
       "    </tr>\n",
       "    <tr>\n",
       "      <th>MinorAxisLength</th>\n",
       "      <td>900.000</td>\n",
       "      <td>254.488</td>\n",
       "      <td>49.989</td>\n",
       "      <td>143.711</td>\n",
       "      <td>219.111</td>\n",
       "      <td>247.848</td>\n",
       "      <td>279.889</td>\n",
       "      <td>492.275</td>\n",
       "    </tr>\n",
       "    <tr>\n",
       "      <th>Eccentricity</th>\n",
       "      <td>900.000</td>\n",
       "      <td>0.782</td>\n",
       "      <td>0.090</td>\n",
       "      <td>0.349</td>\n",
       "      <td>0.742</td>\n",
       "      <td>0.799</td>\n",
       "      <td>0.843</td>\n",
       "      <td>0.962</td>\n",
       "    </tr>\n",
       "    <tr>\n",
       "      <th>ConvexArea</th>\n",
       "      <td>900.000</td>\n",
       "      <td>91186.090</td>\n",
       "      <td>40769.290</td>\n",
       "      <td>26139.000</td>\n",
       "      <td>61513.250</td>\n",
       "      <td>81651.000</td>\n",
       "      <td>108375.750</td>\n",
       "      <td>278217.000</td>\n",
       "    </tr>\n",
       "    <tr>\n",
       "      <th>Extent</th>\n",
       "      <td>900.000</td>\n",
       "      <td>0.700</td>\n",
       "      <td>0.053</td>\n",
       "      <td>0.380</td>\n",
       "      <td>0.671</td>\n",
       "      <td>0.707</td>\n",
       "      <td>0.735</td>\n",
       "      <td>0.835</td>\n",
       "    </tr>\n",
       "    <tr>\n",
       "      <th>Perimeter</th>\n",
       "      <td>900.000</td>\n",
       "      <td>1165.907</td>\n",
       "      <td>273.764</td>\n",
       "      <td>619.074</td>\n",
       "      <td>966.411</td>\n",
       "      <td>1119.509</td>\n",
       "      <td>1308.390</td>\n",
       "      <td>2697.753</td>\n",
       "    </tr>\n",
       "  </tbody>\n",
       "</table>\n",
       "</div>"
      ],
      "text/plain": [
       "                  count      mean       std       min       25%       50%  \\\n",
       "Area            900.000 87804.128 39002.111 25387.000 59348.000 78902.000   \n",
       "MajorAxisLength 900.000   430.930   116.035   225.630   345.443   407.804   \n",
       "MinorAxisLength 900.000   254.488    49.989   143.711   219.111   247.848   \n",
       "Eccentricity    900.000     0.782     0.090     0.349     0.742     0.799   \n",
       "ConvexArea      900.000 91186.090 40769.290 26139.000 61513.250 81651.000   \n",
       "Extent          900.000     0.700     0.053     0.380     0.671     0.707   \n",
       "Perimeter       900.000  1165.907   273.764   619.074   966.411  1119.509   \n",
       "\n",
       "                       75%        max  \n",
       "Area            105028.250 235047.000  \n",
       "MajorAxisLength    494.187    997.292  \n",
       "MinorAxisLength    279.889    492.275  \n",
       "Eccentricity         0.843      0.962  \n",
       "ConvexArea      108375.750 278217.000  \n",
       "Extent               0.735      0.835  \n",
       "Perimeter         1308.390   2697.753  "
      ]
     },
     "execution_count": 5,
     "metadata": {},
     "output_type": "execute_result"
    }
   ],
   "source": [
    "df.describe().T"
   ]
  },
  {
   "cell_type": "code",
   "execution_count": 6,
   "id": "670b4469",
   "metadata": {
    "ExecuteTime": {
     "end_time": "2024-02-21T16:41:40.611375Z",
     "start_time": "2024-02-21T16:41:40.599911Z"
    }
   },
   "outputs": [
    {
     "data": {
      "text/plain": [
       "Kecimen    450\n",
       "Besni      450\n",
       "Name: Class, dtype: int64"
      ]
     },
     "execution_count": 6,
     "metadata": {},
     "output_type": "execute_result"
    }
   ],
   "source": [
    "df.Class.value_counts()"
   ]
  },
  {
   "cell_type": "code",
   "execution_count": 7,
   "id": "a408cba6",
   "metadata": {
    "ExecuteTime": {
     "end_time": "2024-02-21T16:41:40.627324Z",
     "start_time": "2024-02-21T16:41:40.611375Z"
    }
   },
   "outputs": [
    {
     "data": {
      "text/plain": [
       "Kecimen   0.500\n",
       "Besni     0.500\n",
       "Name: Class, dtype: float64"
      ]
     },
     "execution_count": 7,
     "metadata": {},
     "output_type": "execute_result"
    }
   ],
   "source": [
    "df.Class.value_counts(normalize=True)"
   ]
  },
  {
   "cell_type": "code",
   "execution_count": 8,
   "id": "3fda08e9",
   "metadata": {
    "ExecuteTime": {
     "end_time": "2024-02-21T16:41:40.762449Z",
     "start_time": "2024-02-21T16:41:40.629765Z"
    }
   },
   "outputs": [
    {
     "data": {
      "image/png": "[encoded data removed]",
      "text/plain": [
       "<Figure size 1000x600 with 1 Axes>"
      ]
     },
     "metadata": {},
     "output_type": "display_data"
    }
   ],
   "source": [
    "sns.countplot(data = df, x = \"Class\");"
   ]
  },
  {
   "cell_type": "code",
   "execution_count": 9,
   "id": "1fe7832c",
   "metadata": {
    "ExecuteTime": {
     "end_time": "2024-02-21T16:41:40.898604Z",
     "start_time": "2024-02-21T16:41:40.764585Z"
    }
   },
   "outputs": [
    {
     "data": {
      "image/png": "[encoded data removed]",
      "text/plain": [
       "<Figure size 1000x600 with 1 Axes>"
      ]
     },
     "metadata": {},
     "output_type": "display_data"
    }
   ],
   "source": [
    "sns.boxplot(data =df, x=\"Area\");"
   ]
  },
  {
   "cell_type": "code",
   "execution_count": 10,
   "id": "6e583b7a",
   "metadata": {
    "ExecuteTime": {
     "end_time": "2024-02-21T16:41:41.000583Z",
     "start_time": "2024-02-21T16:41:40.902881Z"
    }
   },
   "outputs": [
    {
     "data": {
      "image/png": "[encoded data removed]",
      "text/plain": [
       "<Figure size 1000x600 with 1 Axes>"
      ]
     },
     "metadata": {},
     "output_type": "display_data"
    }
   ],
   "source": [
    "sns.boxplot(data =df, x='MajorAxisLength');"
   ]
  },
  {
   "cell_type": "code",
   "execution_count": 11,
   "id": "8321ad9c",
   "metadata": {
    "ExecuteTime": {
     "end_time": "2024-02-21T16:41:41.021107Z",
     "start_time": "2024-02-21T16:41:41.001256Z"
    },
    "scrolled": false
   },
   "outputs": [
    {
     "data": {
      "text/html": [
       "<div>\n",
       "<style scoped>\n",
       "    .dataframe tbody tr th:only-of-type {\n",
       "        vertical-align: middle;\n",
       "    }\n",
       "\n",
       "    .dataframe tbody tr th {\n",
       "        vertical-align: top;\n",
       "    }\n",
       "\n",
       "    .dataframe thead th {\n",
       "        text-align: right;\n",
       "    }\n",
       "</style>\n",
       "<table border=\"1\" class=\"dataframe\">\n",
       "  <thead>\n",
       "    <tr style=\"text-align: right;\">\n",
       "      <th></th>\n",
       "      <th>Area</th>\n",
       "      <th>MajorAxisLength</th>\n",
       "      <th>MinorAxisLength</th>\n",
       "      <th>Eccentricity</th>\n",
       "      <th>ConvexArea</th>\n",
       "      <th>Extent</th>\n",
       "      <th>Perimeter</th>\n",
       "      <th>Class</th>\n",
       "    </tr>\n",
       "  </thead>\n",
       "  <tbody>\n",
       "    <tr>\n",
       "      <th>487</th>\n",
       "      <td>210923</td>\n",
       "      <td>984.045</td>\n",
       "      <td>367.280</td>\n",
       "      <td>0.928</td>\n",
       "      <td>278217</td>\n",
       "      <td>0.507</td>\n",
       "      <td>2697.753</td>\n",
       "      <td>Besni</td>\n",
       "    </tr>\n",
       "    <tr>\n",
       "      <th>506</th>\n",
       "      <td>182160</td>\n",
       "      <td>997.292</td>\n",
       "      <td>271.872</td>\n",
       "      <td>0.962</td>\n",
       "      <td>221527</td>\n",
       "      <td>0.380</td>\n",
       "      <td>2303.690</td>\n",
       "      <td>Besni</td>\n",
       "    </tr>\n",
       "    <tr>\n",
       "      <th>836</th>\n",
       "      <td>181126</td>\n",
       "      <td>949.663</td>\n",
       "      <td>293.387</td>\n",
       "      <td>0.951</td>\n",
       "      <td>225592</td>\n",
       "      <td>0.414</td>\n",
       "      <td>2352.029</td>\n",
       "      <td>Besni</td>\n",
       "    </tr>\n",
       "  </tbody>\n",
       "</table>\n",
       "</div>"
      ],
      "text/plain": [
       "       Area  MajorAxisLength  MinorAxisLength  Eccentricity  ConvexArea  \\\n",
       "487  210923          984.045          367.280         0.928      278217   \n",
       "506  182160          997.292          271.872         0.962      221527   \n",
       "836  181126          949.663          293.387         0.951      225592   \n",
       "\n",
       "     Extent  Perimeter  Class  \n",
       "487   0.507   2697.753  Besni  \n",
       "506   0.380   2303.690  Besni  \n",
       "836   0.414   2352.029  Besni  "
      ]
     },
     "execution_count": 11,
     "metadata": {},
     "output_type": "execute_result"
    }
   ],
   "source": [
    "df[df['MajorAxisLength']>900]"
   ]
  },
  {
   "cell_type": "code",
   "execution_count": 12,
   "id": "820f5e9a",
   "metadata": {
    "ExecuteTime": {
     "end_time": "2024-02-21T16:41:41.032001Z",
     "start_time": "2024-02-21T16:41:41.023566Z"
    }
   },
   "outputs": [],
   "source": [
    "df = df[df.MajorAxisLength<900]"
   ]
  },
  {
   "cell_type": "code",
   "execution_count": 13,
   "id": "22b7f177",
   "metadata": {
    "ExecuteTime": {
     "end_time": "2024-02-21T16:41:41.135344Z",
     "start_time": "2024-02-21T16:41:41.032551Z"
    }
   },
   "outputs": [
    {
     "data": {
      "image/png": "[encoded data removed]",
      "text/plain": [
       "<Figure size 1000x600 with 1 Axes>"
      ]
     },
     "metadata": {},
     "output_type": "display_data"
    }
   ],
   "source": [
    "sns.boxplot(data =df, x='MinorAxisLength');"
   ]
  },
  {
   "cell_type": "code",
   "execution_count": 14,
   "id": "a85a0af9",
   "metadata": {
    "ExecuteTime": {
     "end_time": "2024-02-21T16:41:41.153125Z",
     "start_time": "2024-02-21T16:41:41.138956Z"
    }
   },
   "outputs": [
    {
     "data": {
      "text/html": [
       "<div>\n",
       "<style scoped>\n",
       "    .dataframe tbody tr th:only-of-type {\n",
       "        vertical-align: middle;\n",
       "    }\n",
       "\n",
       "    .dataframe tbody tr th {\n",
       "        vertical-align: top;\n",
       "    }\n",
       "\n",
       "    .dataframe thead th {\n",
       "        text-align: right;\n",
       "    }\n",
       "</style>\n",
       "<table border=\"1\" class=\"dataframe\">\n",
       "  <thead>\n",
       "    <tr style=\"text-align: right;\">\n",
       "      <th></th>\n",
       "      <th>Area</th>\n",
       "      <th>MajorAxisLength</th>\n",
       "      <th>MinorAxisLength</th>\n",
       "      <th>Eccentricity</th>\n",
       "      <th>ConvexArea</th>\n",
       "      <th>Extent</th>\n",
       "      <th>Perimeter</th>\n",
       "      <th>Class</th>\n",
       "    </tr>\n",
       "  </thead>\n",
       "  <tbody>\n",
       "    <tr>\n",
       "      <th>552</th>\n",
       "      <td>204864</td>\n",
       "      <td>596.640</td>\n",
       "      <td>440.497</td>\n",
       "      <td>0.674</td>\n",
       "      <td>209457</td>\n",
       "      <td>0.751</td>\n",
       "      <td>1726.246</td>\n",
       "      <td>Besni</td>\n",
       "    </tr>\n",
       "    <tr>\n",
       "      <th>880</th>\n",
       "      <td>218459</td>\n",
       "      <td>571.289</td>\n",
       "      <td>492.275</td>\n",
       "      <td>0.507</td>\n",
       "      <td>228259</td>\n",
       "      <td>0.732</td>\n",
       "      <td>1947.460</td>\n",
       "      <td>Besni</td>\n",
       "    </tr>\n",
       "  </tbody>\n",
       "</table>\n",
       "</div>"
      ],
      "text/plain": [
       "       Area  MajorAxisLength  MinorAxisLength  Eccentricity  ConvexArea  \\\n",
       "552  204864          596.640          440.497         0.674      209457   \n",
       "880  218459          571.289          492.275         0.507      228259   \n",
       "\n",
       "     Extent  Perimeter  Class  \n",
       "552   0.751   1726.246  Besni  \n",
       "880   0.732   1947.460  Besni  "
      ]
     },
     "execution_count": 14,
     "metadata": {},
     "output_type": "execute_result"
    }
   ],
   "source": [
    "df[df.MinorAxisLength>425]"
   ]
  },
  {
   "cell_type": "code",
   "execution_count": 15,
   "id": "087eccc2",
   "metadata": {
    "ExecuteTime": {
     "end_time": "2024-02-21T16:41:41.167228Z",
     "start_time": "2024-02-21T16:41:41.153263Z"
    }
   },
   "outputs": [],
   "source": [
    "df = df[df.MinorAxisLength<425]"
   ]
  },
  {
   "cell_type": "code",
   "execution_count": 16,
   "id": "176aeb96",
   "metadata": {
    "ExecuteTime": {
     "end_time": "2024-02-21T16:41:41.263494Z",
     "start_time": "2024-02-21T16:41:41.168046Z"
    }
   },
   "outputs": [
    {
     "data": {
      "image/png": "[encoded data removed]",
      "text/plain": [
       "<Figure size 1000x600 with 1 Axes>"
      ]
     },
     "metadata": {},
     "output_type": "display_data"
    }
   ],
   "source": [
    "sns.boxplot(data =df, x='Eccentricity');"
   ]
  },
  {
   "cell_type": "code",
   "execution_count": 17,
   "id": "e76e48f0",
   "metadata": {
    "ExecuteTime": {
     "end_time": "2024-02-21T16:41:41.286128Z",
     "start_time": "2024-02-21T16:41:41.266523Z"
    },
    "scrolled": false
   },
   "outputs": [
    {
     "data": {
      "text/html": [
       "<div>\n",
       "<style scoped>\n",
       "    .dataframe tbody tr th:only-of-type {\n",
       "        vertical-align: middle;\n",
       "    }\n",
       "\n",
       "    .dataframe tbody tr th {\n",
       "        vertical-align: top;\n",
       "    }\n",
       "\n",
       "    .dataframe thead th {\n",
       "        text-align: right;\n",
       "    }\n",
       "</style>\n",
       "<table border=\"1\" class=\"dataframe\">\n",
       "  <thead>\n",
       "    <tr style=\"text-align: right;\">\n",
       "      <th></th>\n",
       "      <th>Area</th>\n",
       "      <th>MajorAxisLength</th>\n",
       "      <th>MinorAxisLength</th>\n",
       "      <th>Eccentricity</th>\n",
       "      <th>ConvexArea</th>\n",
       "      <th>Extent</th>\n",
       "      <th>Perimeter</th>\n",
       "      <th>Class</th>\n",
       "    </tr>\n",
       "  </thead>\n",
       "  <tbody>\n",
       "    <tr>\n",
       "      <th>23</th>\n",
       "      <td>61251</td>\n",
       "      <td>301.508</td>\n",
       "      <td>273.660</td>\n",
       "      <td>0.420</td>\n",
       "      <td>64732</td>\n",
       "      <td>0.644</td>\n",
       "      <td>971.769</td>\n",
       "      <td>Kecimen</td>\n",
       "    </tr>\n",
       "    <tr>\n",
       "      <th>34</th>\n",
       "      <td>46427</td>\n",
       "      <td>253.842</td>\n",
       "      <td>235.907</td>\n",
       "      <td>0.369</td>\n",
       "      <td>48275</td>\n",
       "      <td>0.684</td>\n",
       "      <td>844.312</td>\n",
       "      <td>Kecimen</td>\n",
       "    </tr>\n",
       "    <tr>\n",
       "      <th>43</th>\n",
       "      <td>92384</td>\n",
       "      <td>368.406</td>\n",
       "      <td>320.715</td>\n",
       "      <td>0.492</td>\n",
       "      <td>93772</td>\n",
       "      <td>0.749</td>\n",
       "      <td>1135.662</td>\n",
       "      <td>Kecimen</td>\n",
       "    </tr>\n",
       "    <tr>\n",
       "      <th>106</th>\n",
       "      <td>48945</td>\n",
       "      <td>269.370</td>\n",
       "      <td>239.162</td>\n",
       "      <td>0.460</td>\n",
       "      <td>51456</td>\n",
       "      <td>0.711</td>\n",
       "      <td>872.289</td>\n",
       "      <td>Kecimen</td>\n",
       "    </tr>\n",
       "    <tr>\n",
       "      <th>156</th>\n",
       "      <td>45962</td>\n",
       "      <td>251.133</td>\n",
       "      <td>235.368</td>\n",
       "      <td>0.349</td>\n",
       "      <td>47173</td>\n",
       "      <td>0.742</td>\n",
       "      <td>810.195</td>\n",
       "      <td>Kecimen</td>\n",
       "    </tr>\n",
       "    <tr>\n",
       "      <th>192</th>\n",
       "      <td>37569</td>\n",
       "      <td>232.428</td>\n",
       "      <td>208.152</td>\n",
       "      <td>0.445</td>\n",
       "      <td>38874</td>\n",
       "      <td>0.794</td>\n",
       "      <td>734.102</td>\n",
       "      <td>Kecimen</td>\n",
       "    </tr>\n",
       "    <tr>\n",
       "      <th>197</th>\n",
       "      <td>86545</td>\n",
       "      <td>350.128</td>\n",
       "      <td>315.720</td>\n",
       "      <td>0.432</td>\n",
       "      <td>87512</td>\n",
       "      <td>0.786</td>\n",
       "      <td>1070.062</td>\n",
       "      <td>Kecimen</td>\n",
       "    </tr>\n",
       "    <tr>\n",
       "      <th>251</th>\n",
       "      <td>45598</td>\n",
       "      <td>259.896</td>\n",
       "      <td>225.656</td>\n",
       "      <td>0.496</td>\n",
       "      <td>47266</td>\n",
       "      <td>0.741</td>\n",
       "      <td>813.276</td>\n",
       "      <td>Kecimen</td>\n",
       "    </tr>\n",
       "    <tr>\n",
       "      <th>316</th>\n",
       "      <td>55746</td>\n",
       "      <td>280.313</td>\n",
       "      <td>254.600</td>\n",
       "      <td>0.418</td>\n",
       "      <td>56989</td>\n",
       "      <td>0.731</td>\n",
       "      <td>875.659</td>\n",
       "      <td>Kecimen</td>\n",
       "    </tr>\n",
       "    <tr>\n",
       "      <th>356</th>\n",
       "      <td>58460</td>\n",
       "      <td>290.754</td>\n",
       "      <td>258.384</td>\n",
       "      <td>0.459</td>\n",
       "      <td>60254</td>\n",
       "      <td>0.775</td>\n",
       "      <td>908.357</td>\n",
       "      <td>Kecimen</td>\n",
       "    </tr>\n",
       "  </tbody>\n",
       "</table>\n",
       "</div>"
      ],
      "text/plain": [
       "      Area  MajorAxisLength  MinorAxisLength  Eccentricity  ConvexArea  \\\n",
       "23   61251          301.508          273.660         0.420       64732   \n",
       "34   46427          253.842          235.907         0.369       48275   \n",
       "43   92384          368.406          320.715         0.492       93772   \n",
       "106  48945          269.370          239.162         0.460       51456   \n",
       "156  45962          251.133          235.368         0.349       47173   \n",
       "192  37569          232.428          208.152         0.445       38874   \n",
       "197  86545          350.128          315.720         0.432       87512   \n",
       "251  45598          259.896          225.656         0.496       47266   \n",
       "316  55746          280.313          254.600         0.418       56989   \n",
       "356  58460          290.754          258.384         0.459       60254   \n",
       "\n",
       "     Extent  Perimeter    Class  \n",
       "23    0.644    971.769  Kecimen  \n",
       "34    0.684    844.312  Kecimen  \n",
       "43    0.749   1135.662  Kecimen  \n",
       "106   0.711    872.289  Kecimen  \n",
       "156   0.742    810.195  Kecimen  \n",
       "192   0.794    734.102  Kecimen  \n",
       "197   0.786   1070.062  Kecimen  \n",
       "251   0.741    813.276  Kecimen  \n",
       "316   0.731    875.659  Kecimen  \n",
       "356   0.775    908.357  Kecimen  "
      ]
     },
     "execution_count": 17,
     "metadata": {},
     "output_type": "execute_result"
    }
   ],
   "source": [
    "df[df.Eccentricity<0.5]"
   ]
  },
  {
   "cell_type": "code",
   "execution_count": 18,
   "id": "a697fb19",
   "metadata": {
    "ExecuteTime": {
     "end_time": "2024-02-21T16:41:41.294999Z",
     "start_time": "2024-02-21T16:41:41.288931Z"
    }
   },
   "outputs": [],
   "source": [
    "df = df[df.Eccentricity>0.5]"
   ]
  },
  {
   "cell_type": "code",
   "execution_count": 19,
   "id": "a522c4a0",
   "metadata": {
    "ExecuteTime": {
     "end_time": "2024-02-21T16:41:41.381737Z",
     "start_time": "2024-02-21T16:41:41.297036Z"
    }
   },
   "outputs": [
    {
     "data": {
      "image/png": "[encoded data removed]",
      "text/plain": [
       "<Figure size 1000x600 with 1 Axes>"
      ]
     },
     "metadata": {},
     "output_type": "display_data"
    }
   ],
   "source": [
    "sns.boxplot(data =df, x='ConvexArea');"
   ]
  },
  {
   "cell_type": "code",
   "execution_count": 20,
   "id": "fbfa78a4",
   "metadata": {
    "ExecuteTime": {
     "end_time": "2024-02-21T16:41:41.395929Z",
     "start_time": "2024-02-21T16:41:41.383939Z"
    }
   },
   "outputs": [
    {
     "data": {
      "text/html": [
       "<div>\n",
       "<style scoped>\n",
       "    .dataframe tbody tr th:only-of-type {\n",
       "        vertical-align: middle;\n",
       "    }\n",
       "\n",
       "    .dataframe tbody tr th {\n",
       "        vertical-align: top;\n",
       "    }\n",
       "\n",
       "    .dataframe thead th {\n",
       "        text-align: right;\n",
       "    }\n",
       "</style>\n",
       "<table border=\"1\" class=\"dataframe\">\n",
       "  <thead>\n",
       "    <tr style=\"text-align: right;\">\n",
       "      <th></th>\n",
       "      <th>Area</th>\n",
       "      <th>MajorAxisLength</th>\n",
       "      <th>MinorAxisLength</th>\n",
       "      <th>Eccentricity</th>\n",
       "      <th>ConvexArea</th>\n",
       "      <th>Extent</th>\n",
       "      <th>Perimeter</th>\n",
       "      <th>Class</th>\n",
       "    </tr>\n",
       "  </thead>\n",
       "  <tbody>\n",
       "    <tr>\n",
       "      <th>85</th>\n",
       "      <td>180898</td>\n",
       "      <td>843.957</td>\n",
       "      <td>323.191</td>\n",
       "      <td>0.924</td>\n",
       "      <td>221396</td>\n",
       "      <td>0.454</td>\n",
       "      <td>2253.557</td>\n",
       "      <td>Kecimen</td>\n",
       "    </tr>\n",
       "    <tr>\n",
       "      <th>708</th>\n",
       "      <td>222915</td>\n",
       "      <td>731.559</td>\n",
       "      <td>389.947</td>\n",
       "      <td>0.846</td>\n",
       "      <td>227170</td>\n",
       "      <td>0.771</td>\n",
       "      <td>1876.307</td>\n",
       "      <td>Besni</td>\n",
       "    </tr>\n",
       "    <tr>\n",
       "      <th>804</th>\n",
       "      <td>223075</td>\n",
       "      <td>694.248</td>\n",
       "      <td>411.810</td>\n",
       "      <td>0.805</td>\n",
       "      <td>225916</td>\n",
       "      <td>0.765</td>\n",
       "      <td>1812.569</td>\n",
       "      <td>Besni</td>\n",
       "    </tr>\n",
       "    <tr>\n",
       "      <th>812</th>\n",
       "      <td>235047</td>\n",
       "      <td>772.957</td>\n",
       "      <td>388.202</td>\n",
       "      <td>0.865</td>\n",
       "      <td>239093</td>\n",
       "      <td>0.712</td>\n",
       "      <td>1942.050</td>\n",
       "      <td>Besni</td>\n",
       "    </tr>\n",
       "    <tr>\n",
       "      <th>866</th>\n",
       "      <td>225043</td>\n",
       "      <td>740.004</td>\n",
       "      <td>390.301</td>\n",
       "      <td>0.850</td>\n",
       "      <td>229195</td>\n",
       "      <td>0.744</td>\n",
       "      <td>1853.893</td>\n",
       "      <td>Besni</td>\n",
       "    </tr>\n",
       "  </tbody>\n",
       "</table>\n",
       "</div>"
      ],
      "text/plain": [
       "       Area  MajorAxisLength  MinorAxisLength  Eccentricity  ConvexArea  \\\n",
       "85   180898          843.957          323.191         0.924      221396   \n",
       "708  222915          731.559          389.947         0.846      227170   \n",
       "804  223075          694.248          411.810         0.805      225916   \n",
       "812  235047          772.957          388.202         0.865      239093   \n",
       "866  225043          740.004          390.301         0.850      229195   \n",
       "\n",
       "     Extent  Perimeter    Class  \n",
       "85    0.454   2253.557  Kecimen  \n",
       "708   0.771   1876.307    Besni  \n",
       "804   0.765   1812.569    Besni  \n",
       "812   0.712   1942.050    Besni  \n",
       "866   0.744   1853.893    Besni  "
      ]
     },
     "execution_count": 20,
     "metadata": {},
     "output_type": "execute_result"
    }
   ],
   "source": [
    "df[df.ConvexArea>220000]"
   ]
  },
  {
   "cell_type": "code",
   "execution_count": 21,
   "id": "9e02d8d0",
   "metadata": {
    "ExecuteTime": {
     "end_time": "2024-02-21T16:41:41.411215Z",
     "start_time": "2024-02-21T16:41:41.397756Z"
    }
   },
   "outputs": [],
   "source": [
    "df = df[df.ConvexArea<220000]"
   ]
  },
  {
   "cell_type": "code",
   "execution_count": 22,
   "id": "aac82977",
   "metadata": {
    "ExecuteTime": {
     "end_time": "2024-02-21T16:41:41.506970Z",
     "start_time": "2024-02-21T16:41:41.413723Z"
    }
   },
   "outputs": [
    {
     "data": {
      "image/png": "[encoded data removed]",
      "text/plain": [
       "<Figure size 1000x600 with 1 Axes>"
      ]
     },
     "metadata": {},
     "output_type": "display_data"
    }
   ],
   "source": [
    "sns.boxplot(data =df, x='Extent');"
   ]
  },
  {
   "cell_type": "code",
   "execution_count": 23,
   "id": "a3bca6af",
   "metadata": {
    "ExecuteTime": {
     "end_time": "2024-02-21T16:41:41.527235Z",
     "start_time": "2024-02-21T16:41:41.506970Z"
    }
   },
   "outputs": [
    {
     "data": {
      "text/html": [
       "<div>\n",
       "<style scoped>\n",
       "    .dataframe tbody tr th:only-of-type {\n",
       "        vertical-align: middle;\n",
       "    }\n",
       "\n",
       "    .dataframe tbody tr th {\n",
       "        vertical-align: top;\n",
       "    }\n",
       "\n",
       "    .dataframe thead th {\n",
       "        text-align: right;\n",
       "    }\n",
       "</style>\n",
       "<table border=\"1\" class=\"dataframe\">\n",
       "  <thead>\n",
       "    <tr style=\"text-align: right;\">\n",
       "      <th></th>\n",
       "      <th>Area</th>\n",
       "      <th>MajorAxisLength</th>\n",
       "      <th>MinorAxisLength</th>\n",
       "      <th>Eccentricity</th>\n",
       "      <th>ConvexArea</th>\n",
       "      <th>Extent</th>\n",
       "      <th>Perimeter</th>\n",
       "      <th>Class</th>\n",
       "    </tr>\n",
       "  </thead>\n",
       "  <tbody>\n",
       "    <tr>\n",
       "      <th>47</th>\n",
       "      <td>41502</td>\n",
       "      <td>260.513</td>\n",
       "      <td>205.865</td>\n",
       "      <td>0.613</td>\n",
       "      <td>43114</td>\n",
       "      <td>0.824</td>\n",
       "      <td>790.427</td>\n",
       "      <td>Kecimen</td>\n",
       "    </tr>\n",
       "    <tr>\n",
       "      <th>113</th>\n",
       "      <td>50545</td>\n",
       "      <td>286.871</td>\n",
       "      <td>227.160</td>\n",
       "      <td>0.611</td>\n",
       "      <td>51771</td>\n",
       "      <td>0.835</td>\n",
       "      <td>847.664</td>\n",
       "      <td>Kecimen</td>\n",
       "    </tr>\n",
       "    <tr>\n",
       "      <th>463</th>\n",
       "      <td>45051</td>\n",
       "      <td>323.589</td>\n",
       "      <td>180.070</td>\n",
       "      <td>0.831</td>\n",
       "      <td>46532</td>\n",
       "      <td>0.831</td>\n",
       "      <td>836.625</td>\n",
       "      <td>Besni</td>\n",
       "    </tr>\n",
       "  </tbody>\n",
       "</table>\n",
       "</div>"
      ],
      "text/plain": [
       "      Area  MajorAxisLength  MinorAxisLength  Eccentricity  ConvexArea  \\\n",
       "47   41502          260.513          205.865         0.613       43114   \n",
       "113  50545          286.871          227.160         0.611       51771   \n",
       "463  45051          323.589          180.070         0.831       46532   \n",
       "\n",
       "     Extent  Perimeter    Class  \n",
       "47    0.824    790.427  Kecimen  \n",
       "113   0.835    847.664  Kecimen  \n",
       "463   0.831    836.625    Besni  "
      ]
     },
     "execution_count": 23,
     "metadata": {},
     "output_type": "execute_result"
    }
   ],
   "source": [
    "df[df.Extent>0.82]"
   ]
  },
  {
   "cell_type": "code",
   "execution_count": 24,
   "id": "f6c7e901",
   "metadata": {
    "ExecuteTime": {
     "end_time": "2024-02-21T16:41:41.541730Z",
     "start_time": "2024-02-21T16:41:41.527869Z"
    }
   },
   "outputs": [],
   "source": [
    "df = df[df.Extent<0.82]"
   ]
  },
  {
   "cell_type": "code",
   "execution_count": 25,
   "id": "8d693960",
   "metadata": {
    "ExecuteTime": {
     "end_time": "2024-02-21T16:41:41.556640Z",
     "start_time": "2024-02-21T16:41:41.541861Z"
    },
    "scrolled": true
   },
   "outputs": [
    {
     "data": {
      "text/html": [
       "<div>\n",
       "<style scoped>\n",
       "    .dataframe tbody tr th:only-of-type {\n",
       "        vertical-align: middle;\n",
       "    }\n",
       "\n",
       "    .dataframe tbody tr th {\n",
       "        vertical-align: top;\n",
       "    }\n",
       "\n",
       "    .dataframe thead th {\n",
       "        text-align: right;\n",
       "    }\n",
       "</style>\n",
       "<table border=\"1\" class=\"dataframe\">\n",
       "  <thead>\n",
       "    <tr style=\"text-align: right;\">\n",
       "      <th></th>\n",
       "      <th>Area</th>\n",
       "      <th>MajorAxisLength</th>\n",
       "      <th>MinorAxisLength</th>\n",
       "      <th>Eccentricity</th>\n",
       "      <th>ConvexArea</th>\n",
       "      <th>Extent</th>\n",
       "      <th>Perimeter</th>\n",
       "      <th>Class</th>\n",
       "    </tr>\n",
       "  </thead>\n",
       "  <tbody>\n",
       "    <tr>\n",
       "      <th>290</th>\n",
       "      <td>136340</td>\n",
       "      <td>722.854</td>\n",
       "      <td>311.341</td>\n",
       "      <td>0.902</td>\n",
       "      <td>176818</td>\n",
       "      <td>0.530</td>\n",
       "      <td>2098.263</td>\n",
       "      <td>Kecimen</td>\n",
       "    </tr>\n",
       "    <tr>\n",
       "      <th>459</th>\n",
       "      <td>83107</td>\n",
       "      <td>507.381</td>\n",
       "      <td>233.154</td>\n",
       "      <td>0.888</td>\n",
       "      <td>93706</td>\n",
       "      <td>0.491</td>\n",
       "      <td>1367.331</td>\n",
       "      <td>Besni</td>\n",
       "    </tr>\n",
       "    <tr>\n",
       "      <th>498</th>\n",
       "      <td>116406</td>\n",
       "      <td>612.665</td>\n",
       "      <td>251.833</td>\n",
       "      <td>0.912</td>\n",
       "      <td>125638</td>\n",
       "      <td>0.526</td>\n",
       "      <td>1480.951</td>\n",
       "      <td>Besni</td>\n",
       "    </tr>\n",
       "    <tr>\n",
       "      <th>536</th>\n",
       "      <td>81604</td>\n",
       "      <td>528.586</td>\n",
       "      <td>204.740</td>\n",
       "      <td>0.922</td>\n",
       "      <td>87172</td>\n",
       "      <td>0.491</td>\n",
       "      <td>1299.386</td>\n",
       "      <td>Besni</td>\n",
       "    </tr>\n",
       "    <tr>\n",
       "      <th>579</th>\n",
       "      <td>130868</td>\n",
       "      <td>613.173</td>\n",
       "      <td>273.182</td>\n",
       "      <td>0.895</td>\n",
       "      <td>134139</td>\n",
       "      <td>0.537</td>\n",
       "      <td>1513.352</td>\n",
       "      <td>Besni</td>\n",
       "    </tr>\n",
       "    <tr>\n",
       "      <th>600</th>\n",
       "      <td>89721</td>\n",
       "      <td>530.157</td>\n",
       "      <td>223.500</td>\n",
       "      <td>0.907</td>\n",
       "      <td>95252</td>\n",
       "      <td>0.547</td>\n",
       "      <td>1295.377</td>\n",
       "      <td>Besni</td>\n",
       "    </tr>\n",
       "    <tr>\n",
       "      <th>682</th>\n",
       "      <td>106923</td>\n",
       "      <td>591.116</td>\n",
       "      <td>234.823</td>\n",
       "      <td>0.918</td>\n",
       "      <td>111428</td>\n",
       "      <td>0.522</td>\n",
       "      <td>1425.109</td>\n",
       "      <td>Besni</td>\n",
       "    </tr>\n",
       "    <tr>\n",
       "      <th>694</th>\n",
       "      <td>172783</td>\n",
       "      <td>820.724</td>\n",
       "      <td>352.194</td>\n",
       "      <td>0.903</td>\n",
       "      <td>219952</td>\n",
       "      <td>0.497</td>\n",
       "      <td>2289.889</td>\n",
       "      <td>Besni</td>\n",
       "    </tr>\n",
       "    <tr>\n",
       "      <th>802</th>\n",
       "      <td>71502</td>\n",
       "      <td>490.433</td>\n",
       "      <td>189.443</td>\n",
       "      <td>0.922</td>\n",
       "      <td>75157</td>\n",
       "      <td>0.501</td>\n",
       "      <td>1182.852</td>\n",
       "      <td>Besni</td>\n",
       "    </tr>\n",
       "    <tr>\n",
       "      <th>829</th>\n",
       "      <td>127292</td>\n",
       "      <td>639.851</td>\n",
       "      <td>258.382</td>\n",
       "      <td>0.915</td>\n",
       "      <td>129101</td>\n",
       "      <td>0.535</td>\n",
       "      <td>1496.062</td>\n",
       "      <td>Besni</td>\n",
       "    </tr>\n",
       "  </tbody>\n",
       "</table>\n",
       "</div>"
      ],
      "text/plain": [
       "       Area  MajorAxisLength  MinorAxisLength  Eccentricity  ConvexArea  \\\n",
       "290  136340          722.854          311.341         0.902      176818   \n",
       "459   83107          507.381          233.154         0.888       93706   \n",
       "498  116406          612.665          251.833         0.912      125638   \n",
       "536   81604          528.586          204.740         0.922       87172   \n",
       "579  130868          613.173          273.182         0.895      134139   \n",
       "600   89721          530.157          223.500         0.907       95252   \n",
       "682  106923          591.116          234.823         0.918      111428   \n",
       "694  172783          820.724          352.194         0.903      219952   \n",
       "802   71502          490.433          189.443         0.922       75157   \n",
       "829  127292          639.851          258.382         0.915      129101   \n",
       "\n",
       "     Extent  Perimeter    Class  \n",
       "290   0.530   2098.263  Kecimen  \n",
       "459   0.491   1367.331    Besni  \n",
       "498   0.526   1480.951    Besni  \n",
       "536   0.491   1299.386    Besni  \n",
       "579   0.537   1513.352    Besni  \n",
       "600   0.547   1295.377    Besni  \n",
       "682   0.522   1425.109    Besni  \n",
       "694   0.497   2289.889    Besni  \n",
       "802   0.501   1182.852    Besni  \n",
       "829   0.535   1496.062    Besni  "
      ]
     },
     "execution_count": 25,
     "metadata": {},
     "output_type": "execute_result"
    }
   ],
   "source": [
    "df[df.Extent<0.55]"
   ]
  },
  {
   "cell_type": "code",
   "execution_count": 26,
   "id": "35637bfd",
   "metadata": {
    "ExecuteTime": {
     "end_time": "2024-02-21T16:41:41.569307Z",
     "start_time": "2024-02-21T16:41:41.558647Z"
    }
   },
   "outputs": [],
   "source": [
    "df =df[df.Extent>0.55]"
   ]
  },
  {
   "cell_type": "code",
   "execution_count": 27,
   "id": "147c5d0b",
   "metadata": {
    "ExecuteTime": {
     "end_time": "2024-02-21T16:41:41.676521Z",
     "start_time": "2024-02-21T16:41:41.571527Z"
    }
   },
   "outputs": [
    {
     "data": {
      "image/png": "[encoded data removed]",
      "text/plain": [
       "<Figure size 1000x600 with 1 Axes>"
      ]
     },
     "metadata": {},
     "output_type": "display_data"
    }
   ],
   "source": [
    "sns.boxplot(data =df, x='Perimeter');"
   ]
  },
  {
   "cell_type": "code",
   "execution_count": 28,
   "id": "3fc8bee9",
   "metadata": {
    "ExecuteTime": {
     "end_time": "2024-02-21T16:41:41.706007Z",
     "start_time": "2024-02-21T16:41:41.687293Z"
    },
    "scrolled": true
   },
   "outputs": [
    {
     "data": {
      "text/html": [
       "<div>\n",
       "<style scoped>\n",
       "    .dataframe tbody tr th:only-of-type {\n",
       "        vertical-align: middle;\n",
       "    }\n",
       "\n",
       "    .dataframe tbody tr th {\n",
       "        vertical-align: top;\n",
       "    }\n",
       "\n",
       "    .dataframe thead th {\n",
       "        text-align: right;\n",
       "    }\n",
       "</style>\n",
       "<table border=\"1\" class=\"dataframe\">\n",
       "  <thead>\n",
       "    <tr style=\"text-align: right;\">\n",
       "      <th></th>\n",
       "      <th>Area</th>\n",
       "      <th>MajorAxisLength</th>\n",
       "      <th>MinorAxisLength</th>\n",
       "      <th>Eccentricity</th>\n",
       "      <th>ConvexArea</th>\n",
       "      <th>Extent</th>\n",
       "      <th>Perimeter</th>\n",
       "      <th>Class</th>\n",
       "    </tr>\n",
       "  </thead>\n",
       "  <tbody>\n",
       "  </tbody>\n",
       "</table>\n",
       "</div>"
      ],
      "text/plain": [
       "Empty DataFrame\n",
       "Columns: [Area, MajorAxisLength, MinorAxisLength, Eccentricity, ConvexArea, Extent, Perimeter, Class]\n",
       "Index: []"
      ]
     },
     "execution_count": 28,
     "metadata": {},
     "output_type": "execute_result"
    }
   ],
   "source": [
    "df[df.Perimeter>2000]"
   ]
  },
  {
   "cell_type": "code",
   "execution_count": 29,
   "id": "9f9774bb",
   "metadata": {
    "ExecuteTime": {
     "end_time": "2024-02-21T16:41:41.722259Z",
     "start_time": "2024-02-21T16:41:41.706007Z"
    }
   },
   "outputs": [],
   "source": [
    "df = df[df.Perimeter<2000]"
   ]
  },
  {
   "cell_type": "code",
   "execution_count": 30,
   "id": "a21a1201",
   "metadata": {
    "ExecuteTime": {
     "end_time": "2024-02-21T16:41:41.736286Z",
     "start_time": "2024-02-21T16:41:41.722540Z"
    }
   },
   "outputs": [
    {
     "data": {
      "text/plain": [
       "Kecimen    436\n",
       "Besni      431\n",
       "Name: Class, dtype: int64"
      ]
     },
     "execution_count": 30,
     "metadata": {},
     "output_type": "execute_result"
    }
   ],
   "source": [
    "df.Class.value_counts()"
   ]
  },
  {
   "cell_type": "code",
   "execution_count": 31,
   "id": "0a2f11b8",
   "metadata": {
    "ExecuteTime": {
     "end_time": "2024-02-21T16:41:41.747357Z",
     "start_time": "2024-02-21T16:41:41.738936Z"
    },
    "scrolled": true
   },
   "outputs": [
    {
     "data": {
      "text/plain": [
       "Index(['Area', 'MajorAxisLength', 'MinorAxisLength', 'Eccentricity',\n",
       "       'ConvexArea', 'Extent', 'Perimeter', 'Class'],\n",
       "      dtype='object')"
      ]
     },
     "execution_count": 31,
     "metadata": {},
     "output_type": "execute_result"
    }
   ],
   "source": [
    "df.columns"
   ]
  },
  {
   "cell_type": "code",
   "execution_count": 32,
   "id": "d3c4bd08",
   "metadata": {
    "ExecuteTime": {
     "end_time": "2024-02-21T16:41:42.342694Z",
     "start_time": "2024-02-21T16:41:41.748942Z"
    },
    "scrolled": false
   },
   "outputs": [
    {
     "data": {
      "image/png": "[encoded data removed]",
      "text/plain": [
       "<Figure size 2000x2000 with 7 Axes>"
      ]
     },
     "metadata": {},
     "output_type": "display_data"
    }
   ],
   "source": [
    "index = 0\n",
    "plt.figure(figsize=(20,20))\n",
    "for feature in df.columns:\n",
    "    if feature != \"Class\":\n",
    "        index += 1\n",
    "        plt.subplot(3,3,index)\n",
    "        sns.boxplot(x='Class',y=feature,data=df)\n",
    "plt.show()"
   ]
  },
  {
   "cell_type": "code",
   "execution_count": 33,
   "id": "9bd5e6fb",
   "metadata": {
    "ExecuteTime": {
     "end_time": "2024-02-21T16:41:42.357893Z",
     "start_time": "2024-02-21T16:41:42.344248Z"
    },
    "scrolled": true
   },
   "outputs": [
    {
     "data": {
      "text/plain": [
       "Kecimen    436\n",
       "Besni      431\n",
       "Name: Class, dtype: int64"
      ]
     },
     "execution_count": 33,
     "metadata": {},
     "output_type": "execute_result"
    }
   ],
   "source": [
    "df.Class.value_counts()"
   ]
  },
  {
   "cell_type": "code",
   "execution_count": 34,
   "id": "524266fe",
   "metadata": {
    "ExecuteTime": {
     "end_time": "2024-02-21T16:41:42.660093Z",
     "start_time": "2024-02-21T16:41:42.361997Z"
    },
    "scrolled": false
   },
   "outputs": [
    {
     "data": {
      "image/png": "[encoded data removed]",
      "text/plain": [
       "<Figure size 1000x800 with 2 Axes>"
      ]
     },
     "metadata": {},
     "output_type": "display_data"
    }
   ],
   "source": [
    "plt.figure(figsize=(10, 8))\n",
    "sns.heatmap(df.corr(), annot = True);"
   ]
  },
  {
   "cell_type": "code",
   "execution_count": 35,
   "id": "f5bf562b",
   "metadata": {
    "ExecuteTime": {
     "end_time": "2024-02-21T16:41:42.675549Z",
     "start_time": "2024-02-21T16:41:42.662591Z"
    }
   },
   "outputs": [
    {
     "data": {
      "text/plain": [
       "Kecimen    436\n",
       "Besni      431\n",
       "Name: Class, dtype: int64"
      ]
     },
     "execution_count": 35,
     "metadata": {},
     "output_type": "execute_result"
    }
   ],
   "source": [
    "df.Class.value_counts()"
   ]
  },
  {
   "cell_type": "markdown",
   "id": "ab14529b-fa6d-4594-9740-4423f7e8e5d2",
   "metadata": {
    "id": "ab14529b-fa6d-4594-9740-4423f7e8e5d2"
   },
   "source": [
    "## Train | Test Split and Scaling"
   ]
  },
  {
   "cell_type": "code",
   "execution_count": 36,
   "id": "cd3070c8",
   "metadata": {
    "ExecuteTime": {
     "end_time": "2024-02-21T16:41:42.693638Z",
     "start_time": "2024-02-21T16:41:42.678216Z"
    }
   },
   "outputs": [],
   "source": [
    "X = df.drop([\"Class\"], axis = 1)\n",
    "y = df[\"Class\"]"
   ]
  },
  {
   "cell_type": "code",
   "execution_count": 37,
   "id": "614a3704",
   "metadata": {
    "ExecuteTime": {
     "end_time": "2024-02-21T16:41:42.722419Z",
     "start_time": "2024-02-21T16:41:42.693638Z"
    }
   },
   "outputs": [],
   "source": [
    "from sklearn.model_selection import train_test_split"
   ]
  },
  {
   "cell_type": "code",
   "execution_count": 38,
   "id": "79dedc64",
   "metadata": {
    "ExecuteTime": {
     "end_time": "2024-02-21T16:41:42.734237Z",
     "start_time": "2024-02-21T16:41:42.724868Z"
    }
   },
   "outputs": [],
   "source": [
    "X_train, X_test, y_train, y_test = train_test_split(X, y, \n",
    "                                                    test_size=0.20, \n",
    "                                                    stratify=y, \n",
    "                                                    random_state = 42)"
   ]
  },
  {
   "cell_type": "code",
   "execution_count": 39,
   "id": "a35880e0",
   "metadata": {
    "ExecuteTime": {
     "end_time": "2024-02-21T16:41:42.743049Z",
     "start_time": "2024-02-21T16:41:42.736025Z"
    }
   },
   "outputs": [],
   "source": [
    "from sklearn.preprocessing import StandardScaler"
   ]
  },
  {
   "cell_type": "code",
   "execution_count": 40,
   "id": "b4445682",
   "metadata": {
    "ExecuteTime": {
     "end_time": "2024-02-21T16:41:42.754699Z",
     "start_time": "2024-02-21T16:41:42.744600Z"
    }
   },
   "outputs": [],
   "source": [
    "scaler = StandardScaler()"
   ]
  },
  {
   "cell_type": "code",
   "execution_count": 41,
   "id": "52dbceb5",
   "metadata": {
    "ExecuteTime": {
     "end_time": "2024-02-21T16:41:42.768789Z",
     "start_time": "2024-02-21T16:41:42.756934Z"
    }
   },
   "outputs": [],
   "source": [
    "X_train_scaled = scaler.fit_transform(X_train)\n",
    "X_test_scaled  = scaler.transform(X_test)"
   ]
  },
  {
   "cell_type": "markdown",
   "id": "4e3dcb9c",
   "metadata": {
    "id": "4e3dcb9c"
   },
   "source": [
    "# Logistic Regression"
   ]
  },
  {
   "cell_type": "code",
   "execution_count": 42,
   "id": "31124f68",
   "metadata": {
    "ExecuteTime": {
     "end_time": "2024-02-21T16:41:42.873784Z",
     "start_time": "2024-02-21T16:41:42.772316Z"
    }
   },
   "outputs": [],
   "source": [
    "from sklearn.linear_model import LogisticRegression"
   ]
  },
  {
   "cell_type": "code",
   "execution_count": 43,
   "id": "0e573af4",
   "metadata": {
    "ExecuteTime": {
     "end_time": "2024-02-21T16:41:42.886060Z",
     "start_time": "2024-02-21T16:41:42.875480Z"
    }
   },
   "outputs": [],
   "source": [
    "log_model = LogisticRegression()"
   ]
  },
  {
   "cell_type": "code",
   "execution_count": 44,
   "id": "82607dc5",
   "metadata": {
    "ExecuteTime": {
     "end_time": "2024-02-21T16:41:42.988446Z",
     "start_time": "2024-02-21T16:41:42.888760Z"
    }
   },
   "outputs": [
    {
     "data": {
      "text/html": [
       "<style>#sk-container-id-1 {color: black;background-color: white;}#sk-container-id-1 pre{padding: 0;}#sk-container-id-1 div.sk-toggleable {background-color: white;}#sk-container-id-1 label.sk-toggleable__label {cursor: pointer;display: block;width: 100%;margin-bottom: 0;padding: 0.3em;box-sizing: border-box;text-align: center;}#sk-container-id-1 label.sk-toggleable__label-arrow:before {content: \"▸\";float: left;margin-right: 0.25em;color: #696969;}#sk-container-id-1 label.sk-toggleable__label-arrow:hover:before {color: black;}#sk-container-id-1 div.sk-estimator:hover label.sk-toggleable__label-arrow:before {color: black;}#sk-container-id-1 div.sk-toggleable__content {max-height: 0;max-width: 0;overflow: hidden;text-align: left;background-color: #f0f8ff;}#sk-container-id-1 div.sk-toggleable__content pre {margin: 0.2em;color: black;border-radius: 0.25em;background-color: #f0f8ff;}#sk-container-id-1 input.sk-toggleable__control:checked~div.sk-toggleable__content {max-height: 200px;max-width: 100%;overflow: auto;}#sk-container-id-1 input.sk-toggleable__control:checked~label.sk-toggleable__label-arrow:before {content: \"▾\";}#sk-container-id-1 div.sk-estimator input.sk-toggleable__control:checked~label.sk-toggleable__label {background-color: #d4ebff;}#sk-container-id-1 div.sk-label input.sk-toggleable__control:checked~label.sk-toggleable__label {background-color: #d4ebff;}#sk-container-id-1 input.sk-hidden--visually {border: 0;clip: rect(1px 1px 1px 1px);clip: rect(1px, 1px, 1px, 1px);height: 1px;margin: -1px;overflow: hidden;padding: 0;position: absolute;width: 1px;}#sk-container-id-1 div.sk-estimator {font-family: monospace;background-color: #f0f8ff;border: 1px dotted black;border-radius: 0.25em;box-sizing: border-box;margin-bottom: 0.5em;}#sk-container-id-1 div.sk-estimator:hover {background-color: #d4ebff;}#sk-container-id-1 div.sk-parallel-item::after {content: \"\";width: 100%;border-bottom: 1px solid gray;flex-grow: 1;}#sk-container-id-1 div.sk-label:hover label.sk-toggleable__label {background-color: #d4ebff;}#sk-container-id-1 div.sk-serial::before {content: \"\";position: absolute;border-left: 1px solid gray;box-sizing: border-box;top: 0;bottom: 0;left: 50%;z-index: 0;}#sk-container-id-1 div.sk-serial {display: flex;flex-direction: column;align-items: center;background-color: white;padding-right: 0.2em;padding-left: 0.2em;position: relative;}#sk-container-id-1 div.sk-item {position: relative;z-index: 1;}#sk-container-id-1 div.sk-parallel {display: flex;align-items: stretch;justify-content: center;background-color: white;position: relative;}#sk-container-id-1 div.sk-item::before, #sk-container-id-1 div.sk-parallel-item::before {content: \"\";position: absolute;border-left: 1px solid gray;box-sizing: border-box;top: 0;bottom: 0;left: 50%;z-index: -1;}#sk-container-id-1 div.sk-parallel-item {display: flex;flex-direction: column;z-index: 1;position: relative;background-color: white;}#sk-container-id-1 div.sk-parallel-item:first-child::after {align-self: flex-end;width: 50%;}#sk-container-id-1 div.sk-parallel-item:last-child::after {align-self: flex-start;width: 50%;}#sk-container-id-1 div.sk-parallel-item:only-child::after {width: 0;}#sk-container-id-1 div.sk-dashed-wrapped {border: 1px dashed gray;margin: 0 0.4em 0.5em 0.4em;box-sizing: border-box;padding-bottom: 0.4em;background-color: white;}#sk-container-id-1 div.sk-label label {font-family: monospace;font-weight: bold;display: inline-block;line-height: 1.2em;}#sk-container-id-1 div.sk-label-container {text-align: center;}#sk-container-id-1 div.sk-container {/* jupyter's `normalize.less` sets `[hidden] { display: none; }` but bootstrap.min.css set `[hidden] { display: none !important; }` so we also need the `!important` here to be able to override the default hidden behavior on the sphinx rendered scikit-learn.org. See: https://github.com/scikit-learn/scikit-learn/issues/21755 */display: inline-block !important;position: relative;}#sk-container-id-1 div.sk-text-repr-fallback {display: none;}</style><div id=\"sk-container-id-1\" class=\"sk-top-container\"><div class=\"sk-text-repr-fallback\"><pre>LogisticRegression()</pre><b>In a Jupyter environment, please rerun this cell to show the HTML representation or trust the notebook. <br />On GitHub, the HTML representation is unable to render, please try loading this page with nbviewer.org.</b></div><div class=\"sk-container\" hidden><div class=\"sk-item\"><div class=\"sk-estimator sk-toggleable\"><input class=\"sk-toggleable__control sk-hidden--visually\" id=\"sk-estimator-id-1\" type=\"checkbox\" checked><label for=\"sk-estimator-id-1\" class=\"sk-toggleable__label sk-toggleable__label-arrow\">LogisticRegression</label><div class=\"sk-toggleable__content\"><pre>LogisticRegression()</pre></div></div></div></div></div>"
      ],
      "text/plain": [
       "LogisticRegression()"
      ]
     },
     "execution_count": 44,
     "metadata": {},
     "output_type": "execute_result"
    }
   ],
   "source": [
    "log_model.fit(X_train_scaled, y_train)"
   ]
  },
  {
   "cell_type": "code",
   "execution_count": 45,
   "id": "a40901cb",
   "metadata": {
    "ExecuteTime": {
     "end_time": "2024-02-21T16:41:42.999938Z",
     "start_time": "2024-02-21T16:41:42.988446Z"
    }
   },
   "outputs": [],
   "source": [
    "y_pred = log_model.predict(X_test_scaled)\n",
    "y_pred_proba = log_model.predict_proba(X_test_scaled)"
   ]
  },
  {
   "cell_type": "code",
   "execution_count": 46,
   "id": "c995a2e9",
   "metadata": {
    "ExecuteTime": {
     "end_time": "2024-02-21T16:41:43.020606Z",
     "start_time": "2024-02-21T16:41:42.999938Z"
    }
   },
   "outputs": [
    {
     "data": {
      "text/html": [
       "<div>\n",
       "<style scoped>\n",
       "    .dataframe tbody tr th:only-of-type {\n",
       "        vertical-align: middle;\n",
       "    }\n",
       "\n",
       "    .dataframe tbody tr th {\n",
       "        vertical-align: top;\n",
       "    }\n",
       "\n",
       "    .dataframe thead th {\n",
       "        text-align: right;\n",
       "    }\n",
       "</style>\n",
       "<table border=\"1\" class=\"dataframe\">\n",
       "  <thead>\n",
       "    <tr style=\"text-align: right;\">\n",
       "      <th></th>\n",
       "      <th>Area</th>\n",
       "      <th>MajorAxisLength</th>\n",
       "      <th>MinorAxisLength</th>\n",
       "      <th>Eccentricity</th>\n",
       "      <th>ConvexArea</th>\n",
       "      <th>Extent</th>\n",
       "      <th>Perimeter</th>\n",
       "      <th>Class</th>\n",
       "      <th>pred</th>\n",
       "      <th>pred_proba</th>\n",
       "    </tr>\n",
       "  </thead>\n",
       "  <tbody>\n",
       "    <tr>\n",
       "      <th>775</th>\n",
       "      <td>88747</td>\n",
       "      <td>425.007</td>\n",
       "      <td>268.668</td>\n",
       "      <td>0.775</td>\n",
       "      <td>92317</td>\n",
       "      <td>0.761</td>\n",
       "      <td>1184.156</td>\n",
       "      <td>Besni</td>\n",
       "      <td>Besni</td>\n",
       "      <td>0.438</td>\n",
       "    </tr>\n",
       "    <tr>\n",
       "      <th>813</th>\n",
       "      <td>152611</td>\n",
       "      <td>663.133</td>\n",
       "      <td>297.418</td>\n",
       "      <td>0.894</td>\n",
       "      <td>158488</td>\n",
       "      <td>0.615</td>\n",
       "      <td>1755.968</td>\n",
       "      <td>Besni</td>\n",
       "      <td>Besni</td>\n",
       "      <td>0.000</td>\n",
       "    </tr>\n",
       "    <tr>\n",
       "      <th>815</th>\n",
       "      <td>117354</td>\n",
       "      <td>520.327</td>\n",
       "      <td>289.662</td>\n",
       "      <td>0.831</td>\n",
       "      <td>121057</td>\n",
       "      <td>0.712</td>\n",
       "      <td>1374.171</td>\n",
       "      <td>Besni</td>\n",
       "      <td>Besni</td>\n",
       "      <td>0.040</td>\n",
       "    </tr>\n",
       "    <tr>\n",
       "      <th>768</th>\n",
       "      <td>175247</td>\n",
       "      <td>713.017</td>\n",
       "      <td>316.398</td>\n",
       "      <td>0.896</td>\n",
       "      <td>179961</td>\n",
       "      <td>0.592</td>\n",
       "      <td>1739.277</td>\n",
       "      <td>Besni</td>\n",
       "      <td>Besni</td>\n",
       "      <td>0.000</td>\n",
       "    </tr>\n",
       "    <tr>\n",
       "      <th>201</th>\n",
       "      <td>61996</td>\n",
       "      <td>333.748</td>\n",
       "      <td>243.540</td>\n",
       "      <td>0.684</td>\n",
       "      <td>63641</td>\n",
       "      <td>0.673</td>\n",
       "      <td>958.627</td>\n",
       "      <td>Kecimen</td>\n",
       "      <td>Kecimen</td>\n",
       "      <td>0.915</td>\n",
       "    </tr>\n",
       "    <tr>\n",
       "      <th>121</th>\n",
       "      <td>52266</td>\n",
       "      <td>320.443</td>\n",
       "      <td>213.857</td>\n",
       "      <td>0.745</td>\n",
       "      <td>54116</td>\n",
       "      <td>0.684</td>\n",
       "      <td>923.190</td>\n",
       "      <td>Kecimen</td>\n",
       "      <td>Kecimen</td>\n",
       "      <td>0.922</td>\n",
       "    </tr>\n",
       "    <tr>\n",
       "      <th>278</th>\n",
       "      <td>42609</td>\n",
       "      <td>280.149</td>\n",
       "      <td>200.272</td>\n",
       "      <td>0.699</td>\n",
       "      <td>44944</td>\n",
       "      <td>0.673</td>\n",
       "      <td>840.167</td>\n",
       "      <td>Kecimen</td>\n",
       "      <td>Kecimen</td>\n",
       "      <td>0.965</td>\n",
       "    </tr>\n",
       "    <tr>\n",
       "      <th>205</th>\n",
       "      <td>74849</td>\n",
       "      <td>379.925</td>\n",
       "      <td>252.617</td>\n",
       "      <td>0.747</td>\n",
       "      <td>76154</td>\n",
       "      <td>0.735</td>\n",
       "      <td>1040.788</td>\n",
       "      <td>Kecimen</td>\n",
       "      <td>Kecimen</td>\n",
       "      <td>0.824</td>\n",
       "    </tr>\n",
       "    <tr>\n",
       "      <th>445</th>\n",
       "      <td>61200</td>\n",
       "      <td>323.174</td>\n",
       "      <td>246.288</td>\n",
       "      <td>0.647</td>\n",
       "      <td>64553</td>\n",
       "      <td>0.707</td>\n",
       "      <td>997.264</td>\n",
       "      <td>Kecimen</td>\n",
       "      <td>Kecimen</td>\n",
       "      <td>0.872</td>\n",
       "    </tr>\n",
       "    <tr>\n",
       "      <th>883</th>\n",
       "      <td>171264</td>\n",
       "      <td>609.643</td>\n",
       "      <td>359.225</td>\n",
       "      <td>0.808</td>\n",
       "      <td>174156</td>\n",
       "      <td>0.772</td>\n",
       "      <td>1592.095</td>\n",
       "      <td>Besni</td>\n",
       "      <td>Besni</td>\n",
       "      <td>0.005</td>\n",
       "    </tr>\n",
       "    <tr>\n",
       "      <th>472</th>\n",
       "      <td>108161</td>\n",
       "      <td>485.103</td>\n",
       "      <td>286.033</td>\n",
       "      <td>0.808</td>\n",
       "      <td>111765</td>\n",
       "      <td>0.708</td>\n",
       "      <td>1305.144</td>\n",
       "      <td>Besni</td>\n",
       "      <td>Besni</td>\n",
       "      <td>0.111</td>\n",
       "    </tr>\n",
       "    <tr>\n",
       "      <th>260</th>\n",
       "      <td>62343</td>\n",
       "      <td>348.289</td>\n",
       "      <td>232.820</td>\n",
       "      <td>0.744</td>\n",
       "      <td>63897</td>\n",
       "      <td>0.706</td>\n",
       "      <td>979.447</td>\n",
       "      <td>Kecimen</td>\n",
       "      <td>Kecimen</td>\n",
       "      <td>0.885</td>\n",
       "    </tr>\n",
       "    <tr>\n",
       "      <th>543</th>\n",
       "      <td>118988</td>\n",
       "      <td>483.340</td>\n",
       "      <td>315.248</td>\n",
       "      <td>0.758</td>\n",
       "      <td>122375</td>\n",
       "      <td>0.784</td>\n",
       "      <td>1356.398</td>\n",
       "      <td>Besni</td>\n",
       "      <td>Besni</td>\n",
       "      <td>0.122</td>\n",
       "    </tr>\n",
       "    <tr>\n",
       "      <th>608</th>\n",
       "      <td>101439</td>\n",
       "      <td>524.817</td>\n",
       "      <td>251.161</td>\n",
       "      <td>0.878</td>\n",
       "      <td>107520</td>\n",
       "      <td>0.733</td>\n",
       "      <td>1393.213</td>\n",
       "      <td>Besni</td>\n",
       "      <td>Besni</td>\n",
       "      <td>0.014</td>\n",
       "    </tr>\n",
       "    <tr>\n",
       "      <th>578</th>\n",
       "      <td>129038</td>\n",
       "      <td>540.815</td>\n",
       "      <td>306.818</td>\n",
       "      <td>0.823</td>\n",
       "      <td>134796</td>\n",
       "      <td>0.649</td>\n",
       "      <td>1459.345</td>\n",
       "      <td>Besni</td>\n",
       "      <td>Besni</td>\n",
       "      <td>0.012</td>\n",
       "    </tr>\n",
       "    <tr>\n",
       "      <th>828</th>\n",
       "      <td>84855</td>\n",
       "      <td>420.351</td>\n",
       "      <td>275.881</td>\n",
       "      <td>0.754</td>\n",
       "      <td>90768</td>\n",
       "      <td>0.674</td>\n",
       "      <td>1172.642</td>\n",
       "      <td>Besni</td>\n",
       "      <td>Besni</td>\n",
       "      <td>0.448</td>\n",
       "    </tr>\n",
       "    <tr>\n",
       "      <th>348</th>\n",
       "      <td>87149</td>\n",
       "      <td>444.611</td>\n",
       "      <td>253.207</td>\n",
       "      <td>0.822</td>\n",
       "      <td>91704</td>\n",
       "      <td>0.716</td>\n",
       "      <td>1189.483</td>\n",
       "      <td>Kecimen</td>\n",
       "      <td>Besni</td>\n",
       "      <td>0.293</td>\n",
       "    </tr>\n",
       "    <tr>\n",
       "      <th>526</th>\n",
       "      <td>69579</td>\n",
       "      <td>398.597</td>\n",
       "      <td>224.579</td>\n",
       "      <td>0.826</td>\n",
       "      <td>71648</td>\n",
       "      <td>0.719</td>\n",
       "      <td>1071.644</td>\n",
       "      <td>Besni</td>\n",
       "      <td>Kecimen</td>\n",
       "      <td>0.619</td>\n",
       "    </tr>\n",
       "    <tr>\n",
       "      <th>592</th>\n",
       "      <td>128574</td>\n",
       "      <td>601.800</td>\n",
       "      <td>276.248</td>\n",
       "      <td>0.888</td>\n",
       "      <td>135975</td>\n",
       "      <td>0.674</td>\n",
       "      <td>1508.934</td>\n",
       "      <td>Besni</td>\n",
       "      <td>Besni</td>\n",
       "      <td>0.002</td>\n",
       "    </tr>\n",
       "    <tr>\n",
       "      <th>535</th>\n",
       "      <td>77012</td>\n",
       "      <td>425.219</td>\n",
       "      <td>239.470</td>\n",
       "      <td>0.826</td>\n",
       "      <td>81325</td>\n",
       "      <td>0.654</td>\n",
       "      <td>1131.530</td>\n",
       "      <td>Besni</td>\n",
       "      <td>Besni</td>\n",
       "      <td>0.396</td>\n",
       "    </tr>\n",
       "  </tbody>\n",
       "</table>\n",
       "</div>"
      ],
      "text/plain": [
       "       Area  MajorAxisLength  MinorAxisLength  Eccentricity  ConvexArea  \\\n",
       "775   88747          425.007          268.668         0.775       92317   \n",
       "813  152611          663.133          297.418         0.894      158488   \n",
       "815  117354          520.327          289.662         0.831      121057   \n",
       "768  175247          713.017          316.398         0.896      179961   \n",
       "201   61996          333.748          243.540         0.684       63641   \n",
       "121   52266          320.443          213.857         0.745       54116   \n",
       "278   42609          280.149          200.272         0.699       44944   \n",
       "205   74849          379.925          252.617         0.747       76154   \n",
       "445   61200          323.174          246.288         0.647       64553   \n",
       "883  171264          609.643          359.225         0.808      174156   \n",
       "472  108161          485.103          286.033         0.808      111765   \n",
       "260   62343          348.289          232.820         0.744       63897   \n",
       "543  118988          483.340          315.248         0.758      122375   \n",
       "608  101439          524.817          251.161         0.878      107520   \n",
       "578  129038          540.815          306.818         0.823      134796   \n",
       "828   84855          420.351          275.881         0.754       90768   \n",
       "348   87149          444.611          253.207         0.822       91704   \n",
       "526   69579          398.597          224.579         0.826       71648   \n",
       "592  128574          601.800          276.248         0.888      135975   \n",
       "535   77012          425.219          239.470         0.826       81325   \n",
       "\n",
       "     Extent  Perimeter    Class     pred  pred_proba  \n",
       "775   0.761   1184.156    Besni    Besni       0.438  \n",
       "813   0.615   1755.968    Besni    Besni       0.000  \n",
       "815   0.712   1374.171    Besni    Besni       0.040  \n",
       "768   0.592   1739.277    Besni    Besni       0.000  \n",
       "201   0.673    958.627  Kecimen  Kecimen       0.915  \n",
       "121   0.684    923.190  Kecimen  Kecimen       0.922  \n",
       "278   0.673    840.167  Kecimen  Kecimen       0.965  \n",
       "205   0.735   1040.788  Kecimen  Kecimen       0.824  \n",
       "445   0.707    997.264  Kecimen  Kecimen       0.872  \n",
       "883   0.772   1592.095    Besni    Besni       0.005  \n",
       "472   0.708   1305.144    Besni    Besni       0.111  \n",
       "260   0.706    979.447  Kecimen  Kecimen       0.885  \n",
       "543   0.784   1356.398    Besni    Besni       0.122  \n",
       "608   0.733   1393.213    Besni    Besni       0.014  \n",
       "578   0.649   1459.345    Besni    Besni       0.012  \n",
       "828   0.674   1172.642    Besni    Besni       0.448  \n",
       "348   0.716   1189.483  Kecimen    Besni       0.293  \n",
       "526   0.719   1071.644    Besni  Kecimen       0.619  \n",
       "592   0.674   1508.934    Besni    Besni       0.002  \n",
       "535   0.654   1131.530    Besni    Besni       0.396  "
      ]
     },
     "execution_count": 46,
     "metadata": {},
     "output_type": "execute_result"
    }
   ],
   "source": [
    "test_data = pd.concat([X_test, y_test], axis = 1)\n",
    "test_data[\"pred\"] = y_pred\n",
    "test_data[\"pred_proba\"] = y_pred_proba[:, 1]\n",
    "test_data.sample(20)"
   ]
  },
  {
   "cell_type": "markdown",
   "id": "61461cd3",
   "metadata": {
    "id": "61461cd3"
   },
   "source": [
    "## Model Performance"
   ]
  },
  {
   "cell_type": "code",
   "execution_count": 47,
   "id": "45e1cfed",
   "metadata": {
    "ExecuteTime": {
     "end_time": "2024-02-21T16:41:43.028900Z",
     "start_time": "2024-02-21T16:41:43.022612Z"
    }
   },
   "outputs": [],
   "source": [
    "from sklearn.metrics import confusion_matrix, classification_report"
   ]
  },
  {
   "cell_type": "code",
   "execution_count": 48,
   "id": "3a19c45f",
   "metadata": {
    "ExecuteTime": {
     "end_time": "2024-02-21T16:41:43.037730Z",
     "start_time": "2024-02-21T16:41:43.029431Z"
    }
   },
   "outputs": [],
   "source": [
    "def eval_metric(model, X_train, y_train, X_test, y_test):\n",
    "    y_train_pred = model.predict(X_train)\n",
    "    y_pred = model.predict(X_test)\n",
    "    \n",
    "    print(\"Test_Set\")\n",
    "    print(confusion_matrix(y_test, y_pred))\n",
    "    print(classification_report(y_test, y_pred))\n",
    "    print()\n",
    "    print(\"Train_Set\")\n",
    "    print(confusion_matrix(y_train, y_train_pred))\n",
    "    print(classification_report(y_train, y_train_pred))"
   ]
  },
  {
   "cell_type": "markdown",
   "id": "5ca1db13",
   "metadata": {},
   "source": [
    "# Log_Model Eval Metric\n"
   ]
  },
  {
   "cell_type": "code",
   "execution_count": 49,
   "id": "6a2b0c69",
   "metadata": {
    "ExecuteTime": {
     "end_time": "2024-02-21T16:41:43.074349Z",
     "start_time": "2024-02-21T16:41:43.042239Z"
    },
    "scrolled": false
   },
   "outputs": [
    {
     "name": "stdout",
     "output_type": "stream",
     "text": [
      "Test_Set\n",
      "[[74 12]\n",
      " [ 9 79]]\n",
      "              precision    recall  f1-score   support\n",
      "\n",
      "       Besni       0.89      0.86      0.88        86\n",
      "     Kecimen       0.87      0.90      0.88        88\n",
      "\n",
      "    accuracy                           0.88       174\n",
      "   macro avg       0.88      0.88      0.88       174\n",
      "weighted avg       0.88      0.88      0.88       174\n",
      "\n",
      "\n",
      "Train_Set\n",
      "[[291  54]\n",
      " [ 39 309]]\n",
      "              precision    recall  f1-score   support\n",
      "\n",
      "       Besni       0.88      0.84      0.86       345\n",
      "     Kecimen       0.85      0.89      0.87       348\n",
      "\n",
      "    accuracy                           0.87       693\n",
      "   macro avg       0.87      0.87      0.87       693\n",
      "weighted avg       0.87      0.87      0.87       693\n",
      "\n"
     ]
    }
   ],
   "source": [
    "eval_metric(log_model, X_train_scaled, y_train, X_test_scaled, y_test)"
   ]
  },
  {
   "cell_type": "code",
   "execution_count": 50,
   "id": "28ce57c2",
   "metadata": {
    "ExecuteTime": {
     "end_time": "2024-02-21T16:41:43.083181Z",
     "start_time": "2024-02-21T16:41:43.076699Z"
    }
   },
   "outputs": [],
   "source": [
    "from sklearn.linear_model import LogisticRegression\n",
    "from sklearn.model_selection import GridSearchCV\n",
    "from sklearn.metrics import accuracy_score, confusion_matrix, classification_report, ConfusionMatrixDisplay"
   ]
  },
  {
   "cell_type": "code",
   "execution_count": 51,
   "id": "9d680d4e",
   "metadata": {
    "ExecuteTime": {
     "end_time": "2024-02-21T16:41:43.243074Z",
     "start_time": "2024-02-21T16:41:43.085724Z"
    }
   },
   "outputs": [
    {
     "data": {
      "image/png": "[encoded data removed]",
      "text/plain": [
       "<Figure size 1000x600 with 2 Axes>"
      ]
     },
     "metadata": {},
     "output_type": "display_data"
    }
   ],
   "source": [
    "ConfusionMatrixDisplay.from_estimator(log_model, X_test_scaled, y_test)\n",
    "plt.show()"
   ]
  },
  {
   "cell_type": "markdown",
   "id": "e101279a",
   "metadata": {
    "id": "e101279a"
   },
   "source": [
    "### Cross Validate"
   ]
  },
  {
   "cell_type": "code",
   "execution_count": 52,
   "id": "a5aa0daa",
   "metadata": {
    "ExecuteTime": {
     "end_time": "2024-02-21T16:41:43.259250Z",
     "start_time": "2024-02-21T16:41:43.243166Z"
    }
   },
   "outputs": [],
   "source": [
    "from sklearn.model_selection import cross_validate"
   ]
  },
  {
   "cell_type": "code",
   "execution_count": 53,
   "id": "d89d576e",
   "metadata": {
    "ExecuteTime": {
     "end_time": "2024-02-21T16:41:43.458498Z",
     "start_time": "2024-02-21T16:41:43.261491Z"
    }
   },
   "outputs": [
    {
     "data": {
      "text/plain": [
       "test_accuracy             0.860\n",
       "test_precision_weighted   0.864\n",
       "test_recall_weighted      0.860\n",
       "test_f1_weighted          0.860\n",
       "dtype: float64"
      ]
     },
     "execution_count": 53,
     "metadata": {},
     "output_type": "execute_result"
    }
   ],
   "source": [
    "from sklearn.model_selection import cross_validate\n",
    "\n",
    "model = LogisticRegression()\n",
    "scores = cross_validate(model, X_train_scaled, y_train, scoring = [\"accuracy\", \n",
    "                                                                   \"precision_weighted\",\n",
    "                                                                  \"recall_weighted\",\n",
    "                                                                  \"f1_weighted\"], cv = 10)\n",
    "\n",
    "df_scores = pd.DataFrame(scores, index=range(1, 11))\n",
    "df_scores.mean()[2:]"
   ]
  },
  {
   "cell_type": "code",
   "execution_count": 54,
   "id": "a15ebb38",
   "metadata": {
    "ExecuteTime": {
     "end_time": "2024-02-21T16:41:43.475036Z",
     "start_time": "2024-02-21T16:41:43.461699Z"
    }
   },
   "outputs": [],
   "source": [
    "from sklearn.metrics import make_scorer\n",
    "from sklearn.metrics import precision_score, recall_score, accuracy_score, f1_score"
   ]
  },
  {
   "cell_type": "code",
   "execution_count": 57,
   "id": "716c1990",
   "metadata": {
    "ExecuteTime": {
     "end_time": "2024-02-21T16:42:24.620123Z",
     "start_time": "2024-02-21T16:42:24.613355Z"
    }
   },
   "outputs": [],
   "source": [
    "f1_Kecimen = make_scorer(f1_score, average = None, labels =[\"Kecimen\"])\n",
    "precision_Kecimen = make_scorer(precision_score, average = None, labels =[\"Kecimen\"])\n",
    "recall_Kecimen = make_scorer(recall_score, average = None, labels =[\"Kecimen\"])"
   ]
  },
  {
   "cell_type": "code",
   "execution_count": 58,
   "id": "cd074486",
   "metadata": {
    "ExecuteTime": {
     "end_time": "2024-02-21T16:42:25.246915Z",
     "start_time": "2024-02-21T16:42:25.154928Z"
    }
   },
   "outputs": [
    {
     "data": {
      "text/plain": [
       "test_f1_Kecimen          0.864\n",
       "test_precision_Kecimen   0.849\n",
       "test_recall_Kecimen      0.883\n",
       "dtype: float64"
      ]
     },
     "execution_count": 58,
     "metadata": {},
     "output_type": "execute_result"
    }
   ],
   "source": [
    "model = LogisticRegression()\n",
    "\n",
    "scores = cross_validate(model, X_train_scaled, y_train, scoring = {\"f1_Kecimen\":f1_Kecimen, \n",
    "                                                                   \"precision_Kecimen\":precision_Kecimen,\n",
    "                                                                  \"recall_Kecimen\":recall_Kecimen}, cv = 10)\n",
    "\n",
    "df_scores = pd.DataFrame(scores, index=range(1, 11))\n",
    "df_scores.mean()[2:]"
   ]
  },
  {
   "cell_type": "markdown",
   "id": "fd39b4ec",
   "metadata": {
    "id": "fd39b4ec"
   },
   "source": [
    "### GridSearchCV"
   ]
  },
  {
   "cell_type": "code",
   "execution_count": 59,
   "id": "2dc2cc04",
   "metadata": {
    "ExecuteTime": {
     "end_time": "2024-02-21T16:42:27.386881Z",
     "start_time": "2024-02-21T16:42:27.379052Z"
    }
   },
   "outputs": [],
   "source": [
    "model = LogisticRegression()\n",
    "\n",
    "penalty = [\"l2\", \"l1\"]\n",
    "C = np.logspace(-1, 5, 10) #katsayı için logspace alınarak değerler verilmesi öneriliyor\n",
    "class_weight = [\"balanced\", None]\n",
    "solver = [\"lbfgs\", \"liblinear\", \"sag\", \"saga\"]\n",
    "\n",
    "\n",
    "param_grid = {\"penalty\": penalty,\n",
    "             \"C\": C,\n",
    "             \"class_weight\":class_weight,\n",
    "             \"solver\": solver}\n",
    "\n",
    "grid_model = GridSearchCV(estimator = model, \n",
    "                          param_grid = param_grid, \n",
    "                          cv = 10, scoring = \"accuracy\", \n",
    "                          n_jobs = -1)"
   ]
  },
  {
   "cell_type": "code",
   "execution_count": 60,
   "id": "7ac3e231",
   "metadata": {
    "ExecuteTime": {
     "end_time": "2024-02-21T16:42:33.994027Z",
     "start_time": "2024-02-21T16:42:28.363363Z"
    },
    "scrolled": false
   },
   "outputs": [
    {
     "data": {
      "text/html": [
       "<style>#sk-container-id-2 {color: black;background-color: white;}#sk-container-id-2 pre{padding: 0;}#sk-container-id-2 div.sk-toggleable {background-color: white;}#sk-container-id-2 label.sk-toggleable__label {cursor: pointer;display: block;width: 100%;margin-bottom: 0;padding: 0.3em;box-sizing: border-box;text-align: center;}#sk-container-id-2 label.sk-toggleable__label-arrow:before {content: \"▸\";float: left;margin-right: 0.25em;color: #696969;}#sk-container-id-2 label.sk-toggleable__label-arrow:hover:before {color: black;}#sk-container-id-2 div.sk-estimator:hover label.sk-toggleable__label-arrow:before {color: black;}#sk-container-id-2 div.sk-toggleable__content {max-height: 0;max-width: 0;overflow: hidden;text-align: left;background-color: #f0f8ff;}#sk-container-id-2 div.sk-toggleable__content pre {margin: 0.2em;color: black;border-radius: 0.25em;background-color: #f0f8ff;}#sk-container-id-2 input.sk-toggleable__control:checked~div.sk-toggleable__content {max-height: 200px;max-width: 100%;overflow: auto;}#sk-container-id-2 input.sk-toggleable__control:checked~label.sk-toggleable__label-arrow:before {content: \"▾\";}#sk-container-id-2 div.sk-estimator input.sk-toggleable__control:checked~label.sk-toggleable__label {background-color: #d4ebff;}#sk-container-id-2 div.sk-label input.sk-toggleable__control:checked~label.sk-toggleable__label {background-color: #d4ebff;}#sk-container-id-2 input.sk-hidden--visually {border: 0;clip: rect(1px 1px 1px 1px);clip: rect(1px, 1px, 1px, 1px);height: 1px;margin: -1px;overflow: hidden;padding: 0;position: absolute;width: 1px;}#sk-container-id-2 div.sk-estimator {font-family: monospace;background-color: #f0f8ff;border: 1px dotted black;border-radius: 0.25em;box-sizing: border-box;margin-bottom: 0.5em;}#sk-container-id-2 div.sk-estimator:hover {background-color: #d4ebff;}#sk-container-id-2 div.sk-parallel-item::after {content: \"\";width: 100%;border-bottom: 1px solid gray;flex-grow: 1;}#sk-container-id-2 div.sk-label:hover label.sk-toggleable__label {background-color: #d4ebff;}#sk-container-id-2 div.sk-serial::before {content: \"\";position: absolute;border-left: 1px solid gray;box-sizing: border-box;top: 0;bottom: 0;left: 50%;z-index: 0;}#sk-container-id-2 div.sk-serial {display: flex;flex-direction: column;align-items: center;background-color: white;padding-right: 0.2em;padding-left: 0.2em;position: relative;}#sk-container-id-2 div.sk-item {position: relative;z-index: 1;}#sk-container-id-2 div.sk-parallel {display: flex;align-items: stretch;justify-content: center;background-color: white;position: relative;}#sk-container-id-2 div.sk-item::before, #sk-container-id-2 div.sk-parallel-item::before {content: \"\";position: absolute;border-left: 1px solid gray;box-sizing: border-box;top: 0;bottom: 0;left: 50%;z-index: -1;}#sk-container-id-2 div.sk-parallel-item {display: flex;flex-direction: column;z-index: 1;position: relative;background-color: white;}#sk-container-id-2 div.sk-parallel-item:first-child::after {align-self: flex-end;width: 50%;}#sk-container-id-2 div.sk-parallel-item:last-child::after {align-self: flex-start;width: 50%;}#sk-container-id-2 div.sk-parallel-item:only-child::after {width: 0;}#sk-container-id-2 div.sk-dashed-wrapped {border: 1px dashed gray;margin: 0 0.4em 0.5em 0.4em;box-sizing: border-box;padding-bottom: 0.4em;background-color: white;}#sk-container-id-2 div.sk-label label {font-family: monospace;font-weight: bold;display: inline-block;line-height: 1.2em;}#sk-container-id-2 div.sk-label-container {text-align: center;}#sk-container-id-2 div.sk-container {/* jupyter's `normalize.less` sets `[hidden] { display: none; }` but bootstrap.min.css set `[hidden] { display: none !important; }` so we also need the `!important` here to be able to override the default hidden behavior on the sphinx rendered scikit-learn.org. See: https://github.com/scikit-learn/scikit-learn/issues/21755 */display: inline-block !important;position: relative;}#sk-container-id-2 div.sk-text-repr-fallback {display: none;}</style><div id=\"sk-container-id-2\" class=\"sk-top-container\"><div class=\"sk-text-repr-fallback\"><pre>GridSearchCV(cv=10, estimator=LogisticRegression(), n_jobs=-1,\n",
       "             param_grid={&#x27;C&#x27;: array([1.00000000e-01, 4.64158883e-01, 2.15443469e+00, 1.00000000e+01,\n",
       "       4.64158883e+01, 2.15443469e+02, 1.00000000e+03, 4.64158883e+03,\n",
       "       2.15443469e+04, 1.00000000e+05]),\n",
       "                         &#x27;class_weight&#x27;: [&#x27;balanced&#x27;, None],\n",
       "                         &#x27;penalty&#x27;: [&#x27;l2&#x27;, &#x27;l1&#x27;],\n",
       "                         &#x27;solver&#x27;: [&#x27;lbfgs&#x27;, &#x27;liblinear&#x27;, &#x27;sag&#x27;, &#x27;saga&#x27;]},\n",
       "             scoring=&#x27;recall&#x27;)</pre><b>In a Jupyter environment, please rerun this cell to show the HTML representation or trust the notebook. <br />On GitHub, the HTML representation is unable to render, please try loading this page with nbviewer.org.</b></div><div class=\"sk-container\" hidden><div class=\"sk-item sk-dashed-wrapped\"><div class=\"sk-label-container\"><div class=\"sk-label sk-toggleable\"><input class=\"sk-toggleable__control sk-hidden--visually\" id=\"sk-estimator-id-2\" type=\"checkbox\" ><label for=\"sk-estimator-id-2\" class=\"sk-toggleable__label sk-toggleable__label-arrow\">GridSearchCV</label><div class=\"sk-toggleable__content\"><pre>GridSearchCV(cv=10, estimator=LogisticRegression(), n_jobs=-1,\n",
       "             param_grid={&#x27;C&#x27;: array([1.00000000e-01, 4.64158883e-01, 2.15443469e+00, 1.00000000e+01,\n",
       "       4.64158883e+01, 2.15443469e+02, 1.00000000e+03, 4.64158883e+03,\n",
       "       2.15443469e+04, 1.00000000e+05]),\n",
       "                         &#x27;class_weight&#x27;: [&#x27;balanced&#x27;, None],\n",
       "                         &#x27;penalty&#x27;: [&#x27;l2&#x27;, &#x27;l1&#x27;],\n",
       "                         &#x27;solver&#x27;: [&#x27;lbfgs&#x27;, &#x27;liblinear&#x27;, &#x27;sag&#x27;, &#x27;saga&#x27;]},\n",
       "             scoring=&#x27;recall&#x27;)</pre></div></div></div><div class=\"sk-parallel\"><div class=\"sk-parallel-item\"><div class=\"sk-item\"><div class=\"sk-label-container\"><div class=\"sk-label sk-toggleable\"><input class=\"sk-toggleable__control sk-hidden--visually\" id=\"sk-estimator-id-3\" type=\"checkbox\" ><label for=\"sk-estimator-id-3\" class=\"sk-toggleable__label sk-toggleable__label-arrow\">estimator: LogisticRegression</label><div class=\"sk-toggleable__content\"><pre>LogisticRegression()</pre></div></div></div><div class=\"sk-serial\"><div class=\"sk-item\"><div class=\"sk-estimator sk-toggleable\"><input class=\"sk-toggleable__control sk-hidden--visually\" id=\"sk-estimator-id-4\" type=\"checkbox\" ><label for=\"sk-estimator-id-4\" class=\"sk-toggleable__label sk-toggleable__label-arrow\">LogisticRegression</label><div class=\"sk-toggleable__content\"><pre>LogisticRegression()</pre></div></div></div></div></div></div></div></div></div></div>"
      ],
      "text/plain": [
       "GridSearchCV(cv=10, estimator=LogisticRegression(), n_jobs=-1,\n",
       "             param_grid={'C': array([1.00000000e-01, 4.64158883e-01, 2.15443469e+00, 1.00000000e+01,\n",
       "       4.64158883e+01, 2.15443469e+02, 1.00000000e+03, 4.64158883e+03,\n",
       "       2.15443469e+04, 1.00000000e+05]),\n",
       "                         'class_weight': ['balanced', None],\n",
       "                         'penalty': ['l2', 'l1'],\n",
       "                         'solver': ['lbfgs', 'liblinear', 'sag', 'saga']},\n",
       "             scoring='recall')"
      ]
     },
     "execution_count": 60,
     "metadata": {},
     "output_type": "execute_result"
    }
   ],
   "source": [
    "grid_model.fit(X_train_scaled, y_train)"
   ]
  },
  {
   "cell_type": "code",
   "execution_count": 61,
   "id": "bb5e7973",
   "metadata": {
    "ExecuteTime": {
     "end_time": "2024-02-21T16:42:34.009260Z",
     "start_time": "2024-02-21T16:42:33.995764Z"
    }
   },
   "outputs": [
    {
     "data": {
      "text/plain": [
       "{'C': 0.1, 'class_weight': 'balanced', 'penalty': 'l2', 'solver': 'lbfgs'}"
      ]
     },
     "execution_count": 61,
     "metadata": {},
     "output_type": "execute_result"
    }
   ],
   "source": [
    "grid_model.best_params_"
   ]
  },
  {
   "cell_type": "code",
   "execution_count": 62,
   "id": "7cc3b3b7",
   "metadata": {
    "ExecuteTime": {
     "end_time": "2024-02-21T16:42:34.023545Z",
     "start_time": "2024-02-21T16:42:34.010850Z"
    }
   },
   "outputs": [
    {
     "data": {
      "text/plain": [
       "nan"
      ]
     },
     "execution_count": 62,
     "metadata": {},
     "output_type": "execute_result"
    }
   ],
   "source": [
    "grid_model.best_score_"
   ]
  },
  {
   "cell_type": "code",
   "execution_count": 63,
   "id": "4fa95d8a",
   "metadata": {
    "ExecuteTime": {
     "end_time": "2024-02-21T16:42:34.040232Z",
     "start_time": "2024-02-21T16:42:34.028693Z"
    }
   },
   "outputs": [
    {
     "data": {
      "text/plain": [
       "array(['Besni', 'Kecimen', 'Besni', 'Kecimen', 'Besni', 'Besni',\n",
       "       'Kecimen', 'Besni', 'Besni', 'Besni', 'Kecimen', 'Kecimen',\n",
       "       'Kecimen', 'Kecimen', 'Kecimen', 'Kecimen', 'Besni', 'Besni',\n",
       "       'Kecimen', 'Besni', 'Kecimen', 'Kecimen', 'Besni', 'Kecimen',\n",
       "       'Besni', 'Besni', 'Besni', 'Besni', 'Kecimen', 'Kecimen',\n",
       "       'Kecimen', 'Besni', 'Kecimen', 'Kecimen', 'Besni', 'Besni',\n",
       "       'Kecimen', 'Kecimen', 'Kecimen', 'Besni', 'Besni', 'Kecimen',\n",
       "       'Besni', 'Kecimen', 'Kecimen', 'Besni', 'Besni', 'Besni',\n",
       "       'Kecimen', 'Besni', 'Besni', 'Besni', 'Besni', 'Kecimen',\n",
       "       'Kecimen', 'Kecimen', 'Besni', 'Kecimen', 'Kecimen', 'Kecimen',\n",
       "       'Besni', 'Besni', 'Besni', 'Kecimen', 'Kecimen', 'Kecimen',\n",
       "       'Kecimen', 'Besni', 'Besni', 'Besni', 'Kecimen', 'Besni', 'Besni',\n",
       "       'Besni', 'Besni', 'Besni', 'Kecimen', 'Kecimen', 'Besni',\n",
       "       'Kecimen', 'Besni', 'Besni', 'Besni', 'Besni', 'Besni', 'Kecimen',\n",
       "       'Kecimen', 'Besni', 'Besni', 'Kecimen', 'Kecimen', 'Kecimen',\n",
       "       'Besni', 'Kecimen', 'Besni', 'Besni', 'Kecimen', 'Kecimen',\n",
       "       'Besni', 'Besni', 'Besni', 'Kecimen', 'Kecimen', 'Kecimen',\n",
       "       'Kecimen', 'Kecimen', 'Besni', 'Kecimen', 'Kecimen', 'Kecimen',\n",
       "       'Kecimen', 'Besni', 'Kecimen', 'Kecimen', 'Kecimen', 'Kecimen',\n",
       "       'Kecimen', 'Besni', 'Kecimen', 'Kecimen', 'Besni', 'Besni',\n",
       "       'Besni', 'Kecimen', 'Kecimen', 'Besni', 'Besni', 'Kecimen',\n",
       "       'Kecimen', 'Besni', 'Kecimen', 'Besni', 'Kecimen', 'Kecimen',\n",
       "       'Kecimen', 'Kecimen', 'Kecimen', 'Kecimen', 'Kecimen', 'Besni',\n",
       "       'Kecimen', 'Besni', 'Besni', 'Besni', 'Besni', 'Besni', 'Kecimen',\n",
       "       'Besni', 'Kecimen', 'Besni', 'Kecimen', 'Kecimen', 'Besni',\n",
       "       'Kecimen', 'Kecimen', 'Besni', 'Besni', 'Kecimen', 'Besni',\n",
       "       'Besni', 'Besni', 'Kecimen', 'Kecimen', 'Kecimen', 'Besni',\n",
       "       'Kecimen', 'Kecimen', 'Kecimen', 'Kecimen', 'Kecimen', 'Besni',\n",
       "       'Besni', 'Besni', 'Besni'], dtype=object)"
      ]
     },
     "execution_count": 63,
     "metadata": {},
     "output_type": "execute_result"
    }
   ],
   "source": [
    "y_pred = grid_model.predict(X_test_scaled)\n",
    "y_pred"
   ]
  },
  {
   "cell_type": "code",
   "execution_count": 64,
   "id": "1658854d",
   "metadata": {
    "ExecuteTime": {
     "end_time": "2024-02-21T16:42:34.216441Z",
     "start_time": "2024-02-21T16:42:34.042645Z"
    }
   },
   "outputs": [
    {
     "data": {
      "image/png": "[encoded data removed]",
      "text/plain": [
       "<Figure size 1000x600 with 2 Axes>"
      ]
     },
     "metadata": {},
     "output_type": "display_data"
    }
   ],
   "source": [
    "ConfusionMatrixDisplay.from_estimator(grid_model, X_test_scaled, y_test);"
   ]
  },
  {
   "cell_type": "markdown",
   "id": "32dd5292",
   "metadata": {},
   "source": [
    "# Grid_Model Eval Metric"
   ]
  },
  {
   "cell_type": "code",
   "execution_count": 65,
   "id": "2b3f1bae",
   "metadata": {
    "ExecuteTime": {
     "end_time": "2024-02-21T16:42:34.264845Z",
     "start_time": "2024-02-21T16:42:34.217179Z"
    }
   },
   "outputs": [
    {
     "name": "stdout",
     "output_type": "stream",
     "text": [
      "Test_Set\n",
      "[[75 11]\n",
      " [ 8 80]]\n",
      "              precision    recall  f1-score   support\n",
      "\n",
      "       Besni       0.90      0.87      0.89        86\n",
      "     Kecimen       0.88      0.91      0.89        88\n",
      "\n",
      "    accuracy                           0.89       174\n",
      "   macro avg       0.89      0.89      0.89       174\n",
      "weighted avg       0.89      0.89      0.89       174\n",
      "\n",
      "\n",
      "Train_Set\n",
      "[[293  52]\n",
      " [ 42 306]]\n",
      "              precision    recall  f1-score   support\n",
      "\n",
      "       Besni       0.87      0.85      0.86       345\n",
      "     Kecimen       0.85      0.88      0.87       348\n",
      "\n",
      "    accuracy                           0.86       693\n",
      "   macro avg       0.86      0.86      0.86       693\n",
      "weighted avg       0.86      0.86      0.86       693\n",
      "\n"
     ]
    }
   ],
   "source": [
    "eval_metric(grid_model, X_train_scaled, y_train, X_test_scaled, y_test)"
   ]
  },
  {
   "cell_type": "code",
   "execution_count": null,
   "id": "7a6583f8",
   "metadata": {},
   "outputs": [],
   "source": []
  },
  {
   "cell_type": "markdown",
   "id": "9dc6e45b",
   "metadata": {
    "id": "9dc6e45b"
   },
   "source": [
    "## ROC (Receiver Operating Curve) and AUC (Area Under Curve)"
   ]
  },
  {
   "cell_type": "code",
   "execution_count": 66,
   "id": "be988293",
   "metadata": {
    "ExecuteTime": {
     "end_time": "2024-02-21T16:42:34.278668Z",
     "start_time": "2024-02-21T16:42:34.267018Z"
    }
   },
   "outputs": [],
   "source": [
    "from sklearn.metrics import RocCurveDisplay, PrecisionRecallDisplay, precision_recall_curve, roc_auc_score, auc, roc_curve, average_precision_score"
   ]
  },
  {
   "cell_type": "code",
   "execution_count": 67,
   "id": "2d356ca9",
   "metadata": {
    "ExecuteTime": {
     "end_time": "2024-02-21T16:42:34.431418Z",
     "start_time": "2024-02-21T16:42:34.281146Z"
    }
   },
   "outputs": [
    {
     "data": {
      "text/plain": [
       "<sklearn.metrics._plot.roc_curve.RocCurveDisplay at 0x1e0c56ece20>"
      ]
     },
     "execution_count": 67,
     "metadata": {},
     "output_type": "execute_result"
    },
    {
     "data": {
      "image/png": "[encoded data removed]",
      "text/plain": [
       "<Figure size 1000x600 with 1 Axes>"
      ]
     },
     "metadata": {},
     "output_type": "display_data"
    }
   ],
   "source": [
    "RocCurveDisplay.from_estimator(grid_model, X_test_scaled, y_test)"
   ]
  },
  {
   "cell_type": "code",
   "execution_count": 68,
   "id": "34f9525e",
   "metadata": {
    "ExecuteTime": {
     "end_time": "2024-02-21T16:42:34.968230Z",
     "start_time": "2024-02-21T16:42:34.820336Z"
    }
   },
   "outputs": [
    {
     "data": {
      "text/plain": [
       "<sklearn.metrics._plot.precision_recall_curve.PrecisionRecallDisplay at 0x1e0c0b82920>"
      ]
     },
     "execution_count": 68,
     "metadata": {},
     "output_type": "execute_result"
    },
    {
     "data": {
      "image/png": "[encoded data removed]",
      "text/plain": [
       "<Figure size 1000x600 with 1 Axes>"
      ]
     },
     "metadata": {},
     "output_type": "display_data"
    }
   ],
   "source": [
    "PrecisionRecallDisplay.from_estimator(grid_model, X_test_scaled, y_test)"
   ]
  },
  {
   "cell_type": "markdown",
   "id": "a6fc717f",
   "metadata": {},
   "source": [
    "# Finding Best Treshold for max RECALL score"
   ]
  },
  {
   "cell_type": "code",
   "execution_count": 80,
   "id": "a4ba350e",
   "metadata": {
    "ExecuteTime": {
     "end_time": "2024-02-21T16:51:26.208873Z",
     "start_time": "2024-02-21T16:51:26.191108Z"
    }
   },
   "outputs": [
    {
     "data": {
      "text/plain": [
       "0.9231051141096118"
      ]
     },
     "execution_count": 80,
     "metadata": {},
     "output_type": "execute_result"
    }
   ],
   "source": [
    "y_pred_proba = grid_model.predict_proba(X_train_scaled)\n",
    "roc_auc_score(y_train, y_pred_proba[:, 1])"
   ]
  },
  {
   "cell_type": "code",
   "execution_count": 82,
   "id": "a91461fa",
   "metadata": {
    "ExecuteTime": {
     "end_time": "2024-02-21T16:51:36.056541Z",
     "start_time": "2024-02-21T16:51:36.042545Z"
    }
   },
   "outputs": [],
   "source": [
    "from sklearn.preprocessing import LabelBinarizer\n",
    "\n",
    "#Etiketleri ikili forma dönüştürme\n",
    "lb = LabelBinarizer()\n",
    "y_train_binary = lb.fit_transform(y_train)\n",
    "\n",
    "# ROC eğrisi değerlerini hesaplama\n",
    "fp_rate, tp_rate, thresholds = roc_curve(y_train_binary, y_pred_proba[:, 1])"
   ]
  },
  {
   "cell_type": "code",
   "execution_count": 83,
   "id": "34a0bf84",
   "metadata": {
    "ExecuteTime": {
     "end_time": "2024-02-21T16:51:37.050101Z",
     "start_time": "2024-02-21T16:51:37.018967Z"
    }
   },
   "outputs": [
    {
     "data": {
      "text/html": [
       "<div>\n",
       "<style scoped>\n",
       "    .dataframe tbody tr th:only-of-type {\n",
       "        vertical-align: middle;\n",
       "    }\n",
       "\n",
       "    .dataframe tbody tr th {\n",
       "        vertical-align: top;\n",
       "    }\n",
       "\n",
       "    .dataframe thead th {\n",
       "        text-align: right;\n",
       "    }\n",
       "</style>\n",
       "<table border=\"1\" class=\"dataframe\">\n",
       "  <thead>\n",
       "    <tr style=\"text-align: right;\">\n",
       "      <th></th>\n",
       "      <th>0</th>\n",
       "      <th>1</th>\n",
       "      <th>2</th>\n",
       "      <th>3</th>\n",
       "      <th>4</th>\n",
       "      <th>5</th>\n",
       "      <th>6</th>\n",
       "      <th>7</th>\n",
       "      <th>8</th>\n",
       "      <th>9</th>\n",
       "      <th>...</th>\n",
       "      <th>140</th>\n",
       "      <th>141</th>\n",
       "      <th>142</th>\n",
       "      <th>143</th>\n",
       "      <th>144</th>\n",
       "      <th>145</th>\n",
       "      <th>146</th>\n",
       "      <th>147</th>\n",
       "      <th>148</th>\n",
       "      <th>149</th>\n",
       "    </tr>\n",
       "  </thead>\n",
       "  <tbody>\n",
       "    <tr>\n",
       "      <th>0</th>\n",
       "      <td>0.000</td>\n",
       "      <td>0.000</td>\n",
       "      <td>0.000</td>\n",
       "      <td>0.003</td>\n",
       "      <td>0.003</td>\n",
       "      <td>0.006</td>\n",
       "      <td>0.006</td>\n",
       "      <td>0.009</td>\n",
       "      <td>0.009</td>\n",
       "      <td>0.012</td>\n",
       "      <td>...</td>\n",
       "      <td>0.371</td>\n",
       "      <td>0.377</td>\n",
       "      <td>0.377</td>\n",
       "      <td>0.400</td>\n",
       "      <td>0.400</td>\n",
       "      <td>0.507</td>\n",
       "      <td>0.507</td>\n",
       "      <td>0.583</td>\n",
       "      <td>0.583</td>\n",
       "      <td>1.000</td>\n",
       "    </tr>\n",
       "    <tr>\n",
       "      <th>1</th>\n",
       "      <td>0.000</td>\n",
       "      <td>0.003</td>\n",
       "      <td>0.055</td>\n",
       "      <td>0.055</td>\n",
       "      <td>0.078</td>\n",
       "      <td>0.078</td>\n",
       "      <td>0.141</td>\n",
       "      <td>0.141</td>\n",
       "      <td>0.201</td>\n",
       "      <td>0.201</td>\n",
       "      <td>...</td>\n",
       "      <td>0.986</td>\n",
       "      <td>0.986</td>\n",
       "      <td>0.991</td>\n",
       "      <td>0.991</td>\n",
       "      <td>0.994</td>\n",
       "      <td>0.994</td>\n",
       "      <td>0.997</td>\n",
       "      <td>0.997</td>\n",
       "      <td>1.000</td>\n",
       "      <td>1.000</td>\n",
       "    </tr>\n",
       "    <tr>\n",
       "      <th>2</th>\n",
       "      <td>1.997</td>\n",
       "      <td>0.997</td>\n",
       "      <td>0.979</td>\n",
       "      <td>0.979</td>\n",
       "      <td>0.976</td>\n",
       "      <td>0.975</td>\n",
       "      <td>0.959</td>\n",
       "      <td>0.957</td>\n",
       "      <td>0.937</td>\n",
       "      <td>0.936</td>\n",
       "      <td>...</td>\n",
       "      <td>0.222</td>\n",
       "      <td>0.216</td>\n",
       "      <td>0.215</td>\n",
       "      <td>0.201</td>\n",
       "      <td>0.196</td>\n",
       "      <td>0.129</td>\n",
       "      <td>0.128</td>\n",
       "      <td>0.070</td>\n",
       "      <td>0.068</td>\n",
       "      <td>0.000</td>\n",
       "    </tr>\n",
       "  </tbody>\n",
       "</table>\n",
       "<p>3 rows × 150 columns</p>\n",
       "</div>"
      ],
      "text/plain": [
       "    0     1     2     3     4     5     6     7     8     9    ...   140  \\\n",
       "0 0.000 0.000 0.000 0.003 0.003 0.006 0.006 0.009 0.009 0.012  ... 0.371   \n",
       "1 0.000 0.003 0.055 0.055 0.078 0.078 0.141 0.141 0.201 0.201  ... 0.986   \n",
       "2 1.997 0.997 0.979 0.979 0.976 0.975 0.959 0.957 0.937 0.936  ... 0.222   \n",
       "\n",
       "    141   142   143   144   145   146   147   148   149  \n",
       "0 0.377 0.377 0.400 0.400 0.507 0.507 0.583 0.583 1.000  \n",
       "1 0.986 0.991 0.991 0.994 0.994 0.997 0.997 1.000 1.000  \n",
       "2 0.216 0.215 0.201 0.196 0.129 0.128 0.070 0.068 0.000  \n",
       "\n",
       "[3 rows x 150 columns]"
      ]
     },
     "execution_count": 83,
     "metadata": {},
     "output_type": "execute_result"
    }
   ],
   "source": [
    "fp_tp_th = fp_rate, tp_rate, tresholds = roc_curve(y_train_binary, y_pred_proba[:, 1]) \n",
    "df_fp_tp_th = pd.DataFrame(fp_tp_th)\n",
    "df_fp_tp_th"
   ]
  },
  {
   "cell_type": "code",
   "execution_count": 84,
   "id": "bb227b8a",
   "metadata": {
    "ExecuteTime": {
     "end_time": "2024-02-21T16:51:38.290055Z",
     "start_time": "2024-02-21T16:51:38.273667Z"
    }
   },
   "outputs": [
    {
     "data": {
      "text/plain": [
       "0.4956266899816708"
      ]
     },
     "execution_count": 84,
     "metadata": {},
     "output_type": "execute_result"
    }
   ],
   "source": [
    "optimal_idx = np.argmax(tp_rate - fp_rate)\n",
    "optimal_treshold = tresholds[optimal_idx]\n",
    "optimal_treshold"
   ]
  },
  {
   "cell_type": "code",
   "execution_count": 70,
   "id": "292348a8",
   "metadata": {
    "ExecuteTime": {
     "end_time": "2024-02-21T16:42:40.150558Z",
     "start_time": "2024-02-21T16:42:40.024502Z"
    }
   },
   "outputs": [
    {
     "data": {
      "text/plain": [
       "<sklearn.metrics._plot.precision_recall_curve.PrecisionRecallDisplay at 0x1e0c0b834c0>"
      ]
     },
     "execution_count": 70,
     "metadata": {},
     "output_type": "execute_result"
    },
    {
     "data": {
      "image/png": "[encoded data removed]",
      "text/plain": [
       "<Figure size 1000x600 with 1 Axes>"
      ]
     },
     "metadata": {},
     "output_type": "display_data"
    }
   ],
   "source": [
    "PrecisionRecallDisplay.from_estimator(grid_model, X_train_scaled, y_train)"
   ]
  },
  {
   "cell_type": "code",
   "execution_count": 85,
   "id": "24997b8c",
   "metadata": {
    "ExecuteTime": {
     "end_time": "2024-02-21T16:51:42.192345Z",
     "start_time": "2024-02-21T16:51:42.176231Z"
    }
   },
   "outputs": [
    {
     "data": {
      "text/plain": [
       "0.9039865564890206"
      ]
     },
     "execution_count": 85,
     "metadata": {},
     "output_type": "execute_result"
    }
   ],
   "source": [
    "y_pred_proba = grid_model.predict_proba(X_train_scaled)\n",
    "average_precision_score(y_train_binary, y_pred_proba[:, 1])"
   ]
  },
  {
   "cell_type": "code",
   "execution_count": 86,
   "id": "5dc35904",
   "metadata": {
    "ExecuteTime": {
     "end_time": "2024-02-21T16:51:43.537849Z",
     "start_time": "2024-02-21T16:51:43.523217Z"
    }
   },
   "outputs": [],
   "source": [
    "precisions, recalls, thresholds = precision_recall_curve(y_train_binary, y_pred_proba[:, 1])"
   ]
  },
  {
   "cell_type": "code",
   "execution_count": 87,
   "id": "311435f2",
   "metadata": {
    "ExecuteTime": {
     "end_time": "2024-02-21T16:51:44.373299Z",
     "start_time": "2024-02-21T16:51:44.354359Z"
    }
   },
   "outputs": [
    {
     "data": {
      "text/plain": [
       "0.44561995640634994"
      ]
     },
     "execution_count": 87,
     "metadata": {},
     "output_type": "execute_result"
    }
   ],
   "source": [
    "optimal_idx = np.argmax((2 * precisions * recalls) / (precisions + recalls)) #buda formülü aslında f1 skorun formülü\n",
    "optimal_threshold = thresholds[optimal_idx]\n",
    "optimal_threshold"
   ]
  },
  {
   "cell_type": "code",
   "execution_count": 88,
   "id": "35eaf42c",
   "metadata": {
    "ExecuteTime": {
     "end_time": "2024-02-21T16:51:45.479124Z",
     "start_time": "2024-02-21T16:51:45.451501Z"
    },
    "scrolled": true
   },
   "outputs": [
    {
     "name": "stdout",
     "output_type": "stream",
     "text": [
      "[[72 14]\n",
      " [ 6 82]]\n",
      "              precision    recall  f1-score   support\n",
      "\n",
      "       Besni       0.92      0.84      0.88        86\n",
      "     Kecimen       0.85      0.93      0.89        88\n",
      "\n",
      "    accuracy                           0.89       174\n",
      "   macro avg       0.89      0.88      0.88       174\n",
      "weighted avg       0.89      0.89      0.88       174\n",
      "\n"
     ]
    }
   ],
   "source": [
    "y_pred2 = pd.Series(grid_model.predict_proba(X_test_scaled)[:,1]).apply(lambda x : 1 if x >= optimal_threshold else 0)\n",
    "y_pred_categorical = pd.Series(y_pred2).apply(lambda x: 'Besni' if x == 0 else 'Kecimen')\n",
    "\n",
    "# Confusion matrix ve classification report hesaplama\n",
    "print(confusion_matrix(y_test, y_pred_categorical))\n",
    "print(classification_report(y_test, y_pred_categorical))"
   ]
  },
  {
   "cell_type": "code",
   "execution_count": 89,
   "id": "a5e678a5",
   "metadata": {
    "ExecuteTime": {
     "end_time": "2024-02-21T16:51:47.594155Z",
     "start_time": "2024-02-21T16:51:47.586368Z"
    }
   },
   "outputs": [],
   "source": [
    "from sklearn.metrics import confusion_matrix, classification_report"
   ]
  },
  {
   "cell_type": "code",
   "execution_count": 90,
   "id": "2a18e750",
   "metadata": {
    "ExecuteTime": {
     "end_time": "2024-02-21T16:51:48.613501Z",
     "start_time": "2024-02-21T16:51:48.476057Z"
    }
   },
   "outputs": [
    {
     "data": {
      "application/vnd.jupyter.widget-view+json": {
       "model_id": "bbdcbca918404309b0d9eb12657033fa",
       "version_major": 2,
       "version_minor": 0
      },
      "text/plain": [
       "interactive(children=(FloatSlider(value=0.5, description='Threshold', max=1.0, step=0.01), Output()), _dom_cla…"
      ]
     },
     "metadata": {},
     "output_type": "display_data"
    }
   ],
   "source": [
    "from sklearn.model_selection import StratifiedKFold\n",
    "from ipywidgets import interactive, FloatSlider\n",
    "from IPython.display import display\n",
    "\n",
    "from sklearn.preprocessing import LabelBinarizer\n",
    "from IPython.display import display\n",
    "\n",
    "\n",
    "def generate_confusion_matrix(threshold):\n",
    "    y_pred_proba = grid_model.predict_proba(X_test_scaled)\n",
    "    y_pred_binary = (y_pred_proba[:, -1] >= threshold).astype(int)\n",
    "    y_pred_categorical = lb.inverse_transform(y_pred_binary)  # y_pred'i kategorik hale getirme\n",
    "    cm = confusion_matrix(y_test, y_pred_categorical)\n",
    "    # Calculate metrics\n",
    "    precision = precision_score(y_test, y_pred_categorical, average='weighted')  # average='weighted' kullanarak çok sınıflı hedefler için ortalama hassasiyeti alırız\n",
    "    recall = recall_score(y_test, y_pred_categorical, average='weighted')  # average='weighted' kullanarak çok sınıflı hedefler için ortalama geri çağırma alırız\n",
    "    accuracy = accuracy_score(y_test, y_pred_categorical)\n",
    "    f1 = f1_score(y_test, y_pred_categorical, average='weighted')  # average='weighted' kullanarak çok sınıflı hedefler için ortalama F1 skorunu alırız\n",
    "    # Display confusion matrix\n",
    "    plt.figure(figsize=(8, 6))\n",
    "    sns.heatmap(cm, annot=True, fmt='d', cmap='viridis', cbar=False)\n",
    "    plt.xlabel('Predicted')\n",
    "    plt.ylabel('True')\n",
    "    plt.title(f'Confusion Matrix (Threshold = {threshold:.2f})')\n",
    "    # Add text below the graph\n",
    "    plt.text(0.5, -0.20, f'Precision: {precision:.2f}\\nRecall: {recall:.2f}\\nAccuracy: {accuracy:.2f}\\nF1 Score: {f1:.2f}',\n",
    "             horizontalalignment='center', verticalalignment='center', transform=plt.gca().transAxes)\n",
    "    plt.show()\n",
    "\n",
    "# Create interactive slider\n",
    "threshold_slider = FloatSlider(value=0.5, min=0.0, max=1.0, step=0.01, description='Threshold')\n",
    "# Create interactive widget\n",
    "interactive_plot = interactive(generate_confusion_matrix, threshold=threshold_slider)\n",
    "# Display the interactive widget\n",
    "display(interactive_plot)\n"
   ]
  },
  {
   "cell_type": "code",
   "execution_count": 99,
   "id": "26ba474a",
   "metadata": {
    "ExecuteTime": {
     "end_time": "2024-02-21T17:01:01.417773Z",
     "start_time": "2024-02-21T17:01:01.400819Z"
    }
   },
   "outputs": [],
   "source": [
    "from sklearn.model_selection import StratifiedKFold\n",
    "\n",
    "def CV(n, est, X, y, optimal_threshold):\n",
    "    skf = StratifiedKFold(n_splits = n, shuffle = True, random_state = 42)\n",
    "    acc_scores = []\n",
    "    pre_scores = []\n",
    "    rec_scores = []\n",
    "    f1_scores  = []\n",
    "    X = X.reset_index(drop=True)\n",
    "    y = y.reset_index(drop=True)\n",
    "    for train_index, test_index in skf.split(X, y):\n",
    "        X_train = X.loc[train_index]\n",
    "        y_train = y.loc[train_index]\n",
    "        X_test = X.loc[test_index]\n",
    "        y_test = y.loc[test_index]\n",
    "        est = est\n",
    "        est.fit(X_train, y_train)\n",
    "        y_pred = est.predict(X_test)\n",
    "        y_pred_proba = est.predict_proba(X_test)\n",
    "        y_pred2 = pd.Series(y_pred_proba[:,1]).apply(lambda x : 'Kecimen' if x >= optimal_threshold else 'Besni')\n",
    "        acc_scores.append(accuracy_score(y_test, y_pred2))\n",
    "        pre_scores.append(precision_score(y_test, y_pred2, pos_label='Kecimen'))\n",
    "        rec_scores.append(recall_score(y_test, y_pred2, pos_label='Kecimen'))\n",
    "        f1_scores.append(f1_score(y_test, y_pred2, pos_label='Kecimen'))\n",
    "    print(f'Accuracy {np.mean(acc_scores)*100:>10,.2f}%  std {np.std(acc_scores)*100:.2f}%')\n",
    "    print(f'Precision-1 {np.mean(pre_scores)*100:>7,.2f}%  std {np.std(pre_scores)*100:.2f}%')\n",
    "    print(f'Recall-1 {np.mean(rec_scores)*100:>10,.2f}%  std {np.std(rec_scores)*100:.2f}%')\n",
    "    print(f'F1_score-1 {np.mean(f1_scores)*100:>8,.2f}%  std {np.std(f1_scores)*100:.2f}%')"
   ]
  },
  {
   "cell_type": "code",
   "execution_count": 100,
   "id": "bdc8b95f",
   "metadata": {
    "ExecuteTime": {
     "end_time": "2024-02-21T17:01:08.064878Z",
     "start_time": "2024-02-21T17:01:07.955781Z"
    }
   },
   "outputs": [
    {
     "name": "stdout",
     "output_type": "stream",
     "text": [
      "Accuracy      86.73%  std 1.65%\n",
      "Precision-1   83.55%  std 1.96%\n",
      "Recall-1      91.68%  std 1.96%\n",
      "F1_score-1    87.41%  std 1.49%\n"
     ]
    }
   ],
   "source": [
    "model = LogisticRegression(C = 0.1, class_weight = \"balanced\", penalty = \"l2\", solver = \"lbfgs\")\n",
    "CV(10, model, pd.DataFrame(X_train_scaled), y_train, optimal_threshold)"
   ]
  },
  {
   "cell_type": "code",
   "execution_count": null,
   "id": "c05c4f06",
   "metadata": {},
   "outputs": [],
   "source": []
  },
  {
   "cell_type": "code",
   "execution_count": null,
   "id": "2519b16d",
   "metadata": {},
   "outputs": [],
   "source": []
  },
  {
   "cell_type": "markdown",
   "id": "c7f6efd4",
   "metadata": {},
   "source": [
    "# final model\n"
   ]
  },
  {
   "cell_type": "code",
   "execution_count": 185,
   "id": "cdeecfe6",
   "metadata": {
    "ExecuteTime": {
     "end_time": "2024-02-20T17:38:08.191842Z",
     "start_time": "2024-02-20T17:38:08.184795Z"
    }
   },
   "outputs": [],
   "source": [
    "scaler = StandardScaler().fit(X)"
   ]
  },
  {
   "cell_type": "code",
   "execution_count": 188,
   "id": "c5786cb9",
   "metadata": {
    "ExecuteTime": {
     "end_time": "2024-02-20T17:38:57.149448Z",
     "start_time": "2024-02-20T17:38:57.128851Z"
    }
   },
   "outputs": [],
   "source": [
    "import pickle\n",
    "pickle.dump(scaler, open(\"grape_scaler\", \"wb\"))"
   ]
  },
  {
   "cell_type": "code",
   "execution_count": 189,
   "id": "8206e423",
   "metadata": {
    "ExecuteTime": {
     "end_time": "2024-02-20T17:39:12.592616Z",
     "start_time": "2024-02-20T17:39:12.576138Z"
    }
   },
   "outputs": [],
   "source": [
    "X_scaled = scaler.transform(X)"
   ]
  },
  {
   "cell_type": "code",
   "execution_count": 309,
   "id": "e6f4b5f6",
   "metadata": {
    "ExecuteTime": {
     "end_time": "2024-02-20T19:30:11.300477Z",
     "start_time": "2024-02-20T19:30:11.285776Z"
    }
   },
   "outputs": [
    {
     "data": {
      "text/plain": [
       "{'C': 0.1, 'class_weight': 'balanced', 'penalty': 'l2', 'solver': 'lbfgs'}"
      ]
     },
     "execution_count": 309,
     "metadata": {},
     "output_type": "execute_result"
    }
   ],
   "source": [
    "grid_model.best_params_"
   ]
  },
  {
   "cell_type": "code",
   "execution_count": 310,
   "id": "5a3edf3c",
   "metadata": {
    "ExecuteTime": {
     "end_time": "2024-02-20T19:30:16.233723Z",
     "start_time": "2024-02-20T19:30:16.213732Z"
    }
   },
   "outputs": [],
   "source": [
    "final_model = LogisticRegression(C=0.1, penalty = \"l2\", class_weight= 'balanced', solver='lbfgs').fit(X_scaled, y)"
   ]
  },
  {
   "cell_type": "code",
   "execution_count": 311,
   "id": "8f0a5a9b",
   "metadata": {
    "ExecuteTime": {
     "end_time": "2024-02-20T19:30:18.465861Z",
     "start_time": "2024-02-20T19:30:18.453380Z"
    }
   },
   "outputs": [],
   "source": [
    "pickle.dump(final_model, open(\"final_model_grape\", \"wb\"))"
   ]
  },
  {
   "cell_type": "markdown",
   "id": "2291dd8a",
   "metadata": {},
   "source": [
    "# New data"
   ]
  },
  {
   "cell_type": "code",
   "execution_count": 312,
   "id": "04d91476",
   "metadata": {
    "ExecuteTime": {
     "end_time": "2024-02-20T19:30:23.021137Z",
     "start_time": "2024-02-20T19:30:22.992009Z"
    }
   },
   "outputs": [
    {
     "data": {
      "text/html": [
       "<div>\n",
       "<style scoped>\n",
       "    .dataframe tbody tr th:only-of-type {\n",
       "        vertical-align: middle;\n",
       "    }\n",
       "\n",
       "    .dataframe tbody tr th {\n",
       "        vertical-align: top;\n",
       "    }\n",
       "\n",
       "    .dataframe thead th {\n",
       "        text-align: right;\n",
       "    }\n",
       "</style>\n",
       "<table border=\"1\" class=\"dataframe\">\n",
       "  <thead>\n",
       "    <tr style=\"text-align: right;\">\n",
       "      <th></th>\n",
       "      <th>count</th>\n",
       "      <th>mean</th>\n",
       "      <th>std</th>\n",
       "      <th>min</th>\n",
       "      <th>25%</th>\n",
       "      <th>50%</th>\n",
       "      <th>75%</th>\n",
       "      <th>max</th>\n",
       "    </tr>\n",
       "  </thead>\n",
       "  <tbody>\n",
       "    <tr>\n",
       "      <th>Area</th>\n",
       "      <td>867.000</td>\n",
       "      <td>86628.228</td>\n",
       "      <td>36995.896</td>\n",
       "      <td>25387.000</td>\n",
       "      <td>59486.500</td>\n",
       "      <td>78352.000</td>\n",
       "      <td>104368.500</td>\n",
       "      <td>208264.000</td>\n",
       "    </tr>\n",
       "    <tr>\n",
       "      <th>MajorAxisLength</th>\n",
       "      <td>867.000</td>\n",
       "      <td>426.955</td>\n",
       "      <td>106.996</td>\n",
       "      <td>225.630</td>\n",
       "      <td>346.000</td>\n",
       "      <td>406.691</td>\n",
       "      <td>487.953</td>\n",
       "      <td>769.425</td>\n",
       "    </tr>\n",
       "    <tr>\n",
       "      <th>MinorAxisLength</th>\n",
       "      <td>867.000</td>\n",
       "      <td>253.238</td>\n",
       "      <td>48.208</td>\n",
       "      <td>143.711</td>\n",
       "      <td>218.617</td>\n",
       "      <td>247.690</td>\n",
       "      <td>278.303</td>\n",
       "      <td>414.188</td>\n",
       "    </tr>\n",
       "    <tr>\n",
       "      <th>Eccentricity</th>\n",
       "      <td>867.000</td>\n",
       "      <td>0.784</td>\n",
       "      <td>0.081</td>\n",
       "      <td>0.501</td>\n",
       "      <td>0.743</td>\n",
       "      <td>0.798</td>\n",
       "      <td>0.841</td>\n",
       "      <td>0.928</td>\n",
       "    </tr>\n",
       "    <tr>\n",
       "      <th>ConvexArea</th>\n",
       "      <td>867.000</td>\n",
       "      <td>89706.547</td>\n",
       "      <td>37949.966</td>\n",
       "      <td>26139.000</td>\n",
       "      <td>61614.000</td>\n",
       "      <td>81325.000</td>\n",
       "      <td>107987.500</td>\n",
       "      <td>212813.000</td>\n",
       "    </tr>\n",
       "    <tr>\n",
       "      <th>Extent</th>\n",
       "      <td>867.000</td>\n",
       "      <td>0.702</td>\n",
       "      <td>0.046</td>\n",
       "      <td>0.553</td>\n",
       "      <td>0.673</td>\n",
       "      <td>0.707</td>\n",
       "      <td>0.734</td>\n",
       "      <td>0.817</td>\n",
       "    </tr>\n",
       "    <tr>\n",
       "      <th>Perimeter</th>\n",
       "      <td>867.000</td>\n",
       "      <td>1155.238</td>\n",
       "      <td>250.505</td>\n",
       "      <td>619.074</td>\n",
       "      <td>966.626</td>\n",
       "      <td>1114.736</td>\n",
       "      <td>1298.163</td>\n",
       "      <td>1893.414</td>\n",
       "    </tr>\n",
       "  </tbody>\n",
       "</table>\n",
       "</div>"
      ],
      "text/plain": [
       "                  count      mean       std       min       25%       50%  \\\n",
       "Area            867.000 86628.228 36995.896 25387.000 59486.500 78352.000   \n",
       "MajorAxisLength 867.000   426.955   106.996   225.630   346.000   406.691   \n",
       "MinorAxisLength 867.000   253.238    48.208   143.711   218.617   247.690   \n",
       "Eccentricity    867.000     0.784     0.081     0.501     0.743     0.798   \n",
       "ConvexArea      867.000 89706.547 37949.966 26139.000 61614.000 81325.000   \n",
       "Extent          867.000     0.702     0.046     0.553     0.673     0.707   \n",
       "Perimeter       867.000  1155.238   250.505   619.074   966.626  1114.736   \n",
       "\n",
       "                       75%        max  \n",
       "Area            104368.500 208264.000  \n",
       "MajorAxisLength    487.953    769.425  \n",
       "MinorAxisLength    278.303    414.188  \n",
       "Eccentricity         0.841      0.928  \n",
       "ConvexArea      107987.500 212813.000  \n",
       "Extent               0.734      0.817  \n",
       "Perimeter         1298.163   1893.414  "
      ]
     },
     "execution_count": 312,
     "metadata": {},
     "output_type": "execute_result"
    }
   ],
   "source": [
    "X.describe().T"
   ]
  },
  {
   "cell_type": "code",
   "execution_count": 313,
   "id": "a867a0aa",
   "metadata": {
    "ExecuteTime": {
     "end_time": "2024-02-20T19:30:26.677038Z",
     "start_time": "2024-02-20T19:30:26.670363Z"
    }
   },
   "outputs": [],
   "source": [
    "my_dict = {\"Area\": [40340,78352, 178352],\n",
    "           \"MajorAxisLength\": [250, 406, 600],\n",
    "           \"MinorAxisLength\": [200, 240, 300],\n",
    "           \"Eccentricity\": [0.6, 0.7, 0.8],\n",
    "            \"ConvexArea\": [60000, 80000, 100000],\n",
    "           \"Extent\": [0.65, 0.70, 0.75],\n",
    "           \"Perimeter\": [800, 900, 1200]\n",
    "            }"
   ]
  },
  {
   "cell_type": "code",
   "execution_count": 314,
   "id": "7ed14a60",
   "metadata": {
    "ExecuteTime": {
     "end_time": "2024-02-20T19:30:27.377190Z",
     "start_time": "2024-02-20T19:30:27.357624Z"
    },
    "scrolled": true
   },
   "outputs": [
    {
     "data": {
      "text/html": [
       "<div>\n",
       "<style scoped>\n",
       "    .dataframe tbody tr th:only-of-type {\n",
       "        vertical-align: middle;\n",
       "    }\n",
       "\n",
       "    .dataframe tbody tr th {\n",
       "        vertical-align: top;\n",
       "    }\n",
       "\n",
       "    .dataframe thead th {\n",
       "        text-align: right;\n",
       "    }\n",
       "</style>\n",
       "<table border=\"1\" class=\"dataframe\">\n",
       "  <thead>\n",
       "    <tr style=\"text-align: right;\">\n",
       "      <th></th>\n",
       "      <th>Area</th>\n",
       "      <th>MajorAxisLength</th>\n",
       "      <th>MinorAxisLength</th>\n",
       "      <th>Eccentricity</th>\n",
       "      <th>ConvexArea</th>\n",
       "      <th>Extent</th>\n",
       "      <th>Perimeter</th>\n",
       "    </tr>\n",
       "  </thead>\n",
       "  <tbody>\n",
       "    <tr>\n",
       "      <th>0</th>\n",
       "      <td>40340</td>\n",
       "      <td>250</td>\n",
       "      <td>200</td>\n",
       "      <td>0.600</td>\n",
       "      <td>60000</td>\n",
       "      <td>0.650</td>\n",
       "      <td>800</td>\n",
       "    </tr>\n",
       "    <tr>\n",
       "      <th>1</th>\n",
       "      <td>78352</td>\n",
       "      <td>406</td>\n",
       "      <td>240</td>\n",
       "      <td>0.700</td>\n",
       "      <td>80000</td>\n",
       "      <td>0.700</td>\n",
       "      <td>900</td>\n",
       "    </tr>\n",
       "    <tr>\n",
       "      <th>2</th>\n",
       "      <td>178352</td>\n",
       "      <td>600</td>\n",
       "      <td>300</td>\n",
       "      <td>0.800</td>\n",
       "      <td>100000</td>\n",
       "      <td>0.750</td>\n",
       "      <td>1200</td>\n",
       "    </tr>\n",
       "  </tbody>\n",
       "</table>\n",
       "</div>"
      ],
      "text/plain": [
       "     Area  MajorAxisLength  MinorAxisLength  Eccentricity  ConvexArea  Extent  \\\n",
       "0   40340              250              200         0.600       60000   0.650   \n",
       "1   78352              406              240         0.700       80000   0.700   \n",
       "2  178352              600              300         0.800      100000   0.750   \n",
       "\n",
       "   Perimeter  \n",
       "0        800  \n",
       "1        900  \n",
       "2       1200  "
      ]
     },
     "execution_count": 314,
     "metadata": {},
     "output_type": "execute_result"
    }
   ],
   "source": [
    "sample = pd.DataFrame(my_dict)\n",
    "sample"
   ]
  },
  {
   "cell_type": "code",
   "execution_count": 315,
   "id": "67c942bf",
   "metadata": {
    "ExecuteTime": {
     "end_time": "2024-02-20T19:30:28.988698Z",
     "start_time": "2024-02-20T19:30:28.981726Z"
    }
   },
   "outputs": [],
   "source": [
    "scaler_grape = pickle.load(open(\"grape_scaler\", \"rb\"))"
   ]
  },
  {
   "cell_type": "code",
   "execution_count": 316,
   "id": "cef27ca0",
   "metadata": {
    "ExecuteTime": {
     "end_time": "2024-02-20T19:30:29.734511Z",
     "start_time": "2024-02-20T19:30:29.717750Z"
    }
   },
   "outputs": [],
   "source": [
    "sample_scaled = scaler_grape.transform(sample)"
   ]
  },
  {
   "cell_type": "code",
   "execution_count": 320,
   "id": "60eb46d8",
   "metadata": {
    "ExecuteTime": {
     "end_time": "2024-02-20T19:34:34.563534Z",
     "start_time": "2024-02-20T19:34:34.548451Z"
    }
   },
   "outputs": [
    {
     "data": {
      "text/plain": [
       "array([[-1.25189415, -1.65480113, -1.10498682, -2.27290946, -0.78323373,\n",
       "        -1.11679275, -1.41890506],\n",
       "       [-0.22383578, -0.19595789, -0.27476633, -1.03661559, -0.25591984,\n",
       "        -0.03499582, -1.01948141],\n",
       "       [ 2.48072691,  1.61824459,  0.97056441,  0.19967829,  0.27139404,\n",
       "         1.04680111,  0.17878955]])"
      ]
     },
     "execution_count": 320,
     "metadata": {},
     "output_type": "execute_result"
    }
   ],
   "source": [
    "sample_scaled"
   ]
  },
  {
   "cell_type": "markdown",
   "id": "dfe89af9",
   "metadata": {},
   "source": [
    "# Kaydettiğini modeli çağır ve yeni gözlemi predict yap"
   ]
  },
  {
   "cell_type": "code",
   "execution_count": 317,
   "id": "ff0ce86c",
   "metadata": {
    "ExecuteTime": {
     "end_time": "2024-02-20T19:30:32.701955Z",
     "start_time": "2024-02-20T19:30:32.685470Z"
    }
   },
   "outputs": [],
   "source": [
    "final_model = pickle.load(open(\"final_model_grape\", \"rb\"))"
   ]
  },
  {
   "cell_type": "code",
   "execution_count": 321,
   "id": "2722eb88",
   "metadata": {
    "ExecuteTime": {
     "end_time": "2024-02-20T19:39:20.958960Z",
     "start_time": "2024-02-20T19:39:20.947536Z"
    }
   },
   "outputs": [],
   "source": [
    "predictions = final_model.predict(sample_scaled)\n",
    "predictions_proba = final_model.predict_proba(sample_scaled)\n",
    "#prediction2 = [1 if i>= optimal_treshold else 0 for i in predictions_proba[:,1]]\n"
   ]
  },
  {
   "cell_type": "code",
   "execution_count": 323,
   "id": "82301b55",
   "metadata": {
    "ExecuteTime": {
     "end_time": "2024-02-20T19:41:32.888753Z",
     "start_time": "2024-02-20T19:41:32.868735Z"
    }
   },
   "outputs": [
    {
     "data": {
      "text/html": [
       "<div>\n",
       "<style scoped>\n",
       "    .dataframe tbody tr th:only-of-type {\n",
       "        vertical-align: middle;\n",
       "    }\n",
       "\n",
       "    .dataframe tbody tr th {\n",
       "        vertical-align: top;\n",
       "    }\n",
       "\n",
       "    .dataframe thead th {\n",
       "        text-align: right;\n",
       "    }\n",
       "</style>\n",
       "<table border=\"1\" class=\"dataframe\">\n",
       "  <thead>\n",
       "    <tr style=\"text-align: right;\">\n",
       "      <th></th>\n",
       "      <th>Area</th>\n",
       "      <th>MajorAxisLength</th>\n",
       "      <th>MinorAxisLength</th>\n",
       "      <th>Eccentricity</th>\n",
       "      <th>ConvexArea</th>\n",
       "      <th>Extent</th>\n",
       "      <th>Perimeter</th>\n",
       "      <th>pred</th>\n",
       "      <th>pred_proba_kecimen</th>\n",
       "      <th>pred_proba_besni</th>\n",
       "      <th>pred_proba</th>\n",
       "      <th>pred_0.48</th>\n",
       "    </tr>\n",
       "  </thead>\n",
       "  <tbody>\n",
       "    <tr>\n",
       "      <th>0</th>\n",
       "      <td>40340</td>\n",
       "      <td>250</td>\n",
       "      <td>200</td>\n",
       "      <td>0.600</td>\n",
       "      <td>60000</td>\n",
       "      <td>0.650</td>\n",
       "      <td>800</td>\n",
       "      <td>Kecimen</td>\n",
       "      <td>0.020</td>\n",
       "      <td>0.980</td>\n",
       "      <td>0.980</td>\n",
       "      <td>1</td>\n",
       "    </tr>\n",
       "    <tr>\n",
       "      <th>1</th>\n",
       "      <td>78352</td>\n",
       "      <td>406</td>\n",
       "      <td>240</td>\n",
       "      <td>0.700</td>\n",
       "      <td>80000</td>\n",
       "      <td>0.700</td>\n",
       "      <td>900</td>\n",
       "      <td>Kecimen</td>\n",
       "      <td>0.178</td>\n",
       "      <td>0.822</td>\n",
       "      <td>0.822</td>\n",
       "      <td>1</td>\n",
       "    </tr>\n",
       "    <tr>\n",
       "      <th>2</th>\n",
       "      <td>178352</td>\n",
       "      <td>600</td>\n",
       "      <td>300</td>\n",
       "      <td>0.800</td>\n",
       "      <td>100000</td>\n",
       "      <td>0.750</td>\n",
       "      <td>1200</td>\n",
       "      <td>Besni</td>\n",
       "      <td>0.933</td>\n",
       "      <td>0.067</td>\n",
       "      <td>0.067</td>\n",
       "      <td>0</td>\n",
       "    </tr>\n",
       "  </tbody>\n",
       "</table>\n",
       "</div>"
      ],
      "text/plain": [
       "     Area  MajorAxisLength  MinorAxisLength  Eccentricity  ConvexArea  Extent  \\\n",
       "0   40340              250              200         0.600       60000   0.650   \n",
       "1   78352              406              240         0.700       80000   0.700   \n",
       "2  178352              600              300         0.800      100000   0.750   \n",
       "\n",
       "   Perimeter     pred  pred_proba_kecimen  pred_proba_besni  pred_proba  \\\n",
       "0        800  Kecimen               0.020             0.980       0.980   \n",
       "1        900  Kecimen               0.178             0.822       0.822   \n",
       "2       1200    Besni               0.933             0.067       0.067   \n",
       "\n",
       "   pred_0.48  \n",
       "0          1  \n",
       "1          1  \n",
       "2          0  "
      ]
     },
     "execution_count": 323,
     "metadata": {},
     "output_type": "execute_result"
    }
   ],
   "source": [
    "#sample['pred_proba'] = predictions_proba[:,1]\n",
    "#sample[\"pred\"] = predictions\n",
    "#sample[\"pred_0.48\"] = prediction2\n",
    "#sample"
   ]
  },
  {
   "cell_type": "code",
   "execution_count": 319,
   "id": "74198899",
   "metadata": {
    "ExecuteTime": {
     "end_time": "2024-02-20T19:30:33.902515Z",
     "start_time": "2024-02-20T19:30:33.885954Z"
    }
   },
   "outputs": [
    {
     "data": {
      "text/html": [
       "<div>\n",
       "<style scoped>\n",
       "    .dataframe tbody tr th:only-of-type {\n",
       "        vertical-align: middle;\n",
       "    }\n",
       "\n",
       "    .dataframe tbody tr th {\n",
       "        vertical-align: top;\n",
       "    }\n",
       "\n",
       "    .dataframe thead th {\n",
       "        text-align: right;\n",
       "    }\n",
       "</style>\n",
       "<table border=\"1\" class=\"dataframe\">\n",
       "  <thead>\n",
       "    <tr style=\"text-align: right;\">\n",
       "      <th></th>\n",
       "      <th>Area</th>\n",
       "      <th>MajorAxisLength</th>\n",
       "      <th>MinorAxisLength</th>\n",
       "      <th>Eccentricity</th>\n",
       "      <th>ConvexArea</th>\n",
       "      <th>Extent</th>\n",
       "      <th>Perimeter</th>\n",
       "      <th>pred</th>\n",
       "      <th>pred_proba_kecimen</th>\n",
       "      <th>pred_proba_besni</th>\n",
       "    </tr>\n",
       "  </thead>\n",
       "  <tbody>\n",
       "    <tr>\n",
       "      <th>0</th>\n",
       "      <td>40340</td>\n",
       "      <td>250</td>\n",
       "      <td>200</td>\n",
       "      <td>0.600</td>\n",
       "      <td>60000</td>\n",
       "      <td>0.650</td>\n",
       "      <td>800</td>\n",
       "      <td>Kecimen</td>\n",
       "      <td>0.020</td>\n",
       "      <td>0.980</td>\n",
       "    </tr>\n",
       "    <tr>\n",
       "      <th>1</th>\n",
       "      <td>78352</td>\n",
       "      <td>406</td>\n",
       "      <td>240</td>\n",
       "      <td>0.700</td>\n",
       "      <td>80000</td>\n",
       "      <td>0.700</td>\n",
       "      <td>900</td>\n",
       "      <td>Kecimen</td>\n",
       "      <td>0.178</td>\n",
       "      <td>0.822</td>\n",
       "    </tr>\n",
       "    <tr>\n",
       "      <th>2</th>\n",
       "      <td>178352</td>\n",
       "      <td>600</td>\n",
       "      <td>300</td>\n",
       "      <td>0.800</td>\n",
       "      <td>100000</td>\n",
       "      <td>0.750</td>\n",
       "      <td>1200</td>\n",
       "      <td>Besni</td>\n",
       "      <td>0.933</td>\n",
       "      <td>0.067</td>\n",
       "    </tr>\n",
       "  </tbody>\n",
       "</table>\n",
       "</div>"
      ],
      "text/plain": [
       "     Area  MajorAxisLength  MinorAxisLength  Eccentricity  ConvexArea  Extent  \\\n",
       "0   40340              250              200         0.600       60000   0.650   \n",
       "1   78352              406              240         0.700       80000   0.700   \n",
       "2  178352              600              300         0.800      100000   0.750   \n",
       "\n",
       "   Perimeter     pred  pred_proba_kecimen  pred_proba_besni  \n",
       "0        800  Kecimen               0.020             0.980  \n",
       "1        900  Kecimen               0.178             0.822  \n",
       "2       1200    Besni               0.933             0.067  "
      ]
     },
     "execution_count": 319,
     "metadata": {},
     "output_type": "execute_result"
    }
   ],
   "source": [
    "sample[\"pred\"] = predictions\n",
    "sample[\"pred_proba_kecimen\"] = predictions_proba[:,0]\n",
    "sample[\"pred_proba_besni\"] = predictions_proba[:,1]\n",
    "sample"
   ]
  },
  {
   "cell_type": "code",
   "execution_count": null,
   "id": "d1b350d5",
   "metadata": {},
   "outputs": [],
   "source": []
  },
  {
   "cell_type": "code",
   "execution_count": null,
   "id": "ed3af10e",
   "metadata": {},
   "outputs": [],
   "source": []
  },
  {
   "cell_type": "markdown",
   "id": "8373bd76",
   "metadata": {
    "id": "8373bd76"
   },
   "source": [
    "# Conclusion "
   ]
  },
  {
   "cell_type": "raw",
   "id": "2774b187",
   "metadata": {
    "id": "aae17dd9"
   },
   "source": []
  },
  {
   "attachments": {
    "Screenshot%202024-02-21%20180625.png": {
     "image/png": "[encoded data removed]"
    }
   },
   "cell_type": "markdown",
   "id": "a2bfabe4",
   "metadata": {},
   "source": [
    "![Screenshot%202024-02-21%20180625.png](attachment:Screenshot%202024-02-21%20180625.png)"
   ]
  },
  {
   "attachments": {
    "Screenshot%202024-02-21%20180655.png": {
     "image/png": "[encoded data removed]"
    }
   },
   "cell_type": "markdown",
   "id": "e8e4856c",
   "metadata": {},
   "source": [
    "![Screenshot%202024-02-21%20180655.png](attachment:Screenshot%202024-02-21%20180655.png)"
   ]
  },
  {
   "attachments": {
    "Screenshot%202024-02-21%20180732.png": {
     "image/png": "[encoded data removed]"
    }
   },
   "cell_type": "markdown",
   "id": "aa40d931",
   "metadata": {},
   "source": [
    "![Screenshot%202024-02-21%20180732.png](attachment:Screenshot%202024-02-21%20180732.png)"
   ]
  },
  {
   "cell_type": "code",
   "execution_count": null,
   "id": "ed3d207e",
   "metadata": {},
   "outputs": [],
   "source": []
  }
 ],
 "metadata": {
  "colab": {
   "collapsed_sections": [],
   "name": "Case Study_2_solution-.ipynb",
   "provenance": []
  },
  "hide_input": false,
  "interpreter": {
   "hash": "b91502e98c93ec413571a3c4a71c4e7e2f090119475bdef759aa0802c5125d05"
  },
  "kernelspec": {
   "display_name": "Python 3 (ipykernel)",
   "language": "python",
   "name": "python3"
  },
  "language_info": {
   "codemirror_mode": {
    "name": "ipython",
    "version": 3
   },
   "file_extension": ".py",
   "mimetype": "text/x-python",
   "name": "python",
   "nbconvert_exporter": "python",
   "pygments_lexer": "ipython3",
   "version": "3.10.13"
  },
  "toc": {
   "base_numbering": 1,
   "nav_menu": {},
   "number_sections": true,
   "sideBar": true,
   "skip_h1_title": false,
   "title_cell": "Table of Contents",
   "title_sidebar": "Contents",
   "toc_cell": false,
   "toc_position": {
    "height": "calc(100% - 180px)",
    "left": "10px",
    "top": "150px",
    "width": "165px"
   },
   "toc_section_display": true,
   "toc_window_display": true
  },
  "varInspector": {
   "cols": {
    "lenName": 16,
    "lenType": 16,
    "lenVar": 40
   },
   "kernels_config": {
    "python": {
     "delete_cmd_postfix": "",
     "delete_cmd_prefix": "del ",
     "library": "var_list.py",
     "varRefreshCmd": "print(var_dic_list())"
    },
    "r": {
     "delete_cmd_postfix": ") ",
     "delete_cmd_prefix": "rm(",
     "library": "var_list.r",
     "varRefreshCmd": "cat(var_dic_list()) "
    }
   },
   "types_to_exclude": [
    "module",
    "function",
    "builtin_function_or_method",
    "instance",
    "_Feature"
   ],
   "window_display": false
  }
 },
 "nbformat": 4,
 "nbformat_minor": 5
}
