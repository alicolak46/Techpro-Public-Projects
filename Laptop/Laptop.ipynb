{
 "cells": [
  {
   "cell_type": "code",
   "execution_count": 289,
   "id": "c0aa441f",
   "metadata": {
    "ExecuteTime": {
     "end_time": "2024-01-24T13:47:04.462247Z",
     "start_time": "2024-01-24T13:47:04.431359Z"
    }
   },
   "outputs": [],
   "source": [
    "import numpy as np\n",
    "import pandas as pd\n",
    "import matplotlib as mpl\n",
    "import matplotlib.pyplot as plt\n",
    "import seaborn as sns\n",
    "\n",
    "import warnings\n",
    "warnings.filterwarnings(\"ignore\")"
   ]
  },
  {
   "cell_type": "code",
   "execution_count": 290,
   "id": "818411cb",
   "metadata": {
    "ExecuteTime": {
     "end_time": "2024-01-24T13:47:07.116317Z",
     "start_time": "2024-01-24T13:47:07.046598Z"
    }
   },
   "outputs": [
    {
     "data": {
      "text/html": [
       "<div>\n",
       "<style scoped>\n",
       "    .dataframe tbody tr th:only-of-type {\n",
       "        vertical-align: middle;\n",
       "    }\n",
       "\n",
       "    .dataframe tbody tr th {\n",
       "        vertical-align: top;\n",
       "    }\n",
       "\n",
       "    .dataframe thead th {\n",
       "        text-align: right;\n",
       "    }\n",
       "</style>\n",
       "<table border=\"1\" class=\"dataframe\">\n",
       "  <thead>\n",
       "    <tr style=\"text-align: right;\">\n",
       "      <th></th>\n",
       "      <th>Unnamed: 0</th>\n",
       "      <th>productType</th>\n",
       "      <th>productLink</th>\n",
       "      <th>productPrice</th>\n",
       "      <th>productInfo</th>\n",
       "      <th>productName</th>\n",
       "    </tr>\n",
       "  </thead>\n",
       "  <tbody>\n",
       "    <tr>\n",
       "      <th>0</th>\n",
       "      <td>0</td>\n",
       "      <td>HP</td>\n",
       "      <td>https://www.trendyol.com//hp/250-g8-core-i5-11...</td>\n",
       "      <td>10.999 TL</td>\n",
       "      <td>250 G8/Core I5-1135G7 İşlemci/ 8GB Ram/ 256GB ...</td>\n",
       "      <td>Laptop</td>\n",
       "    </tr>\n",
       "    <tr>\n",
       "      <th>1</th>\n",
       "      <td>1</td>\n",
       "      <td>Casper</td>\n",
       "      <td>https://www.trendyol.com//casper/nirvana-x600-...</td>\n",
       "      <td>12.599 TL</td>\n",
       "      <td>Nirvana X600.139H-DF00X-G-F Intel Core i7-113...</td>\n",
       "      <td>Laptop</td>\n",
       "    </tr>\n",
       "    <tr>\n",
       "      <th>2</th>\n",
       "      <td>2</td>\n",
       "      <td>Dell</td>\n",
       "      <td>https://www.trendyol.com//dell/vostro-3520-i5-...</td>\n",
       "      <td>33.999 TL</td>\n",
       "      <td>Vostro 3520 I5-1135G7 8 GB 256 GB SSD 15.6\" Fh...</td>\n",
       "      <td>Laptop</td>\n",
       "    </tr>\n",
       "    <tr>\n",
       "      <th>3</th>\n",
       "      <td>3</td>\n",
       "      <td>Casper</td>\n",
       "      <td>https://www.trendyol.com//casper/excalibur-g87...</td>\n",
       "      <td>16.299 TL</td>\n",
       "      <td>Excalibur G870.1265-DFA0X-B Intel Core i7-1265...</td>\n",
       "      <td>Laptop</td>\n",
       "    </tr>\n",
       "    <tr>\n",
       "      <th>4</th>\n",
       "      <td>4</td>\n",
       "      <td>Casper</td>\n",
       "      <td>https://www.trendyol.com//casper/nirvana-c370-...</td>\n",
       "      <td>6.999 TL</td>\n",
       "      <td>Nirvana C370.4020-4C00B Intel Celeron N4020 4G...</td>\n",
       "      <td>Laptop</td>\n",
       "    </tr>\n",
       "    <tr>\n",
       "      <th>...</th>\n",
       "      <td>...</td>\n",
       "      <td>...</td>\n",
       "      <td>...</td>\n",
       "      <td>...</td>\n",
       "      <td>...</td>\n",
       "      <td>...</td>\n",
       "    </tr>\n",
       "    <tr>\n",
       "      <th>4936</th>\n",
       "      <td>30435</td>\n",
       "      <td>Casper</td>\n",
       "      <td>https://www.trendyol.com//casper/excalibur-g87...</td>\n",
       "      <td>16.299 TL</td>\n",
       "      <td>Nirvana X600.139H-DF00X-G-F Intel Core i7-113...</td>\n",
       "      <td>Laptop</td>\n",
       "    </tr>\n",
       "    <tr>\n",
       "      <th>4937</th>\n",
       "      <td>30447</td>\n",
       "      <td>Casper</td>\n",
       "      <td>https://www.trendyol.com//gigabyte/g5-mf-i5-12...</td>\n",
       "      <td>17.275 TL</td>\n",
       "      <td>IdeaPad 1 15ALC7 82R400F1TR R7-5700U 8GB 256GB...</td>\n",
       "      <td>Laptop</td>\n",
       "    </tr>\n",
       "    <tr>\n",
       "      <th>4938</th>\n",
       "      <td>31059</td>\n",
       "      <td>Casper</td>\n",
       "      <td>https://www.trendyol.com//casper/excalibur-g87...</td>\n",
       "      <td>16.299 TL</td>\n",
       "      <td>Nirvana X600.139H-DF00X-G-F Intel Core i7-113...</td>\n",
       "      <td>Laptop</td>\n",
       "    </tr>\n",
       "    <tr>\n",
       "      <th>4939</th>\n",
       "      <td>31071</td>\n",
       "      <td>Casper</td>\n",
       "      <td>https://www.trendyol.com//gigabyte/g5-mf-i5-12...</td>\n",
       "      <td>17.275 TL</td>\n",
       "      <td>IdeaPad 1 15ALC7 82R400F1TR R7-5700U 8GB 256GB...</td>\n",
       "      <td>Laptop</td>\n",
       "    </tr>\n",
       "    <tr>\n",
       "      <th>4940</th>\n",
       "      <td>31815</td>\n",
       "      <td>Casper</td>\n",
       "      <td>https://www.trendyol.com//gigabyte/g5-mf-i5-12...</td>\n",
       "      <td>17.275 TL</td>\n",
       "      <td>IdeaPad 1 15ALC7 82R400F1TR R7-5700U 8GB 256GB...</td>\n",
       "      <td>Laptop</td>\n",
       "    </tr>\n",
       "  </tbody>\n",
       "</table>\n",
       "<p>4941 rows × 6 columns</p>\n",
       "</div>"
      ],
      "text/plain": [
       "      Unnamed: 0 productType  \\\n",
       "0              0          HP   \n",
       "1              1      Casper   \n",
       "2              2        Dell   \n",
       "3              3      Casper   \n",
       "4              4      Casper   \n",
       "...          ...         ...   \n",
       "4936       30435      Casper   \n",
       "4937       30447      Casper   \n",
       "4938       31059      Casper   \n",
       "4939       31071      Casper   \n",
       "4940       31815      Casper   \n",
       "\n",
       "                                            productLink productPrice  \\\n",
       "0     https://www.trendyol.com//hp/250-g8-core-i5-11...    10.999 TL   \n",
       "1     https://www.trendyol.com//casper/nirvana-x600-...    12.599 TL   \n",
       "2     https://www.trendyol.com//dell/vostro-3520-i5-...    33.999 TL   \n",
       "3     https://www.trendyol.com//casper/excalibur-g87...    16.299 TL   \n",
       "4     https://www.trendyol.com//casper/nirvana-c370-...     6.999 TL   \n",
       "...                                                 ...          ...   \n",
       "4936  https://www.trendyol.com//casper/excalibur-g87...    16.299 TL   \n",
       "4937  https://www.trendyol.com//gigabyte/g5-mf-i5-12...    17.275 TL   \n",
       "4938  https://www.trendyol.com//casper/excalibur-g87...    16.299 TL   \n",
       "4939  https://www.trendyol.com//gigabyte/g5-mf-i5-12...    17.275 TL   \n",
       "4940  https://www.trendyol.com//gigabyte/g5-mf-i5-12...    17.275 TL   \n",
       "\n",
       "                                            productInfo productName  \n",
       "0     250 G8/Core I5-1135G7 İşlemci/ 8GB Ram/ 256GB ...      Laptop  \n",
       "1      Nirvana X600.139H-DF00X-G-F Intel Core i7-113...      Laptop  \n",
       "2     Vostro 3520 I5-1135G7 8 GB 256 GB SSD 15.6\" Fh...      Laptop  \n",
       "3     Excalibur G870.1265-DFA0X-B Intel Core i7-1265...      Laptop  \n",
       "4     Nirvana C370.4020-4C00B Intel Celeron N4020 4G...      Laptop  \n",
       "...                                                 ...         ...  \n",
       "4936   Nirvana X600.139H-DF00X-G-F Intel Core i7-113...      Laptop  \n",
       "4937  IdeaPad 1 15ALC7 82R400F1TR R7-5700U 8GB 256GB...      Laptop  \n",
       "4938   Nirvana X600.139H-DF00X-G-F Intel Core i7-113...      Laptop  \n",
       "4939  IdeaPad 1 15ALC7 82R400F1TR R7-5700U 8GB 256GB...      Laptop  \n",
       "4940  IdeaPad 1 15ALC7 82R400F1TR R7-5700U 8GB 256GB...      Laptop  \n",
       "\n",
       "[4941 rows x 6 columns]"
      ]
     },
     "execution_count": 290,
     "metadata": {},
     "output_type": "execute_result"
    }
   ],
   "source": [
    "df = pd.read_csv(\"laptop.csv\")\n",
    "df"
   ]
  },
  {
   "cell_type": "code",
   "execution_count": 209,
   "id": "c19e0eed",
   "metadata": {
    "ExecuteTime": {
     "end_time": "2024-01-23T22:14:43.764550Z",
     "start_time": "2024-01-23T22:14:43.742610Z"
    }
   },
   "outputs": [
    {
     "data": {
      "text/plain": [
       "Laptop    4941\n",
       "Name: productName, dtype: int64"
      ]
     },
     "execution_count": 209,
     "metadata": {},
     "output_type": "execute_result"
    }
   ],
   "source": [
    "df.productName.value_counts()   # productName atılabilir hepsi laptop zaten"
   ]
  },
  {
   "cell_type": "code",
   "execution_count": 210,
   "id": "586eae36",
   "metadata": {
    "ExecuteTime": {
     "end_time": "2024-01-23T22:14:43.794471Z",
     "start_time": "2024-01-23T22:14:43.770535Z"
    }
   },
   "outputs": [
    {
     "data": {
      "text/plain": [
       "0       https://www.trendyol.com//hp/250-g8-core-i5-11...\n",
       "1       https://www.trendyol.com//casper/nirvana-x600-...\n",
       "2       https://www.trendyol.com//dell/vostro-3520-i5-...\n",
       "3       https://www.trendyol.com//casper/excalibur-g87...\n",
       "4       https://www.trendyol.com//casper/nirvana-c370-...\n",
       "                              ...                        \n",
       "4936    https://www.trendyol.com//casper/excalibur-g87...\n",
       "4937    https://www.trendyol.com//gigabyte/g5-mf-i5-12...\n",
       "4938    https://www.trendyol.com//casper/excalibur-g87...\n",
       "4939    https://www.trendyol.com//gigabyte/g5-mf-i5-12...\n",
       "4940    https://www.trendyol.com//gigabyte/g5-mf-i5-12...\n",
       "Name: productLink, Length: 4941, dtype: object"
      ]
     },
     "execution_count": 210,
     "metadata": {},
     "output_type": "execute_result"
    }
   ],
   "source": [
    "df.productLink"
   ]
  },
  {
   "cell_type": "code",
   "execution_count": 263,
   "id": "a2a53e5c",
   "metadata": {
    "ExecuteTime": {
     "end_time": "2024-01-24T12:40:48.050663Z",
     "start_time": "2024-01-24T12:40:48.032717Z"
    }
   },
   "outputs": [
    {
     "data": {
      "text/plain": [
       "'https://www.trendyol.com//casper/nirvana-c370-4020-4c00b-intel-celeron-n4020-4gb-ram-120gb-ssd-windows-11-home-15-6-hd-p-358003688'"
      ]
     },
     "execution_count": 263,
     "metadata": {},
     "output_type": "execute_result"
    }
   ],
   "source": [
    "df.productLink[4]"
   ]
  },
  {
   "cell_type": "code",
   "execution_count": 211,
   "id": "f5c63827",
   "metadata": {
    "ExecuteTime": {
     "end_time": "2024-01-23T22:14:43.810435Z",
     "start_time": "2024-01-23T22:14:43.798461Z"
    }
   },
   "outputs": [
    {
     "data": {
      "text/plain": [
       "0       250 G8/Core I5-1135G7 İşlemci/ 8GB Ram/ 256GB ...\n",
       "1        Nirvana X600.139H-DF00X-G-F Intel Core i7-113...\n",
       "2       Vostro 3520 I5-1135G7 8 GB 256 GB SSD 15.6\" Fh...\n",
       "3       Excalibur G870.1265-DFA0X-B Intel Core i7-1265...\n",
       "4       Nirvana C370.4020-4C00B Intel Celeron N4020 4G...\n",
       "                              ...                        \n",
       "4936     Nirvana X600.139H-DF00X-G-F Intel Core i7-113...\n",
       "4937    IdeaPad 1 15ALC7 82R400F1TR R7-5700U 8GB 256GB...\n",
       "4938     Nirvana X600.139H-DF00X-G-F Intel Core i7-113...\n",
       "4939    IdeaPad 1 15ALC7 82R400F1TR R7-5700U 8GB 256GB...\n",
       "4940    IdeaPad 1 15ALC7 82R400F1TR R7-5700U 8GB 256GB...\n",
       "Name: productInfo, Length: 4941, dtype: object"
      ]
     },
     "execution_count": 211,
     "metadata": {},
     "output_type": "execute_result"
    }
   ],
   "source": [
    "df.productInfo"
   ]
  },
  {
   "cell_type": "code",
   "execution_count": 212,
   "id": "a6ab9c79",
   "metadata": {
    "ExecuteTime": {
     "end_time": "2024-01-23T22:14:43.826384Z",
     "start_time": "2024-01-23T22:14:43.814418Z"
    }
   },
   "outputs": [
    {
     "data": {
      "text/plain": [
       "'250 G8/Core I5-1135G7 İşlemci/ 8GB Ram/ 256GB SSD/ 15.6\"/ FHD/ Freedos/ Laptop Kömür Grisi 853U8ES'"
      ]
     },
     "execution_count": 212,
     "metadata": {},
     "output_type": "execute_result"
    }
   ],
   "source": [
    "df.productInfo[0]"
   ]
  },
  {
   "cell_type": "code",
   "execution_count": 213,
   "id": "4f3e9224",
   "metadata": {
    "ExecuteTime": {
     "end_time": "2024-01-23T22:14:43.842356Z",
     "start_time": "2024-01-23T22:14:43.828379Z"
    }
   },
   "outputs": [
    {
     "data": {
      "text/plain": [
       "'\\xa0Nirvana X600.139H-DF00X-G-F Intel Core i7-11390H 32 GB RAM 1TB NVME SSD GEN4 Freedos'"
      ]
     },
     "execution_count": 213,
     "metadata": {},
     "output_type": "execute_result"
    }
   ],
   "source": [
    "df.productInfo[1]"
   ]
  },
  {
   "cell_type": "code",
   "execution_count": 214,
   "id": "fed57008",
   "metadata": {
    "ExecuteTime": {
     "end_time": "2024-01-23T22:14:43.858300Z",
     "start_time": "2024-01-23T22:14:43.845339Z"
    }
   },
   "outputs": [
    {
     "data": {
      "text/plain": [
       "'Vostro 3520 I5-1135G7 8 GB 256 GB SSD 15.6\" Fhd FreeDos N2062PVNB3520U'"
      ]
     },
     "execution_count": 214,
     "metadata": {},
     "output_type": "execute_result"
    }
   ],
   "source": [
    "df.productInfo[2]"
   ]
  },
  {
   "cell_type": "code",
   "execution_count": 405,
   "id": "5527977e",
   "metadata": {
    "ExecuteTime": {
     "end_time": "2024-01-24T17:05:07.530921Z",
     "start_time": "2024-01-24T17:05:07.216953Z"
    }
   },
   "outputs": [
    {
     "data": {
      "text/html": [
       "<div>\n",
       "<style scoped>\n",
       "    .dataframe tbody tr th:only-of-type {\n",
       "        vertical-align: middle;\n",
       "    }\n",
       "\n",
       "    .dataframe tbody tr th {\n",
       "        vertical-align: top;\n",
       "    }\n",
       "\n",
       "    .dataframe thead th {\n",
       "        text-align: right;\n",
       "    }\n",
       "</style>\n",
       "<table border=\"1\" class=\"dataframe\">\n",
       "  <thead>\n",
       "    <tr style=\"text-align: right;\">\n",
       "      <th></th>\n",
       "      <th>Unnamed: 0</th>\n",
       "      <th>productType</th>\n",
       "      <th>productLink</th>\n",
       "      <th>productPrice</th>\n",
       "      <th>productInfo</th>\n",
       "      <th>productName</th>\n",
       "      <th>Processor</th>\n",
       "      <th>RAM</th>\n",
       "      <th>Storage</th>\n",
       "      <th>Screen_Size</th>\n",
       "      <th>Resolution</th>\n",
       "      <th>OS</th>\n",
       "    </tr>\n",
       "  </thead>\n",
       "  <tbody>\n",
       "    <tr>\n",
       "      <th>0</th>\n",
       "      <td>0</td>\n",
       "      <td>HP</td>\n",
       "      <td>https://www.trendyol.com//hp/250-g8-core-i5-11...</td>\n",
       "      <td>10.999 TL</td>\n",
       "      <td>250 G8/Core I5-1135G7 İşlemci/ 8GB Ram/ 256GB ...</td>\n",
       "      <td>Laptop</td>\n",
       "      <td>Core I5-1135G7</td>\n",
       "      <td>NaN</td>\n",
       "      <td>256GB SSD</td>\n",
       "      <td>15.6\"</td>\n",
       "      <td>FHD</td>\n",
       "      <td>Freedos</td>\n",
       "    </tr>\n",
       "    <tr>\n",
       "      <th>1</th>\n",
       "      <td>1</td>\n",
       "      <td>Casper</td>\n",
       "      <td>https://www.trendyol.com//casper/nirvana-x600-...</td>\n",
       "      <td>12.599 TL</td>\n",
       "      <td>Nirvana X600.139H-DF00X-G-F Intel Core i7-113...</td>\n",
       "      <td>Laptop</td>\n",
       "      <td>Core i7-11390H</td>\n",
       "      <td>32 GB RAM</td>\n",
       "      <td>NaN</td>\n",
       "      <td>NaN</td>\n",
       "      <td>NaN</td>\n",
       "      <td>Freedos</td>\n",
       "    </tr>\n",
       "    <tr>\n",
       "      <th>2</th>\n",
       "      <td>2</td>\n",
       "      <td>Dell</td>\n",
       "      <td>https://www.trendyol.com//dell/vostro-3520-i5-...</td>\n",
       "      <td>33.999 TL</td>\n",
       "      <td>Vostro 3520 I5-1135G7 8 GB 256 GB SSD 15.6\" Fh...</td>\n",
       "      <td>Laptop</td>\n",
       "      <td>I5-1135G7</td>\n",
       "      <td>NaN</td>\n",
       "      <td>256 GB SSD</td>\n",
       "      <td>15.6\"</td>\n",
       "      <td>NaN</td>\n",
       "      <td>NaN</td>\n",
       "    </tr>\n",
       "    <tr>\n",
       "      <th>3</th>\n",
       "      <td>3</td>\n",
       "      <td>Casper</td>\n",
       "      <td>https://www.trendyol.com//casper/excalibur-g87...</td>\n",
       "      <td>16.299 TL</td>\n",
       "      <td>Excalibur G870.1265-DFA0X-B Intel Core i7-1265...</td>\n",
       "      <td>Laptop</td>\n",
       "      <td>Core i7-12650H</td>\n",
       "      <td>32GB RAM</td>\n",
       "      <td>NaN</td>\n",
       "      <td>NaN</td>\n",
       "      <td>NaN</td>\n",
       "      <td>Freedos</td>\n",
       "    </tr>\n",
       "    <tr>\n",
       "      <th>4</th>\n",
       "      <td>4</td>\n",
       "      <td>Casper</td>\n",
       "      <td>https://www.trendyol.com//casper/nirvana-c370-...</td>\n",
       "      <td>6.999 TL</td>\n",
       "      <td>Nirvana C370.4020-4C00B Intel Celeron N4020 4G...</td>\n",
       "      <td>Laptop</td>\n",
       "      <td>Celeron N4020</td>\n",
       "      <td>4GB RAM</td>\n",
       "      <td>120GB SSD</td>\n",
       "      <td>15.6\"</td>\n",
       "      <td>HD</td>\n",
       "      <td>Windows</td>\n",
       "    </tr>\n",
       "    <tr>\n",
       "      <th>...</th>\n",
       "      <td>...</td>\n",
       "      <td>...</td>\n",
       "      <td>...</td>\n",
       "      <td>...</td>\n",
       "      <td>...</td>\n",
       "      <td>...</td>\n",
       "      <td>...</td>\n",
       "      <td>...</td>\n",
       "      <td>...</td>\n",
       "      <td>...</td>\n",
       "      <td>...</td>\n",
       "      <td>...</td>\n",
       "    </tr>\n",
       "    <tr>\n",
       "      <th>4936</th>\n",
       "      <td>30435</td>\n",
       "      <td>Casper</td>\n",
       "      <td>https://www.trendyol.com//casper/excalibur-g87...</td>\n",
       "      <td>16.299 TL</td>\n",
       "      <td>Nirvana X600.139H-DF00X-G-F Intel Core i7-113...</td>\n",
       "      <td>Laptop</td>\n",
       "      <td>Core i7-11390H</td>\n",
       "      <td>32 GB RAM</td>\n",
       "      <td>NaN</td>\n",
       "      <td>NaN</td>\n",
       "      <td>NaN</td>\n",
       "      <td>Freedos</td>\n",
       "    </tr>\n",
       "    <tr>\n",
       "      <th>4937</th>\n",
       "      <td>30447</td>\n",
       "      <td>Casper</td>\n",
       "      <td>https://www.trendyol.com//gigabyte/g5-mf-i5-12...</td>\n",
       "      <td>17.275 TL</td>\n",
       "      <td>IdeaPad 1 15ALC7 82R400F1TR R7-5700U 8GB 256GB...</td>\n",
       "      <td>Laptop</td>\n",
       "      <td>R7-5700U</td>\n",
       "      <td>NaN</td>\n",
       "      <td>256GB SSD</td>\n",
       "      <td>15.6\"</td>\n",
       "      <td>NaN</td>\n",
       "      <td>NaN</td>\n",
       "    </tr>\n",
       "    <tr>\n",
       "      <th>4938</th>\n",
       "      <td>31059</td>\n",
       "      <td>Casper</td>\n",
       "      <td>https://www.trendyol.com//casper/excalibur-g87...</td>\n",
       "      <td>16.299 TL</td>\n",
       "      <td>Nirvana X600.139H-DF00X-G-F Intel Core i7-113...</td>\n",
       "      <td>Laptop</td>\n",
       "      <td>Core i7-11390H</td>\n",
       "      <td>32 GB RAM</td>\n",
       "      <td>NaN</td>\n",
       "      <td>NaN</td>\n",
       "      <td>NaN</td>\n",
       "      <td>Freedos</td>\n",
       "    </tr>\n",
       "    <tr>\n",
       "      <th>4939</th>\n",
       "      <td>31071</td>\n",
       "      <td>Casper</td>\n",
       "      <td>https://www.trendyol.com//gigabyte/g5-mf-i5-12...</td>\n",
       "      <td>17.275 TL</td>\n",
       "      <td>IdeaPad 1 15ALC7 82R400F1TR R7-5700U 8GB 256GB...</td>\n",
       "      <td>Laptop</td>\n",
       "      <td>R7-5700U</td>\n",
       "      <td>NaN</td>\n",
       "      <td>256GB SSD</td>\n",
       "      <td>15.6\"</td>\n",
       "      <td>NaN</td>\n",
       "      <td>NaN</td>\n",
       "    </tr>\n",
       "    <tr>\n",
       "      <th>4940</th>\n",
       "      <td>31815</td>\n",
       "      <td>Casper</td>\n",
       "      <td>https://www.trendyol.com//gigabyte/g5-mf-i5-12...</td>\n",
       "      <td>17.275 TL</td>\n",
       "      <td>IdeaPad 1 15ALC7 82R400F1TR R7-5700U 8GB 256GB...</td>\n",
       "      <td>Laptop</td>\n",
       "      <td>R7-5700U</td>\n",
       "      <td>NaN</td>\n",
       "      <td>256GB SSD</td>\n",
       "      <td>15.6\"</td>\n",
       "      <td>NaN</td>\n",
       "      <td>NaN</td>\n",
       "    </tr>\n",
       "  </tbody>\n",
       "</table>\n",
       "<p>4941 rows × 12 columns</p>\n",
       "</div>"
      ],
      "text/plain": [
       "      Unnamed: 0 productType  \\\n",
       "0              0          HP   \n",
       "1              1      Casper   \n",
       "2              2        Dell   \n",
       "3              3      Casper   \n",
       "4              4      Casper   \n",
       "...          ...         ...   \n",
       "4936       30435      Casper   \n",
       "4937       30447      Casper   \n",
       "4938       31059      Casper   \n",
       "4939       31071      Casper   \n",
       "4940       31815      Casper   \n",
       "\n",
       "                                            productLink productPrice  \\\n",
       "0     https://www.trendyol.com//hp/250-g8-core-i5-11...    10.999 TL   \n",
       "1     https://www.trendyol.com//casper/nirvana-x600-...    12.599 TL   \n",
       "2     https://www.trendyol.com//dell/vostro-3520-i5-...    33.999 TL   \n",
       "3     https://www.trendyol.com//casper/excalibur-g87...    16.299 TL   \n",
       "4     https://www.trendyol.com//casper/nirvana-c370-...     6.999 TL   \n",
       "...                                                 ...          ...   \n",
       "4936  https://www.trendyol.com//casper/excalibur-g87...    16.299 TL   \n",
       "4937  https://www.trendyol.com//gigabyte/g5-mf-i5-12...    17.275 TL   \n",
       "4938  https://www.trendyol.com//casper/excalibur-g87...    16.299 TL   \n",
       "4939  https://www.trendyol.com//gigabyte/g5-mf-i5-12...    17.275 TL   \n",
       "4940  https://www.trendyol.com//gigabyte/g5-mf-i5-12...    17.275 TL   \n",
       "\n",
       "                                            productInfo productName  \\\n",
       "0     250 G8/Core I5-1135G7 İşlemci/ 8GB Ram/ 256GB ...      Laptop   \n",
       "1      Nirvana X600.139H-DF00X-G-F Intel Core i7-113...      Laptop   \n",
       "2     Vostro 3520 I5-1135G7 8 GB 256 GB SSD 15.6\" Fh...      Laptop   \n",
       "3     Excalibur G870.1265-DFA0X-B Intel Core i7-1265...      Laptop   \n",
       "4     Nirvana C370.4020-4C00B Intel Celeron N4020 4G...      Laptop   \n",
       "...                                                 ...         ...   \n",
       "4936   Nirvana X600.139H-DF00X-G-F Intel Core i7-113...      Laptop   \n",
       "4937  IdeaPad 1 15ALC7 82R400F1TR R7-5700U 8GB 256GB...      Laptop   \n",
       "4938   Nirvana X600.139H-DF00X-G-F Intel Core i7-113...      Laptop   \n",
       "4939  IdeaPad 1 15ALC7 82R400F1TR R7-5700U 8GB 256GB...      Laptop   \n",
       "4940  IdeaPad 1 15ALC7 82R400F1TR R7-5700U 8GB 256GB...      Laptop   \n",
       "\n",
       "           Processor        RAM     Storage Screen_Size Resolution       OS  \n",
       "0     Core I5-1135G7        NaN   256GB SSD       15.6\"        FHD  Freedos  \n",
       "1     Core i7-11390H  32 GB RAM         NaN         NaN        NaN  Freedos  \n",
       "2          I5-1135G7        NaN  256 GB SSD       15.6\"        NaN      NaN  \n",
       "3     Core i7-12650H   32GB RAM         NaN         NaN        NaN  Freedos  \n",
       "4      Celeron N4020    4GB RAM   120GB SSD       15.6\"         HD  Windows  \n",
       "...              ...        ...         ...         ...        ...      ...  \n",
       "4936  Core i7-11390H  32 GB RAM         NaN         NaN        NaN  Freedos  \n",
       "4937        R7-5700U        NaN   256GB SSD       15.6\"        NaN      NaN  \n",
       "4938  Core i7-11390H  32 GB RAM         NaN         NaN        NaN  Freedos  \n",
       "4939        R7-5700U        NaN   256GB SSD       15.6\"        NaN      NaN  \n",
       "4940        R7-5700U        NaN   256GB SSD       15.6\"        NaN      NaN  \n",
       "\n",
       "[4941 rows x 12 columns]"
      ]
     },
     "execution_count": 405,
     "metadata": {},
     "output_type": "execute_result"
    }
   ],
   "source": [
    "# Extract işlemlerini ayrı ayrı yap ve sadece ilk sütunu al  \n",
    "df['Processor'] = df['productInfo'].str.extract(r'\\b(((Core|[İiIı][3579]|Celeron|Cel|R[3579]|Ryzen\\s?[3579]|RYZEN\\s?[3579])\\s?[^\\s]+|Mac[bB]ook\\sAir|Mac[bB]ook\\sPro)\\b|\\b\\w*(i7)\\b)')[0]\n",
    "df['RAM'] = df['productInfo'].str.extract(r'(\\b(\\d+)\\s?GB\\sRAM)')[0]\n",
    "df['Storage'] = df['productInfo'].str.extract(r'(\\b(\\d+)\\s?GB\\sSSD)')[0]\n",
    "df['Screen_Size'] = df['productInfo'].str.extract(r'(\\b(\\d+(\\.\\d+)?)\\s?\")')[0]\n",
    "df['Resolution'] = df['productInfo'].str.extract(r'(\\bFHD|HD)')[0]\n",
    "df['OS'] = df['productInfo'].str.extract(r'(\\bFreedos|Windows)')[0]\n",
    "\n",
    "df"
   ]
  },
  {
   "cell_type": "code",
   "execution_count": 406,
   "id": "8ff69aaf",
   "metadata": {
    "ExecuteTime": {
     "end_time": "2024-01-24T17:05:11.970779Z",
     "start_time": "2024-01-24T17:05:11.949812Z"
    }
   },
   "outputs": [
    {
     "data": {
      "text/plain": [
       "97"
      ]
     },
     "execution_count": 406,
     "metadata": {},
     "output_type": "execute_result"
    }
   ],
   "source": [
    "df.Processor.isnull().sum()"
   ]
  },
  {
   "cell_type": "code",
   "execution_count": 413,
   "id": "85ec5918",
   "metadata": {
    "ExecuteTime": {
     "end_time": "2024-01-24T17:15:19.220679Z",
     "start_time": "2024-01-24T17:15:19.199735Z"
    }
   },
   "outputs": [
    {
     "data": {
      "text/plain": [
       "3934"
      ]
     },
     "execution_count": 413,
     "metadata": {},
     "output_type": "execute_result"
    }
   ],
   "source": [
    "df.Storage.isnull().sum()"
   ]
  },
  {
   "cell_type": "code",
   "execution_count": 293,
   "id": "68d64442",
   "metadata": {
    "ExecuteTime": {
     "end_time": "2024-01-24T13:47:26.786734Z",
     "start_time": "2024-01-24T13:47:26.778732Z"
    }
   },
   "outputs": [
    {
     "data": {
      "text/plain": [
       "'Macbook Air 13.6\" M2 8gb 256gb Ssd Gece Yarısı'"
      ]
     },
     "execution_count": 293,
     "metadata": {},
     "output_type": "execute_result"
    }
   ],
   "source": [
    "df.productInfo[39]"
   ]
  },
  {
   "cell_type": "code",
   "execution_count": 333,
   "id": "ccfa9584",
   "metadata": {
    "ExecuteTime": {
     "end_time": "2024-01-24T14:52:03.554883Z",
     "start_time": "2024-01-24T14:52:03.536934Z"
    }
   },
   "outputs": [
    {
     "data": {
      "text/plain": [
       "'Macbook Air'"
      ]
     },
     "execution_count": 333,
     "metadata": {},
     "output_type": "execute_result"
    }
   ],
   "source": [
    "df.Processor[39]"
   ]
  },
  {
   "cell_type": "code",
   "execution_count": 224,
   "id": "8ab08834",
   "metadata": {
    "ExecuteTime": {
     "end_time": "2024-01-23T22:20:48.159432Z",
     "start_time": "2024-01-23T22:20:48.144449Z"
    }
   },
   "outputs": [
    {
     "data": {
      "text/plain": [
       "'https://www.trendyol.com//apple/macbook-air-13-6-m2-8gb-256gb-ssd-gece-yarisi-p-336318153'"
      ]
     },
     "execution_count": 224,
     "metadata": {},
     "output_type": "execute_result"
    }
   ],
   "source": [
    "df.productLink[39]"
   ]
  },
  {
   "cell_type": "code",
   "execution_count": 189,
   "id": "9f3452cf",
   "metadata": {
    "ExecuteTime": {
     "end_time": "2024-01-23T21:53:56.808884Z",
     "start_time": "2024-01-23T21:53:56.786971Z"
    }
   },
   "outputs": [
    {
     "data": {
      "text/plain": [
       "'Ideapad AMD Ryzen 7 5700U 16GB 512GB SSD Freedos 15.6\" 82R4006FTRA38'"
      ]
     },
     "execution_count": 189,
     "metadata": {},
     "output_type": "execute_result"
    }
   ],
   "source": [
    "df.productInfo[8]"
   ]
  },
  {
   "cell_type": "code",
   "execution_count": 404,
   "id": "0a169798",
   "metadata": {
    "ExecuteTime": {
     "end_time": "2024-01-24T16:34:06.930677Z",
     "start_time": "2024-01-24T16:34:06.913755Z"
    }
   },
   "outputs": [
    {
     "data": {
      "text/plain": [
       "'Ryzen 7 5700U'"
      ]
     },
     "execution_count": 404,
     "metadata": {},
     "output_type": "execute_result"
    }
   ],
   "source": [
    "df.Processor[8]"
   ]
  },
  {
   "cell_type": "code",
   "execution_count": 407,
   "id": "1befe5bf",
   "metadata": {
    "ExecuteTime": {
     "end_time": "2024-01-24T17:05:30.389300Z",
     "start_time": "2024-01-24T17:05:30.350455Z"
    }
   },
   "outputs": [
    {
     "data": {
      "text/html": [
       "<div>\n",
       "<style scoped>\n",
       "    .dataframe tbody tr th:only-of-type {\n",
       "        vertical-align: middle;\n",
       "    }\n",
       "\n",
       "    .dataframe tbody tr th {\n",
       "        vertical-align: top;\n",
       "    }\n",
       "\n",
       "    .dataframe thead th {\n",
       "        text-align: right;\n",
       "    }\n",
       "</style>\n",
       "<table border=\"1\" class=\"dataframe\">\n",
       "  <thead>\n",
       "    <tr style=\"text-align: right;\">\n",
       "      <th></th>\n",
       "      <th>Unnamed: 0</th>\n",
       "      <th>productType</th>\n",
       "      <th>productLink</th>\n",
       "      <th>productPrice</th>\n",
       "      <th>productInfo</th>\n",
       "      <th>productName</th>\n",
       "      <th>Processor</th>\n",
       "      <th>RAM</th>\n",
       "      <th>Storage</th>\n",
       "      <th>Screen_Size</th>\n",
       "      <th>Resolution</th>\n",
       "      <th>OS</th>\n",
       "    </tr>\n",
       "  </thead>\n",
       "  <tbody>\n",
       "    <tr>\n",
       "      <th>35</th>\n",
       "      <td>35</td>\n",
       "      <td>LENOVO</td>\n",
       "      <td>https://www.trendyol.com//lenovo/v15-82yu00met...</td>\n",
       "      <td>39.499 TL</td>\n",
       "      <td>V15 82YU00METX 7120U 8GB 256SSD 15.6\" FullHD F...</td>\n",
       "      <td>Laptop</td>\n",
       "      <td>NaN</td>\n",
       "      <td>NaN</td>\n",
       "      <td>NaN</td>\n",
       "      <td>15.6\"</td>\n",
       "      <td>HD</td>\n",
       "      <td>NaN</td>\n",
       "    </tr>\n",
       "    <tr>\n",
       "      <th>63</th>\n",
       "      <td>64</td>\n",
       "      <td>Samsung</td>\n",
       "      <td>https://www.trendyol.com//samsung/galaxy-book-...</td>\n",
       "      <td>20.950 TL</td>\n",
       "      <td>Galaxy Book S Snapdragon Işlemcili</td>\n",
       "      <td>Laptop</td>\n",
       "      <td>NaN</td>\n",
       "      <td>NaN</td>\n",
       "      <td>NaN</td>\n",
       "      <td>NaN</td>\n",
       "      <td>NaN</td>\n",
       "      <td>NaN</td>\n",
       "    </tr>\n",
       "    <tr>\n",
       "      <th>79</th>\n",
       "      <td>80</td>\n",
       "      <td>ASUS</td>\n",
       "      <td>https://www.trendyol.com//asus/x515ma-ej680w0w...</td>\n",
       "      <td>37.999 TL</td>\n",
       "      <td>X515MA-EJ680W0W N4020 12GB 128GB eMMC Windows ...</td>\n",
       "      <td>Laptop</td>\n",
       "      <td>NaN</td>\n",
       "      <td>NaN</td>\n",
       "      <td>NaN</td>\n",
       "      <td>15.6\"</td>\n",
       "      <td>HD</td>\n",
       "      <td>Windows</td>\n",
       "    </tr>\n",
       "    <tr>\n",
       "      <th>84</th>\n",
       "      <td>86</td>\n",
       "      <td>HP</td>\n",
       "      <td>https://www.trendyol.com//hp/250-g8-853u7es-ci...</td>\n",
       "      <td>29.999 TL</td>\n",
       "      <td>250 G8 853U7ES Cİ5-1135G7 8GB 256 SSD 15.6\" FD...</td>\n",
       "      <td>Laptop</td>\n",
       "      <td>NaN</td>\n",
       "      <td>NaN</td>\n",
       "      <td>NaN</td>\n",
       "      <td>15.6\"</td>\n",
       "      <td>NaN</td>\n",
       "      <td>NaN</td>\n",
       "    </tr>\n",
       "    <tr>\n",
       "      <th>139</th>\n",
       "      <td>145</td>\n",
       "      <td>ASUS</td>\n",
       "      <td>https://www.trendyol.com//asus/vivobook-x1502z...</td>\n",
       "      <td>20.999 TL</td>\n",
       "      <td>Vivobook X1502ZA-EJ1066AS CI5-1235U 16GB 512GB...</td>\n",
       "      <td>Laptop</td>\n",
       "      <td>NaN</td>\n",
       "      <td>NaN</td>\n",
       "      <td>NaN</td>\n",
       "      <td>15.6\"</td>\n",
       "      <td>FHD</td>\n",
       "      <td>Freedos</td>\n",
       "    </tr>\n",
       "    <tr>\n",
       "      <th>...</th>\n",
       "      <td>...</td>\n",
       "      <td>...</td>\n",
       "      <td>...</td>\n",
       "      <td>...</td>\n",
       "      <td>...</td>\n",
       "      <td>...</td>\n",
       "      <td>...</td>\n",
       "      <td>...</td>\n",
       "      <td>...</td>\n",
       "      <td>...</td>\n",
       "      <td>...</td>\n",
       "      <td>...</td>\n",
       "    </tr>\n",
       "    <tr>\n",
       "      <th>3317</th>\n",
       "      <td>3649</td>\n",
       "      <td>HP</td>\n",
       "      <td>https://www.trendyol.com//asus/a15ryzen-7-7735...</td>\n",
       "      <td>60.703 TL</td>\n",
       "      <td>A15Ryzen 7 7735HS 16gb DDR5 2tb SSD 8GB RTX406...</td>\n",
       "      <td>Laptop</td>\n",
       "      <td>NaN</td>\n",
       "      <td>NaN</td>\n",
       "      <td>NaN</td>\n",
       "      <td>NaN</td>\n",
       "      <td>FHD</td>\n",
       "      <td>NaN</td>\n",
       "    </tr>\n",
       "    <tr>\n",
       "      <th>3340</th>\n",
       "      <td>3674</td>\n",
       "      <td>Dell</td>\n",
       "      <td>https://www.trendyol.com//asus/rog-strix-g16-g...</td>\n",
       "      <td>33.999 TL</td>\n",
       "      <td>Rog Strix G16 G614JZ-N3038-WI7 13650HX 32GB 1T...</td>\n",
       "      <td>Laptop</td>\n",
       "      <td>NaN</td>\n",
       "      <td>NaN</td>\n",
       "      <td>NaN</td>\n",
       "      <td>16\"</td>\n",
       "      <td>NaN</td>\n",
       "      <td>NaN</td>\n",
       "    </tr>\n",
       "    <tr>\n",
       "      <th>3513</th>\n",
       "      <td>3864</td>\n",
       "      <td>HP</td>\n",
       "      <td>https://www.trendyol.com//lenovo/ideapad-gamin...</td>\n",
       "      <td>92.170 TL</td>\n",
       "      <td>İdeapad Gaming 3 15IAH7 32gb 2tb SSD 6GB RTX30...</td>\n",
       "      <td>Laptop</td>\n",
       "      <td>NaN</td>\n",
       "      <td>NaN</td>\n",
       "      <td>NaN</td>\n",
       "      <td>NaN</td>\n",
       "      <td>FHD</td>\n",
       "      <td>NaN</td>\n",
       "    </tr>\n",
       "    <tr>\n",
       "      <th>3515</th>\n",
       "      <td>3866</td>\n",
       "      <td>LENOVO</td>\n",
       "      <td>https://www.trendyol.com//lenovo/ideapad-gamin...</td>\n",
       "      <td>33.999 TL</td>\n",
       "      <td>İdeapad Gaming 3 15IAH7 64gb 1tb SSD 6GB RTX30...</td>\n",
       "      <td>Laptop</td>\n",
       "      <td>NaN</td>\n",
       "      <td>NaN</td>\n",
       "      <td>NaN</td>\n",
       "      <td>NaN</td>\n",
       "      <td>FHD</td>\n",
       "      <td>NaN</td>\n",
       "    </tr>\n",
       "    <tr>\n",
       "      <th>3541</th>\n",
       "      <td>3894</td>\n",
       "      <td>HP</td>\n",
       "      <td>https://www.trendyol.com//lenovo/ideapad-gamin...</td>\n",
       "      <td>44.314 TL</td>\n",
       "      <td>İdeapad Gaming 3 15IAH7 64gb 2tb SSD 6GB RTX30...</td>\n",
       "      <td>Laptop</td>\n",
       "      <td>NaN</td>\n",
       "      <td>NaN</td>\n",
       "      <td>NaN</td>\n",
       "      <td>NaN</td>\n",
       "      <td>FHD</td>\n",
       "      <td>NaN</td>\n",
       "    </tr>\n",
       "  </tbody>\n",
       "</table>\n",
       "<p>97 rows × 12 columns</p>\n",
       "</div>"
      ],
      "text/plain": [
       "      Unnamed: 0 productType  \\\n",
       "35            35      LENOVO   \n",
       "63            64     Samsung   \n",
       "79            80        ASUS   \n",
       "84            86          HP   \n",
       "139          145        ASUS   \n",
       "...          ...         ...   \n",
       "3317        3649          HP   \n",
       "3340        3674        Dell   \n",
       "3513        3864          HP   \n",
       "3515        3866      LENOVO   \n",
       "3541        3894          HP   \n",
       "\n",
       "                                            productLink productPrice  \\\n",
       "35    https://www.trendyol.com//lenovo/v15-82yu00met...    39.499 TL   \n",
       "63    https://www.trendyol.com//samsung/galaxy-book-...    20.950 TL   \n",
       "79    https://www.trendyol.com//asus/x515ma-ej680w0w...    37.999 TL   \n",
       "84    https://www.trendyol.com//hp/250-g8-853u7es-ci...    29.999 TL   \n",
       "139   https://www.trendyol.com//asus/vivobook-x1502z...    20.999 TL   \n",
       "...                                                 ...          ...   \n",
       "3317  https://www.trendyol.com//asus/a15ryzen-7-7735...    60.703 TL   \n",
       "3340  https://www.trendyol.com//asus/rog-strix-g16-g...    33.999 TL   \n",
       "3513  https://www.trendyol.com//lenovo/ideapad-gamin...    92.170 TL   \n",
       "3515  https://www.trendyol.com//lenovo/ideapad-gamin...    33.999 TL   \n",
       "3541  https://www.trendyol.com//lenovo/ideapad-gamin...    44.314 TL   \n",
       "\n",
       "                                            productInfo productName Processor  \\\n",
       "35    V15 82YU00METX 7120U 8GB 256SSD 15.6\" FullHD F...      Laptop       NaN   \n",
       "63                   Galaxy Book S Snapdragon Işlemcili      Laptop       NaN   \n",
       "79    X515MA-EJ680W0W N4020 12GB 128GB eMMC Windows ...      Laptop       NaN   \n",
       "84    250 G8 853U7ES Cİ5-1135G7 8GB 256 SSD 15.6\" FD...      Laptop       NaN   \n",
       "139   Vivobook X1502ZA-EJ1066AS CI5-1235U 16GB 512GB...      Laptop       NaN   \n",
       "...                                                 ...         ...       ...   \n",
       "3317  A15Ryzen 7 7735HS 16gb DDR5 2tb SSD 8GB RTX406...      Laptop       NaN   \n",
       "3340  Rog Strix G16 G614JZ-N3038-WI7 13650HX 32GB 1T...      Laptop       NaN   \n",
       "3513  İdeapad Gaming 3 15IAH7 32gb 2tb SSD 6GB RTX30...      Laptop       NaN   \n",
       "3515  İdeapad Gaming 3 15IAH7 64gb 1tb SSD 6GB RTX30...      Laptop       NaN   \n",
       "3541  İdeapad Gaming 3 15IAH7 64gb 2tb SSD 6GB RTX30...      Laptop       NaN   \n",
       "\n",
       "      RAM Storage Screen_Size Resolution       OS  \n",
       "35    NaN     NaN       15.6\"         HD      NaN  \n",
       "63    NaN     NaN         NaN        NaN      NaN  \n",
       "79    NaN     NaN       15.6\"         HD  Windows  \n",
       "84    NaN     NaN       15.6\"        NaN      NaN  \n",
       "139   NaN     NaN       15.6\"        FHD  Freedos  \n",
       "...   ...     ...         ...        ...      ...  \n",
       "3317  NaN     NaN         NaN        FHD      NaN  \n",
       "3340  NaN     NaN         16\"        NaN      NaN  \n",
       "3513  NaN     NaN         NaN        FHD      NaN  \n",
       "3515  NaN     NaN         NaN        FHD      NaN  \n",
       "3541  NaN     NaN         NaN        FHD      NaN  \n",
       "\n",
       "[97 rows x 12 columns]"
      ]
     },
     "execution_count": 407,
     "metadata": {},
     "output_type": "execute_result"
    }
   ],
   "source": [
    "df[df.Processor.isnull()]"
   ]
  },
  {
   "cell_type": "code",
   "execution_count": 402,
   "id": "430e1a55",
   "metadata": {
    "ExecuteTime": {
     "end_time": "2024-01-24T16:23:30.620333Z",
     "start_time": "2024-01-24T16:23:30.586435Z"
    },
    "scrolled": false
   },
   "outputs": [
    {
     "data": {
      "text/html": [
       "<div>\n",
       "<style scoped>\n",
       "    .dataframe tbody tr th:only-of-type {\n",
       "        vertical-align: middle;\n",
       "    }\n",
       "\n",
       "    .dataframe tbody tr th {\n",
       "        vertical-align: top;\n",
       "    }\n",
       "\n",
       "    .dataframe thead th {\n",
       "        text-align: right;\n",
       "    }\n",
       "</style>\n",
       "<table border=\"1\" class=\"dataframe\">\n",
       "  <thead>\n",
       "    <tr style=\"text-align: right;\">\n",
       "      <th></th>\n",
       "      <th>Unnamed: 0</th>\n",
       "      <th>productType</th>\n",
       "      <th>productLink</th>\n",
       "      <th>productPrice</th>\n",
       "      <th>productInfo</th>\n",
       "      <th>productName</th>\n",
       "      <th>Processor</th>\n",
       "      <th>RAM</th>\n",
       "      <th>Storage</th>\n",
       "      <th>Screen_Size</th>\n",
       "      <th>Resolution</th>\n",
       "      <th>OS</th>\n",
       "    </tr>\n",
       "  </thead>\n",
       "  <tbody>\n",
       "    <tr>\n",
       "      <th>1154</th>\n",
       "      <td>1261</td>\n",
       "      <td>Dell</td>\n",
       "      <td>https://www.trendyol.com//lenovo/ideapad-gamin...</td>\n",
       "      <td>24.601 TL</td>\n",
       "      <td>Ideapad Gaming 3/ryzen 5-6600h/8gb Ram/512gb S...</td>\n",
       "      <td>Laptop</td>\n",
       "      <td>NaN</td>\n",
       "      <td>NaN</td>\n",
       "      <td>NaN</td>\n",
       "      <td>16\"</td>\n",
       "      <td>NaN</td>\n",
       "      <td>NaN</td>\n",
       "    </tr>\n",
       "  </tbody>\n",
       "</table>\n",
       "</div>"
      ],
      "text/plain": [
       "      Unnamed: 0 productType  \\\n",
       "1154        1261        Dell   \n",
       "\n",
       "                                            productLink productPrice  \\\n",
       "1154  https://www.trendyol.com//lenovo/ideapad-gamin...    24.601 TL   \n",
       "\n",
       "                                            productInfo productName Processor  \\\n",
       "1154  Ideapad Gaming 3/ryzen 5-6600h/8gb Ram/512gb S...      Laptop       NaN   \n",
       "\n",
       "      RAM Storage Screen_Size Resolution   OS  \n",
       "1154  NaN     NaN         16\"        NaN  NaN  "
      ]
     },
     "execution_count": 402,
     "metadata": {},
     "output_type": "execute_result"
    }
   ],
   "source": [
    "df[df['productInfo'].str.contains('ryzen')]"
   ]
  },
  {
   "cell_type": "code",
   "execution_count": 403,
   "id": "fce21f50",
   "metadata": {
    "ExecuteTime": {
     "end_time": "2024-01-24T16:23:33.289798Z",
     "start_time": "2024-01-24T16:23:33.263882Z"
    }
   },
   "outputs": [
    {
     "data": {
      "text/html": [
       "<div>\n",
       "<style scoped>\n",
       "    .dataframe tbody tr th:only-of-type {\n",
       "        vertical-align: middle;\n",
       "    }\n",
       "\n",
       "    .dataframe tbody tr th {\n",
       "        vertical-align: top;\n",
       "    }\n",
       "\n",
       "    .dataframe thead th {\n",
       "        text-align: right;\n",
       "    }\n",
       "</style>\n",
       "<table border=\"1\" class=\"dataframe\">\n",
       "  <thead>\n",
       "    <tr style=\"text-align: right;\">\n",
       "      <th></th>\n",
       "      <th>Unnamed: 0</th>\n",
       "      <th>productType</th>\n",
       "      <th>productLink</th>\n",
       "      <th>productPrice</th>\n",
       "      <th>productInfo</th>\n",
       "      <th>productName</th>\n",
       "      <th>Processor</th>\n",
       "      <th>RAM</th>\n",
       "      <th>Storage</th>\n",
       "      <th>Screen_Size</th>\n",
       "      <th>Resolution</th>\n",
       "      <th>OS</th>\n",
       "    </tr>\n",
       "  </thead>\n",
       "  <tbody>\n",
       "    <tr>\n",
       "      <th>1395</th>\n",
       "      <td>1528</td>\n",
       "      <td>ASUS</td>\n",
       "      <td>https://www.trendyol.com//hp/victus-16-r0030nt...</td>\n",
       "      <td>22.062,62 TL</td>\n",
       "      <td>Victus 16-R0030NTi7-13700H 32GB DDR5 1TB SSD R...</td>\n",
       "      <td>Laptop</td>\n",
       "      <td>R0030NTi7</td>\n",
       "      <td>NaN</td>\n",
       "      <td>NaN</td>\n",
       "      <td>16.1\"</td>\n",
       "      <td>HD</td>\n",
       "      <td>NaN</td>\n",
       "    </tr>\n",
       "    <tr>\n",
       "      <th>1604</th>\n",
       "      <td>1760</td>\n",
       "      <td>HP</td>\n",
       "      <td>https://www.trendyol.com//hp/victus-16-r0030nt...</td>\n",
       "      <td>37.999 TL</td>\n",
       "      <td>Victus 16-R0030NTi7-13700H 32GB DDR5 1TB SSD R...</td>\n",
       "      <td>Laptop</td>\n",
       "      <td>R0030NTi7</td>\n",
       "      <td>NaN</td>\n",
       "      <td>NaN</td>\n",
       "      <td>16.1\"</td>\n",
       "      <td>HD</td>\n",
       "      <td>NaN</td>\n",
       "    </tr>\n",
       "    <tr>\n",
       "      <th>2054</th>\n",
       "      <td>2258</td>\n",
       "      <td>LENOVO</td>\n",
       "      <td>https://www.trendyol.com//hp/victus-16-r0030nt...</td>\n",
       "      <td>33.999 TL</td>\n",
       "      <td>Victus 16-R0030NTi7-13700H 64GB DDR5 1TB SSD R...</td>\n",
       "      <td>Laptop</td>\n",
       "      <td>R0030NTi7</td>\n",
       "      <td>NaN</td>\n",
       "      <td>NaN</td>\n",
       "      <td>16.1\"</td>\n",
       "      <td>HD</td>\n",
       "      <td>NaN</td>\n",
       "    </tr>\n",
       "    <tr>\n",
       "      <th>2058</th>\n",
       "      <td>2262</td>\n",
       "      <td>ACER</td>\n",
       "      <td>https://www.trendyol.com//hp/victus-16-r0030nt...</td>\n",
       "      <td>43.999 TL</td>\n",
       "      <td>Victus 16-R0030NTi7-13700H 64GB DDR5 2TB SSD R...</td>\n",
       "      <td>Laptop</td>\n",
       "      <td>R0030NTi7</td>\n",
       "      <td>NaN</td>\n",
       "      <td>NaN</td>\n",
       "      <td>16.1\"</td>\n",
       "      <td>HD</td>\n",
       "      <td>NaN</td>\n",
       "    </tr>\n",
       "    <tr>\n",
       "      <th>2708</th>\n",
       "      <td>2980</td>\n",
       "      <td>HP</td>\n",
       "      <td>https://www.trendyol.com//hp/victus-16-r0030nt...</td>\n",
       "      <td>28.789 TL</td>\n",
       "      <td>Victus 16-R0030NTi7-13700H 64GB DDR5 2TB SSD R...</td>\n",
       "      <td>Laptop</td>\n",
       "      <td>R0030NTi7</td>\n",
       "      <td>NaN</td>\n",
       "      <td>NaN</td>\n",
       "      <td>16.1\"</td>\n",
       "      <td>HD</td>\n",
       "      <td>NaN</td>\n",
       "    </tr>\n",
       "    <tr>\n",
       "      <th>3514</th>\n",
       "      <td>3865</td>\n",
       "      <td>HP</td>\n",
       "      <td>https://www.trendyol.com//hp/victus-16-r0030nt...</td>\n",
       "      <td>96.108 TL</td>\n",
       "      <td>Victus 16-R0030NTi7-13700H 16GB DDR5 2TB SSD R...</td>\n",
       "      <td>Laptop</td>\n",
       "      <td>R0030NTi7</td>\n",
       "      <td>NaN</td>\n",
       "      <td>NaN</td>\n",
       "      <td>16.1\"</td>\n",
       "      <td>HD</td>\n",
       "      <td>NaN</td>\n",
       "    </tr>\n",
       "    <tr>\n",
       "      <th>3716</th>\n",
       "      <td>4085</td>\n",
       "      <td>ASUS</td>\n",
       "      <td>https://www.trendyol.com//hp/victus-16-r0030nt...</td>\n",
       "      <td>35.499 TL</td>\n",
       "      <td>Victus 16-R0030NTi7-13700H 32GB DDR5 512GB SSD...</td>\n",
       "      <td>Laptop</td>\n",
       "      <td>R0030NTi7</td>\n",
       "      <td>NaN</td>\n",
       "      <td>512GB SSD</td>\n",
       "      <td>16.1\"</td>\n",
       "      <td>HD</td>\n",
       "      <td>NaN</td>\n",
       "    </tr>\n",
       "    <tr>\n",
       "      <th>3717</th>\n",
       "      <td>4086</td>\n",
       "      <td>ACER</td>\n",
       "      <td>https://www.trendyol.com//hp/victus-16-r0030nt...</td>\n",
       "      <td>45.899,48 TL</td>\n",
       "      <td>Victus 16-R0030NTi7-13700H 16GB DDR5 512GB SSD...</td>\n",
       "      <td>Laptop</td>\n",
       "      <td>R0030NTi7</td>\n",
       "      <td>NaN</td>\n",
       "      <td>512GB SSD</td>\n",
       "      <td>16.1\"</td>\n",
       "      <td>HD</td>\n",
       "      <td>NaN</td>\n",
       "    </tr>\n",
       "    <tr>\n",
       "      <th>3719</th>\n",
       "      <td>4088</td>\n",
       "      <td>HP</td>\n",
       "      <td>https://www.trendyol.com//hp/victus-16-r0030nt...</td>\n",
       "      <td>37.999 TL</td>\n",
       "      <td>Victus 16-R0030NTi7-13700H 32GB DDR5 512GB SSD...</td>\n",
       "      <td>Laptop</td>\n",
       "      <td>R0030NTi7</td>\n",
       "      <td>NaN</td>\n",
       "      <td>512GB SSD</td>\n",
       "      <td>16.1\"</td>\n",
       "      <td>HD</td>\n",
       "      <td>NaN</td>\n",
       "    </tr>\n",
       "    <tr>\n",
       "      <th>3720</th>\n",
       "      <td>4089</td>\n",
       "      <td>HP</td>\n",
       "      <td>https://www.trendyol.com//hp/victus-16-r0030nt...</td>\n",
       "      <td>45.999 TL</td>\n",
       "      <td>Victus 16-R0030NTi7-13700H 16GB DDR5 1TB SSD R...</td>\n",
       "      <td>Laptop</td>\n",
       "      <td>R0030NTi7</td>\n",
       "      <td>NaN</td>\n",
       "      <td>NaN</td>\n",
       "      <td>16.1\"</td>\n",
       "      <td>HD</td>\n",
       "      <td>NaN</td>\n",
       "    </tr>\n",
       "  </tbody>\n",
       "</table>\n",
       "</div>"
      ],
      "text/plain": [
       "      Unnamed: 0 productType  \\\n",
       "1395        1528        ASUS   \n",
       "1604        1760          HP   \n",
       "2054        2258      LENOVO   \n",
       "2058        2262        ACER   \n",
       "2708        2980          HP   \n",
       "3514        3865          HP   \n",
       "3716        4085        ASUS   \n",
       "3717        4086        ACER   \n",
       "3719        4088          HP   \n",
       "3720        4089          HP   \n",
       "\n",
       "                                            productLink  productPrice  \\\n",
       "1395  https://www.trendyol.com//hp/victus-16-r0030nt...  22.062,62 TL   \n",
       "1604  https://www.trendyol.com//hp/victus-16-r0030nt...     37.999 TL   \n",
       "2054  https://www.trendyol.com//hp/victus-16-r0030nt...     33.999 TL   \n",
       "2058  https://www.trendyol.com//hp/victus-16-r0030nt...     43.999 TL   \n",
       "2708  https://www.trendyol.com//hp/victus-16-r0030nt...     28.789 TL   \n",
       "3514  https://www.trendyol.com//hp/victus-16-r0030nt...     96.108 TL   \n",
       "3716  https://www.trendyol.com//hp/victus-16-r0030nt...     35.499 TL   \n",
       "3717  https://www.trendyol.com//hp/victus-16-r0030nt...  45.899,48 TL   \n",
       "3719  https://www.trendyol.com//hp/victus-16-r0030nt...     37.999 TL   \n",
       "3720  https://www.trendyol.com//hp/victus-16-r0030nt...     45.999 TL   \n",
       "\n",
       "                                            productInfo productName  \\\n",
       "1395  Victus 16-R0030NTi7-13700H 32GB DDR5 1TB SSD R...      Laptop   \n",
       "1604  Victus 16-R0030NTi7-13700H 32GB DDR5 1TB SSD R...      Laptop   \n",
       "2054  Victus 16-R0030NTi7-13700H 64GB DDR5 1TB SSD R...      Laptop   \n",
       "2058  Victus 16-R0030NTi7-13700H 64GB DDR5 2TB SSD R...      Laptop   \n",
       "2708  Victus 16-R0030NTi7-13700H 64GB DDR5 2TB SSD R...      Laptop   \n",
       "3514  Victus 16-R0030NTi7-13700H 16GB DDR5 2TB SSD R...      Laptop   \n",
       "3716  Victus 16-R0030NTi7-13700H 32GB DDR5 512GB SSD...      Laptop   \n",
       "3717  Victus 16-R0030NTi7-13700H 16GB DDR5 512GB SSD...      Laptop   \n",
       "3719  Victus 16-R0030NTi7-13700H 32GB DDR5 512GB SSD...      Laptop   \n",
       "3720  Victus 16-R0030NTi7-13700H 16GB DDR5 1TB SSD R...      Laptop   \n",
       "\n",
       "      Processor  RAM    Storage Screen_Size Resolution   OS  \n",
       "1395  R0030NTi7  NaN        NaN       16.1\"         HD  NaN  \n",
       "1604  R0030NTi7  NaN        NaN       16.1\"         HD  NaN  \n",
       "2054  R0030NTi7  NaN        NaN       16.1\"         HD  NaN  \n",
       "2058  R0030NTi7  NaN        NaN       16.1\"         HD  NaN  \n",
       "2708  R0030NTi7  NaN        NaN       16.1\"         HD  NaN  \n",
       "3514  R0030NTi7  NaN        NaN       16.1\"         HD  NaN  \n",
       "3716  R0030NTi7  NaN  512GB SSD       16.1\"         HD  NaN  \n",
       "3717  R0030NTi7  NaN  512GB SSD       16.1\"         HD  NaN  \n",
       "3719  R0030NTi7  NaN  512GB SSD       16.1\"         HD  NaN  \n",
       "3720  R0030NTi7  NaN        NaN       16.1\"         HD  NaN  "
      ]
     },
     "execution_count": 403,
     "metadata": {},
     "output_type": "execute_result"
    }
   ],
   "source": [
    "df[df['productInfo'].str.contains('R0030NTi7')]"
   ]
  },
  {
   "cell_type": "code",
   "execution_count": 408,
   "id": "2712317f",
   "metadata": {
    "ExecuteTime": {
     "end_time": "2024-01-24T17:07:25.749294Z",
     "start_time": "2024-01-24T17:07:25.736330Z"
    }
   },
   "outputs": [
    {
     "data": {
      "text/plain": [
       "'R0030NTi7'"
      ]
     },
     "execution_count": 408,
     "metadata": {},
     "output_type": "execute_result"
    }
   ],
   "source": [
    "df.Processor[1395]"
   ]
  },
  {
   "cell_type": "code",
   "execution_count": 338,
   "id": "bcbd1699",
   "metadata": {
    "ExecuteTime": {
     "end_time": "2024-01-24T14:55:01.438000Z",
     "start_time": "2024-01-24T14:55:01.422070Z"
    }
   },
   "outputs": [
    {
     "data": {
      "text/plain": [
       "'Victus 16-R0030NTi7-13700H 32GB DDR5 1TB SSD RTX4050-6GB 16.1\" 144Hz Full HD FDOS 7P640EAF05'"
      ]
     },
     "execution_count": 338,
     "metadata": {},
     "output_type": "execute_result"
    }
   ],
   "source": [
    "df.productInfo[1395]"
   ]
  },
  {
   "cell_type": "code",
   "execution_count": 409,
   "id": "4c490935",
   "metadata": {
    "ExecuteTime": {
     "end_time": "2024-01-24T17:07:32.972759Z",
     "start_time": "2024-01-24T17:07:32.954806Z"
    }
   },
   "outputs": [
    {
     "data": {
      "text/plain": [
       "'https://www.trendyol.com//lenovo/ideapad-gaming-3-15iah7-64gb-2tb-ssd-6gb-rtx3060-15-6-inc-ips-fhd-win11home-g82s900twtx18-p-741803194'"
      ]
     },
     "execution_count": 409,
     "metadata": {},
     "output_type": "execute_result"
    }
   ],
   "source": [
    "df.productLink[3541]"
   ]
  },
  {
   "cell_type": "code",
   "execution_count": 411,
   "id": "ae09c517",
   "metadata": {
    "ExecuteTime": {
     "end_time": "2024-01-24T17:09:06.227483Z",
     "start_time": "2024-01-24T17:09:06.210534Z"
    }
   },
   "outputs": [
    {
     "data": {
      "text/plain": [
       "'https://www.trendyol.com//gigabyte/g5-mf-i5-12500h-rtx-4050-16gb-ram-512gb-15-6-ekran-win11-ingilizce-q-klavye-p-792223678?advertItems=eyJhZHZlcnRJZCI6ImU1MjJjNjdiLWIxZDctNGFmNy1iZDU3LTM2YTExMzkwMGNkYSIsInNvcnRpbmdTY29yZSI6MC4wNDcwNzkwNjgwNDYwNjMxOCwiYWRTY29yZSI6MC4wMzA3OTA3NTczODc4NzY1MSwiYWRTY29yZXMiOnsiMSI6MC4wMzA3OTA3NTczODc4NzY1MSwiMiI6MC4wMzA3OTA3NTczODc4NzY1MX0sImNwYyI6MS41MjksIm1pbkNwYyI6MC4wMSwiZUNwYyI6MS40Mjg0NzA4ODc3NTk0ODA3LCJhZHZlcnRTbG90Ijo1LCJvcmRlciI6MTksImF0dHJpYnV0ZXMiOiIifQ=='"
      ]
     },
     "execution_count": 411,
     "metadata": {},
     "output_type": "execute_result"
    }
   ],
   "source": [
    "df.productLink[311]"
   ]
  },
  {
   "cell_type": "code",
   "execution_count": null,
   "id": "4e37ab38",
   "metadata": {},
   "outputs": [],
   "source": []
  }
 ],
 "metadata": {
  "hide_input": false,
  "kernelspec": {
   "display_name": "Python 3 (ipykernel)",
   "language": "python",
   "name": "python3"
  },
  "language_info": {
   "codemirror_mode": {
    "name": "ipython",
    "version": 3
   },
   "file_extension": ".py",
   "mimetype": "text/x-python",
   "name": "python",
   "nbconvert_exporter": "python",
   "pygments_lexer": "ipython3",
   "version": "3.9.13"
  },
  "toc": {
   "base_numbering": 1,
   "nav_menu": {},
   "number_sections": true,
   "sideBar": true,
   "skip_h1_title": false,
   "title_cell": "Table of Contents",
   "title_sidebar": "Contents",
   "toc_cell": false,
   "toc_position": {},
   "toc_section_display": true,
   "toc_window_display": false
  }
 },
 "nbformat": 4,
 "nbformat_minor": 5
}
