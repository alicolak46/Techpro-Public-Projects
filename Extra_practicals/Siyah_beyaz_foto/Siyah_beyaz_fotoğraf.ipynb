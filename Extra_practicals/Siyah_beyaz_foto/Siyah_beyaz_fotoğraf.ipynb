{
 "cells": [
  {
   "cell_type": "code",
   "execution_count": 9,
   "id": "df1634a8",
   "metadata": {
    "ExecuteTime": {
     "end_time": "2024-02-11T00:38:40.106441Z",
     "start_time": "2024-02-11T00:38:36.556176Z"
    }
   },
   "outputs": [],
   "source": [
    "from PIL import Image\n",
    "\n",
    "# Fotoğrafınızın dosya yolunu buraya girin\n",
    "foto_yolu = \"profilfoto-photoaidcom-cropped.jpeg\"\n",
    "\n",
    "# Fotoğrafı açın\n",
    "foto = Image.open(foto_yolu)\n",
    "\n",
    "# Siyah-beyaz yap\n",
    "siyah_beyaz_foto = foto.convert(\"L\")\n",
    "\n",
    "# Yeni fotoğrafı kaydet\n",
    "siyah_beyaz_foto.save(\"siyah_beyaz_fotocropped.jpg\")\n",
    "\n",
    "# Kaydedilen fotoğrafı göster\n",
    "siyah_beyaz_foto.show()"
   ]
  },
  {
   "cell_type": "code",
   "execution_count": 4,
   "id": "0ebad7a8",
   "metadata": {
    "ExecuteTime": {
     "end_time": "2024-02-11T00:36:10.462942Z",
     "start_time": "2024-02-11T00:35:33.350302Z"
    }
   },
   "outputs": [
    {
     "name": "stdout",
     "output_type": "stream",
     "text": [
      "Collecting opencv-python\n",
      "  Downloading opencv_python-4.9.0.80-cp37-abi3-win_amd64.whl (38.6 MB)\n",
      "     ---------------------------------------- 38.6/38.6 MB 1.1 MB/s eta 0:00:00\n",
      "Requirement already satisfied: numpy>=1.17.3 in c:\\users\\master\\anaconda3\\lib\\site-packages (from opencv-python) (1.24.4)\n",
      "Installing collected packages: opencv-python\n",
      "Successfully installed opencv-python-4.9.0.80\n"
     ]
    }
   ],
   "source": [
    "!pip install opencv-python"
   ]
  },
  {
   "cell_type": "code",
   "execution_count": 7,
   "id": "8ad166f9",
   "metadata": {
    "ExecuteTime": {
     "end_time": "2024-02-11T00:37:29.672680Z",
     "start_time": "2024-02-11T00:37:29.661423Z"
    }
   },
   "outputs": [
    {
     "name": "stdout",
     "output_type": "stream",
     "text": [
      "Resim siyah beyaz olarak kaydedildi: siyah_beyaz_resim.jpg\n"
     ]
    }
   ],
   "source": [
    "import cv2\n",
    "\n",
    "# Resmi oku\n",
    "image_path = \"profilfoto-photoaidcom-cropped.jpeg\"\n",
    "original_image = cv2.imread(image_path)\n",
    "\n",
    "# Resmi siyah beyaz yap\n",
    "gray_image = cv2.cvtColor(original_image, cv2.COLOR_BGR2GRAY)\n",
    "\n",
    "# Siyah beyaz resmi kaydet\n",
    "output_path = \"siyah_beyaz_resim.jpg\"\n",
    "cv2.imwrite(output_path, gray_image)\n",
    "\n",
    "print(f\"Resim siyah beyaz olarak kaydedildi: {output_path}\")"
   ]
  },
  {
   "cell_type": "code",
   "execution_count": 11,
   "id": "16a4a925",
   "metadata": {
    "ExecuteTime": {
     "end_time": "2024-02-11T18:04:41.600228Z",
     "start_time": "2024-02-11T18:04:41.471993Z"
    }
   },
   "outputs": [
    {
     "name": "stdout",
     "output_type": "stream",
     "text": [
      "Animasyon kaydedildi: animation.gif\n"
     ]
    }
   ],
   "source": [
    "from PIL import Image\n",
    "\n",
    "# Çerçeve resimlerinin dosya yollarını belirtin\n",
    "frame1_path = \"profilfoto-photoaidcom-cropped.jpeg\"\n",
    "frame2_path = \"profilfoto.jpeg\"\n",
    "# ... diğer çerçeve resimleri\n",
    "\n",
    "# Çerçeve resimlerini açın\n",
    "frame1 = Image.open(frame1_path)\n",
    "frame2 = Image.open(frame2_path)\n",
    "# ... diğer çerçeve resimleri\n",
    "\n",
    "# Animasyonu oluşturmak için çerçeve resimlerini birleştirin\n",
    "frames = [frame1, frame2]  # Diğer çerçeve resimlerini buraya ekleyin\n",
    "\n",
    "# Animasyonu kaydetmek için bir dosya adı belirtin\n",
    "output_path = \"animation.gif\"\n",
    "\n",
    "# Çerçeve resimlerini birleştirerek animasyonu oluşturun\n",
    "frames[0].save(output_path, save_all=True, append_images=frames[1:], duration=200, loop=0)\n",
    "\n",
    "print(f\"Animasyon kaydedildi: {output_path}\")"
   ]
  },
  {
   "cell_type": "code",
   "execution_count": 12,
   "id": "a0634230",
   "metadata": {
    "ExecuteTime": {
     "end_time": "2024-02-11T18:51:55.205943Z",
     "start_time": "2024-02-11T18:49:23.563926Z"
    }
   },
   "outputs": [
    {
     "name": "stdout",
     "output_type": "stream",
     "text": [
      "Collecting moviepyNote: you may need to restart the kernel to use updated packages.\n",
      "\n",
      "  Downloading moviepy-1.0.3.tar.gz (388 kB)\n",
      "     ------------------------------------ 388.3/388.3 kB 133.0 kB/s eta 0:00:00\n",
      "  Preparing metadata (setup.py): started\n",
      "  Preparing metadata (setup.py): finished with status 'done'\n",
      "Collecting decorator<5.0,>=4.0.2\n",
      "  Downloading decorator-4.4.2-py2.py3-none-any.whl (9.2 kB)\n",
      "Requirement already satisfied: tqdm<5.0,>=4.11.2 in c:\\users\\master\\anaconda3\\lib\\site-packages (from moviepy) (4.64.1)\n",
      "Requirement already satisfied: requests<3.0,>=2.8.1 in c:\\users\\master\\anaconda3\\lib\\site-packages (from moviepy) (2.31.0)\n",
      "Collecting proglog<=1.0.0\n",
      "  Downloading proglog-0.1.10-py3-none-any.whl (6.1 kB)\n",
      "Requirement already satisfied: numpy>=1.17.3 in c:\\users\\master\\anaconda3\\lib\\site-packages (from moviepy) (1.24.4)\n",
      "Requirement already satisfied: imageio<3.0,>=2.5 in c:\\users\\master\\anaconda3\\lib\\site-packages (from moviepy) (2.19.3)\n",
      "Collecting imageio_ffmpeg>=0.2.0\n",
      "  Downloading imageio_ffmpeg-0.4.9-py3-none-win_amd64.whl (22.6 MB)\n",
      "     -------------------------------------- 22.6/22.6 MB 411.2 kB/s eta 0:00:00\n",
      "Requirement already satisfied: pillow>=8.3.2 in c:\\users\\master\\anaconda3\\lib\\site-packages (from imageio<3.0,>=2.5->moviepy) (9.2.0)\n",
      "Requirement already satisfied: setuptools in c:\\users\\master\\anaconda3\\lib\\site-packages (from imageio_ffmpeg>=0.2.0->moviepy) (63.4.1)\n",
      "Requirement already satisfied: idna<4,>=2.5 in c:\\users\\master\\anaconda3\\lib\\site-packages (from requests<3.0,>=2.8.1->moviepy) (3.3)\n",
      "Requirement already satisfied: urllib3<3,>=1.21.1 in c:\\users\\master\\anaconda3\\lib\\site-packages (from requests<3.0,>=2.8.1->moviepy) (2.2.0)\n",
      "Requirement already satisfied: certifi>=2017.4.17 in c:\\users\\master\\anaconda3\\lib\\site-packages (from requests<3.0,>=2.8.1->moviepy) (2022.9.14)\n",
      "Requirement already satisfied: charset-normalizer<4,>=2 in c:\\users\\master\\anaconda3\\lib\\site-packages (from requests<3.0,>=2.8.1->moviepy) (2.0.4)\n",
      "Requirement already satisfied: colorama in c:\\users\\master\\anaconda3\\lib\\site-packages (from tqdm<5.0,>=4.11.2->moviepy) (0.4.5)\n",
      "Building wheels for collected packages: moviepy\n",
      "  Building wheel for moviepy (setup.py): started\n",
      "  Building wheel for moviepy (setup.py): finished with status 'done'\n",
      "  Created wheel for moviepy: filename=moviepy-1.0.3-py3-none-any.whl size=110728 sha256=4e8912bd73120429cfbdcc34fc9b4af1a6e1c51b9f9b26fb2bc9e107f3de7188\n",
      "  Stored in directory: c:\\users\\master\\appdata\\local\\pip\\cache\\wheels\\29\\15\\e4\\4f790bec6acd51a00b67e8ee1394f0bc6e0135c315f8ff399a\n",
      "Successfully built moviepy\n",
      "Installing collected packages: imageio_ffmpeg, decorator, proglog, moviepy\n",
      "  Attempting uninstall: decorator\n",
      "    Found existing installation: decorator 5.1.1\n",
      "    Uninstalling decorator-5.1.1:\n",
      "      Successfully uninstalled decorator-5.1.1\n",
      "Successfully installed decorator-4.4.2 imageio_ffmpeg-0.4.9 moviepy-1.0.3 proglog-0.1.10\n"
     ]
    }
   ],
   "source": [
    "pip install moviepy"
   ]
  },
  {
   "cell_type": "code",
   "execution_count": 13,
   "id": "2a62ee83",
   "metadata": {
    "ExecuteTime": {
     "end_time": "2024-02-11T18:57:50.470773Z",
     "start_time": "2024-02-11T18:55:46.605751Z"
    }
   },
   "outputs": [
    {
     "name": "stdout",
     "output_type": "stream",
     "text": [
      "MoviePy - Building file video_part.gif with imageio.\n"
     ]
    },
    {
     "name": "stderr",
     "output_type": "stream",
     "text": [
      "                                                              "
     ]
    },
    {
     "name": "stdout",
     "output_type": "stream",
     "text": [
      "Video kısmı GIF olarak kaydedildi: video_part.gif\n"
     ]
    },
    {
     "name": "stderr",
     "output_type": "stream",
     "text": [
      "\r"
     ]
    }
   ],
   "source": [
    "from moviepy.editor import VideoFileClip\n",
    "\n",
    "# Video dosyasını yükleyin\n",
    "video_path = \"kepce.mp4\"\n",
    "video_clip = VideoFileClip(video_path)\n",
    "\n",
    "# Kesmek istediğiniz zaman aralığını belirleyin (örneğin 10 saniye ile 20 saniye arası)\n",
    "start_time = 0\n",
    "end_time = 14\n",
    "trimmed_clip = video_clip.subclip(start_time, end_time)\n",
    "\n",
    "# GIF olarak kaydedin\n",
    "gif_output_path = \"video_part.gif\"\n",
    "trimmed_clip.write_gif(gif_output_path)\n",
    "\n",
    "print(f\"Video kısmı GIF olarak kaydedildi: {gif_output_path}\")"
   ]
  },
  {
   "cell_type": "code",
   "execution_count": null,
   "id": "7d5f81f1",
   "metadata": {},
   "outputs": [],
   "source": []
  },
  {
   "cell_type": "code",
   "execution_count": null,
   "id": "5d069589",
   "metadata": {},
   "outputs": [],
   "source": []
  },
  {
   "cell_type": "code",
   "execution_count": null,
   "id": "89381f05",
   "metadata": {},
   "outputs": [],
   "source": []
  },
  {
   "cell_type": "code",
   "execution_count": null,
   "id": "88c81b20",
   "metadata": {},
   "outputs": [],
   "source": []
  }
 ],
 "metadata": {
  "hide_input": false,
  "kernelspec": {
   "display_name": "Python 3 (ipykernel)",
   "language": "python",
   "name": "python3"
  },
  "language_info": {
   "codemirror_mode": {
    "name": "ipython",
    "version": 3
   },
   "file_extension": ".py",
   "mimetype": "text/x-python",
   "name": "python",
   "nbconvert_exporter": "python",
   "pygments_lexer": "ipython3",
   "version": "3.9.13"
  },
  "toc": {
   "base_numbering": 1,
   "nav_menu": {},
   "number_sections": true,
   "sideBar": true,
   "skip_h1_title": false,
   "title_cell": "Table of Contents",
   "title_sidebar": "Contents",
   "toc_cell": false,
   "toc_position": {},
   "toc_section_display": true,
   "toc_window_display": false
  }
 },
 "nbformat": 4,
 "nbformat_minor": 5
}
