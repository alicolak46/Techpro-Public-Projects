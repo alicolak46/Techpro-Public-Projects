{
 "cells": [
  {
   "cell_type": "code",
   "execution_count": 9,
   "id": "df1634a8",
   "metadata": {
    "ExecuteTime": {
     "end_time": "2024-02-11T00:38:40.106441Z",
     "start_time": "2024-02-11T00:38:36.556176Z"
    }
   },
   "outputs": [],
   "source": [
    "from PIL import Image\n",
    "\n",
    "# Fotoğrafınızın dosya yolunu buraya girin\n",
    "foto_yolu = \"profilfoto-photoaidcom-cropped.jpeg\"\n",
    "\n",
    "# Fotoğrafı açın\n",
    "foto = Image.open(foto_yolu)\n",
    "\n",
    "# Siyah-beyaz yap\n",
    "siyah_beyaz_foto = foto.convert(\"L\")\n",
    "\n",
    "# Yeni fotoğrafı kaydet\n",
    "siyah_beyaz_foto.save(\"siyah_beyaz_fotocropped.jpg\")\n",
    "\n",
    "# Kaydedilen fotoğrafı göster\n",
    "siyah_beyaz_foto.show()"
   ]
  },
  {
   "cell_type": "code",
   "execution_count": 4,
   "id": "0ebad7a8",
   "metadata": {
    "ExecuteTime": {
     "end_time": "2024-02-11T00:36:10.462942Z",
     "start_time": "2024-02-11T00:35:33.350302Z"
    }
   },
   "outputs": [
    {
     "name": "stdout",
     "output_type": "stream",
     "text": [
      "Collecting opencv-python\n",
      "  Downloading opencv_python-4.9.0.80-cp37-abi3-win_amd64.whl (38.6 MB)\n",
      "     ---------------------------------------- 38.6/38.6 MB 1.1 MB/s eta 0:00:00\n",
      "Requirement already satisfied: numpy>=1.17.3 in c:\\users\\master\\anaconda3\\lib\\site-packages (from opencv-python) (1.24.4)\n",
      "Installing collected packages: opencv-python\n",
      "Successfully installed opencv-python-4.9.0.80\n"
     ]
    }
   ],
   "source": [
    "!pip install opencv-python"
   ]
  },
  {
   "cell_type": "code",
   "execution_count": 7,
   "id": "8ad166f9",
   "metadata": {
    "ExecuteTime": {
     "end_time": "2024-02-11T00:37:29.672680Z",
     "start_time": "2024-02-11T00:37:29.661423Z"
    }
   },
   "outputs": [
    {
     "name": "stdout",
     "output_type": "stream",
     "text": [
      "Resim siyah beyaz olarak kaydedildi: siyah_beyaz_resim.jpg\n"
     ]
    }
   ],
   "source": [
    "import cv2\n",
    "\n",
    "# Resmi oku\n",
    "image_path = \"profilfoto-photoaidcom-cropped.jpeg\"\n",
    "original_image = cv2.imread(image_path)\n",
    "\n",
    "# Resmi siyah beyaz yap\n",
    "gray_image = cv2.cvtColor(original_image, cv2.COLOR_BGR2GRAY)\n",
    "\n",
    "# Siyah beyaz resmi kaydet\n",
    "output_path = \"siyah_beyaz_resim.jpg\"\n",
    "cv2.imwrite(output_path, gray_image)\n",
    "\n",
    "print(f\"Resim siyah beyaz olarak kaydedildi: {output_path}\")"
   ]
  },
  {
   "cell_type": "code",
   "execution_count": null,
   "id": "16a4a925",
   "metadata": {},
   "outputs": [],
   "source": []
  }
 ],
 "metadata": {
  "hide_input": false,
  "kernelspec": {
   "display_name": "Python 3 (ipykernel)",
   "language": "python",
   "name": "python3"
  },
  "language_info": {
   "codemirror_mode": {
    "name": "ipython",
    "version": 3
   },
   "file_extension": ".py",
   "mimetype": "text/x-python",
   "name": "python",
   "nbconvert_exporter": "python",
   "pygments_lexer": "ipython3",
   "version": "3.9.13"
  },
  "toc": {
   "base_numbering": 1,
   "nav_menu": {},
   "number_sections": true,
   "sideBar": true,
   "skip_h1_title": false,
   "title_cell": "Table of Contents",
   "title_sidebar": "Contents",
   "toc_cell": false,
   "toc_position": {},
   "toc_section_display": true,
   "toc_window_display": false
  }
 },
 "nbformat": 4,
 "nbformat_minor": 5
}
